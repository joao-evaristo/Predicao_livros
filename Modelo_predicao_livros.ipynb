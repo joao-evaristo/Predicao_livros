{
  "nbformat": 4,
  "nbformat_minor": 0,
  "metadata": {
    "colab": {
      "provenance": [],
      "authorship_tag": "ABX9TyOYN+y0ADo2grPfo/q92Uwu",
      "include_colab_link": true
    },
    "kernelspec": {
      "name": "python3",
      "display_name": "Python 3"
    },
    "language_info": {
      "name": "python"
    }
  },
  "cells": [
    {
      "cell_type": "markdown",
      "metadata": {
        "id": "view-in-github",
        "colab_type": "text"
      },
      "source": [
        "<a href=\"https://colab.research.google.com/github/joao-evaristo/Predicao_livros/blob/main/Modelo_predicao_livros.ipynb\" target=\"_parent\"><img src=\"https://colab.research.google.com/assets/colab-badge.svg\" alt=\"Open In Colab\"/></a>"
      ]
    },
    {
      "cell_type": "markdown",
      "source": [
        "## Predição de preços de livros\n",
        "\n",
        "Nesse experimento será utilizado dados obtidos de editoras do segmento cristão. Para reunir informações foi utilizado um web scraping feito com a biblioteca Selenium do Python. Por meio dele, todas as informações foram extraidas diretamente dos sites públicos dessas editoras. As editoras selecionadas para compor o dataset foram as seguintes: [Fiel](https://www.editorafiel.com.br/), [Trinitas](https://www.editoratrinitas.com.br/), [Cultura Cristã](https://editoraculturacrista.com.br/), [Hagnos](https://hagnos.com.br/), [Pronobis](https://pronobiseditora.com.br/), [Shedd](https://sheddpublicacoes.com.br/) e [Vida Nova](https://www.vidanova.com.br/).\n",
        "\n",
        "O trecho a seguir serve para instanciar um dataframe para cada editora por meio do url dos datasets, que estão armazenados no [GitHub](https://github.com/joao-evaristo/Predicao_livros) no formato CSV."
      ],
      "metadata": {
        "id": "uSB5W60hxwe-"
      }
    },
    {
      "cell_type": "code",
      "execution_count": 215,
      "metadata": {
        "id": "bOiOiL2B1dB7"
      },
      "outputs": [],
      "source": [
        "url_fiel = 'https://raw.githubusercontent.com/joao-evaristo/Predicao_livros/main/Livros_informacoes_Fiel.csv'\n",
        "url_trinitas = 'https://raw.githubusercontent.com/joao-evaristo/Predicao_livros/main/Livros_informacoes_Trinitas.csv'\n",
        "url_culturacrista = 'https://raw.githubusercontent.com/joao-evaristo/Predicao_livros/main/Livros_informacoes_CulturaCrista.csv'\n",
        "url_hagnos = 'https://raw.githubusercontent.com/joao-evaristo/Predicao_livros/main/Livros_informacoes_Hagnos.csv'\n",
        "url_pronobis = 'https://raw.githubusercontent.com/joao-evaristo/Predicao_livros/main/Livros_informacoes_Pronobis.csv'\n",
        "url_shedd = 'https://raw.githubusercontent.com/joao-evaristo/Predicao_livros/main/Livros_informacoes_Shedd.csv'\n",
        "url_vidanova = 'https://raw.githubusercontent.com/joao-evaristo/Predicao_livros/main/Livros_informacoes_VidaNova.csv'"
      ]
    },
    {
      "cell_type": "code",
      "source": [
        "import pandas as pd\n",
        "data_fiel = pd.read_csv(url_fiel)\n",
        "data_fiel.head()"
      ],
      "metadata": {
        "colab": {
          "base_uri": "https://localhost:8080/",
          "height": 206
        },
        "id": "_ZR_e1J4_ZtK",
        "outputId": "bfcff068-6ff8-4e1a-a409-9a7586829157"
      },
      "execution_count": 216,
      "outputs": [
        {
          "output_type": "execute_result",
          "data": {
            "text/plain": [
              "                                              Título              Autor  \\\n",
              "0        Adoração - Prioridade, Princípios e Prática  John Charles Ryle   \n",
              "1                                    Adoração no Lar         Joel Beeke   \n",
              "2                                      Amado Timóteo          Tom Ascol   \n",
              "3  Antes de Partir: Encarando a morte com confian...      Nancy Guthrie   \n",
              "4  O Antigo Evangelho: Um desafio para redescobri...       J. I. PACKER   \n",
              "\n",
              "        Editora Páginas           Formato       Peso Acabamento  \\\n",
              "0  Editora Fiel      48  12.00 x 16.50 cm   53.00 g.   Brochura   \n",
              "1  Editora Fiel      96  12.00 x 16.00 cm  130.00 g.   Brochura   \n",
              "2  Editora Fiel     320  14.00 x 21.00 cm  391.00 g.   Brochura   \n",
              "3  Editora Fiel     176  14.00 x 21.00 cm  205.00 g.   Brochura   \n",
              "4  Editora FIEL      72  12.00 x 16.00 cm   73.00 g.   Brochura   \n",
              "\n",
              "                           Categoria  Edição  Preço  \n",
              "0  Doutrina, Devocional, Vida Cristã  2010.0   17.7  \n",
              "1               Familia, Vida Cristã  2012.0   28.8  \n",
              "2               Teologia, Ministério  2005.0   81.9  \n",
              "3        Aconselhamento, Vida Cristã  2013.0   51.4  \n",
              "4                           Doutrina  2013.0   35.5  "
            ],
            "text/html": [
              "\n",
              "  <div id=\"df-ee9c5158-5021-4217-878d-638e27392cf2\">\n",
              "    <div class=\"colab-df-container\">\n",
              "      <div>\n",
              "<style scoped>\n",
              "    .dataframe tbody tr th:only-of-type {\n",
              "        vertical-align: middle;\n",
              "    }\n",
              "\n",
              "    .dataframe tbody tr th {\n",
              "        vertical-align: top;\n",
              "    }\n",
              "\n",
              "    .dataframe thead th {\n",
              "        text-align: right;\n",
              "    }\n",
              "</style>\n",
              "<table border=\"1\" class=\"dataframe\">\n",
              "  <thead>\n",
              "    <tr style=\"text-align: right;\">\n",
              "      <th></th>\n",
              "      <th>Título</th>\n",
              "      <th>Autor</th>\n",
              "      <th>Editora</th>\n",
              "      <th>Páginas</th>\n",
              "      <th>Formato</th>\n",
              "      <th>Peso</th>\n",
              "      <th>Acabamento</th>\n",
              "      <th>Categoria</th>\n",
              "      <th>Edição</th>\n",
              "      <th>Preço</th>\n",
              "    </tr>\n",
              "  </thead>\n",
              "  <tbody>\n",
              "    <tr>\n",
              "      <th>0</th>\n",
              "      <td>Adoração - Prioridade, Princípios e Prática</td>\n",
              "      <td>John Charles Ryle</td>\n",
              "      <td>Editora Fiel</td>\n",
              "      <td>48</td>\n",
              "      <td>12.00 x 16.50 cm</td>\n",
              "      <td>53.00 g.</td>\n",
              "      <td>Brochura</td>\n",
              "      <td>Doutrina, Devocional, Vida Cristã</td>\n",
              "      <td>2010.0</td>\n",
              "      <td>17.7</td>\n",
              "    </tr>\n",
              "    <tr>\n",
              "      <th>1</th>\n",
              "      <td>Adoração no Lar</td>\n",
              "      <td>Joel Beeke</td>\n",
              "      <td>Editora Fiel</td>\n",
              "      <td>96</td>\n",
              "      <td>12.00 x 16.00 cm</td>\n",
              "      <td>130.00 g.</td>\n",
              "      <td>Brochura</td>\n",
              "      <td>Familia, Vida Cristã</td>\n",
              "      <td>2012.0</td>\n",
              "      <td>28.8</td>\n",
              "    </tr>\n",
              "    <tr>\n",
              "      <th>2</th>\n",
              "      <td>Amado Timóteo</td>\n",
              "      <td>Tom Ascol</td>\n",
              "      <td>Editora Fiel</td>\n",
              "      <td>320</td>\n",
              "      <td>14.00 x 21.00 cm</td>\n",
              "      <td>391.00 g.</td>\n",
              "      <td>Brochura</td>\n",
              "      <td>Teologia, Ministério</td>\n",
              "      <td>2005.0</td>\n",
              "      <td>81.9</td>\n",
              "    </tr>\n",
              "    <tr>\n",
              "      <th>3</th>\n",
              "      <td>Antes de Partir: Encarando a morte com confian...</td>\n",
              "      <td>Nancy Guthrie</td>\n",
              "      <td>Editora Fiel</td>\n",
              "      <td>176</td>\n",
              "      <td>14.00 x 21.00 cm</td>\n",
              "      <td>205.00 g.</td>\n",
              "      <td>Brochura</td>\n",
              "      <td>Aconselhamento, Vida Cristã</td>\n",
              "      <td>2013.0</td>\n",
              "      <td>51.4</td>\n",
              "    </tr>\n",
              "    <tr>\n",
              "      <th>4</th>\n",
              "      <td>O Antigo Evangelho: Um desafio para redescobri...</td>\n",
              "      <td>J. I. PACKER</td>\n",
              "      <td>Editora FIEL</td>\n",
              "      <td>72</td>\n",
              "      <td>12.00 x 16.00 cm</td>\n",
              "      <td>73.00 g.</td>\n",
              "      <td>Brochura</td>\n",
              "      <td>Doutrina</td>\n",
              "      <td>2013.0</td>\n",
              "      <td>35.5</td>\n",
              "    </tr>\n",
              "  </tbody>\n",
              "</table>\n",
              "</div>\n",
              "      <button class=\"colab-df-convert\" onclick=\"convertToInteractive('df-ee9c5158-5021-4217-878d-638e27392cf2')\"\n",
              "              title=\"Convert this dataframe to an interactive table.\"\n",
              "              style=\"display:none;\">\n",
              "        \n",
              "  <svg xmlns=\"http://www.w3.org/2000/svg\" height=\"24px\"viewBox=\"0 0 24 24\"\n",
              "       width=\"24px\">\n",
              "    <path d=\"M0 0h24v24H0V0z\" fill=\"none\"/>\n",
              "    <path d=\"M18.56 5.44l.94 2.06.94-2.06 2.06-.94-2.06-.94-.94-2.06-.94 2.06-2.06.94zm-11 1L8.5 8.5l.94-2.06 2.06-.94-2.06-.94L8.5 2.5l-.94 2.06-2.06.94zm10 10l.94 2.06.94-2.06 2.06-.94-2.06-.94-.94-2.06-.94 2.06-2.06.94z\"/><path d=\"M17.41 7.96l-1.37-1.37c-.4-.4-.92-.59-1.43-.59-.52 0-1.04.2-1.43.59L10.3 9.45l-7.72 7.72c-.78.78-.78 2.05 0 2.83L4 21.41c.39.39.9.59 1.41.59.51 0 1.02-.2 1.41-.59l7.78-7.78 2.81-2.81c.8-.78.8-2.07 0-2.86zM5.41 20L4 18.59l7.72-7.72 1.47 1.35L5.41 20z\"/>\n",
              "  </svg>\n",
              "      </button>\n",
              "      \n",
              "  <style>\n",
              "    .colab-df-container {\n",
              "      display:flex;\n",
              "      flex-wrap:wrap;\n",
              "      gap: 12px;\n",
              "    }\n",
              "\n",
              "    .colab-df-convert {\n",
              "      background-color: #E8F0FE;\n",
              "      border: none;\n",
              "      border-radius: 50%;\n",
              "      cursor: pointer;\n",
              "      display: none;\n",
              "      fill: #1967D2;\n",
              "      height: 32px;\n",
              "      padding: 0 0 0 0;\n",
              "      width: 32px;\n",
              "    }\n",
              "\n",
              "    .colab-df-convert:hover {\n",
              "      background-color: #E2EBFA;\n",
              "      box-shadow: 0px 1px 2px rgba(60, 64, 67, 0.3), 0px 1px 3px 1px rgba(60, 64, 67, 0.15);\n",
              "      fill: #174EA6;\n",
              "    }\n",
              "\n",
              "    [theme=dark] .colab-df-convert {\n",
              "      background-color: #3B4455;\n",
              "      fill: #D2E3FC;\n",
              "    }\n",
              "\n",
              "    [theme=dark] .colab-df-convert:hover {\n",
              "      background-color: #434B5C;\n",
              "      box-shadow: 0px 1px 3px 1px rgba(0, 0, 0, 0.15);\n",
              "      filter: drop-shadow(0px 1px 2px rgba(0, 0, 0, 0.3));\n",
              "      fill: #FFFFFF;\n",
              "    }\n",
              "  </style>\n",
              "\n",
              "      <script>\n",
              "        const buttonEl =\n",
              "          document.querySelector('#df-ee9c5158-5021-4217-878d-638e27392cf2 button.colab-df-convert');\n",
              "        buttonEl.style.display =\n",
              "          google.colab.kernel.accessAllowed ? 'block' : 'none';\n",
              "\n",
              "        async function convertToInteractive(key) {\n",
              "          const element = document.querySelector('#df-ee9c5158-5021-4217-878d-638e27392cf2');\n",
              "          const dataTable =\n",
              "            await google.colab.kernel.invokeFunction('convertToInteractive',\n",
              "                                                     [key], {});\n",
              "          if (!dataTable) return;\n",
              "\n",
              "          const docLinkHtml = 'Like what you see? Visit the ' +\n",
              "            '<a target=\"_blank\" href=https://colab.research.google.com/notebooks/data_table.ipynb>data table notebook</a>'\n",
              "            + ' to learn more about interactive tables.';\n",
              "          element.innerHTML = '';\n",
              "          dataTable['output_type'] = 'display_data';\n",
              "          await google.colab.output.renderOutput(dataTable, element);\n",
              "          const docLink = document.createElement('div');\n",
              "          docLink.innerHTML = docLinkHtml;\n",
              "          element.appendChild(docLink);\n",
              "        }\n",
              "      </script>\n",
              "    </div>\n",
              "  </div>\n",
              "  "
            ]
          },
          "metadata": {},
          "execution_count": 216
        }
      ]
    },
    {
      "cell_type": "code",
      "source": [
        "data_trinitas = pd.read_csv(url_trinitas)\n",
        "data_trinitas.head()"
      ],
      "metadata": {
        "colab": {
          "base_uri": "https://localhost:8080/",
          "height": 206
        },
        "id": "m19HPZ_0_ad5",
        "outputId": "5175cce5-cfa8-4e0c-be62-0d98fd9054fb"
      },
      "execution_count": 217,
      "outputs": [
        {
          "output_type": "execute_result",
          "data": {
            "text/plain": [
              "                                              Título  \\\n",
              "0  Livro Os Inklings: O grupo literário de C.S. L...   \n",
              "1      Livro Meios Essenciais de Graça - Paul Washer   \n",
              "2  Livro Breve Manual de Conservadorismo - Russel...   \n",
              "3  Livro Cultivando um Coração de Virtudes - Vige...   \n",
              "4                    Livro Gratidão - Mary K. Mohler   \n",
              "\n",
              "                               Autor           Editora  Páginas      Formato  \\\n",
              "0  Igor Gaspar e Gabriele Greggersen  Editora Trinitas    112.0  14cm x 21cm   \n",
              "1                        Paul Washer  Editora Trinitas     92.0  14cm x 21cm   \n",
              "2                       Russell Kirk  Editora Trinitas    136.0  14cm x 21cm   \n",
              "3                      Vigen Guroian  Editora Trinitas    252.0  14cm x 21cm   \n",
              "4                     Mary K. Mohler  Editora Trinitas    144.0  14cm x 21cm   \n",
              "\n",
              "         Peso Acabamento  Categoria     Edição  Preço  \n",
              "0  250 gramas   Brochura        NaN  1ª Edição     40  \n",
              "1  150 gramas   Brochura        NaN  1ª Edição     30  \n",
              "2  250 gramas   Brochura        NaN  1ª Edição     40  \n",
              "3  290 gramas   Brochura        NaN  1ª Edição     50  \n",
              "4  150 gramas   Brochura        NaN  1ª Edição     40  "
            ],
            "text/html": [
              "\n",
              "  <div id=\"df-f6079727-a2e5-4961-afc1-68aa686e04f0\">\n",
              "    <div class=\"colab-df-container\">\n",
              "      <div>\n",
              "<style scoped>\n",
              "    .dataframe tbody tr th:only-of-type {\n",
              "        vertical-align: middle;\n",
              "    }\n",
              "\n",
              "    .dataframe tbody tr th {\n",
              "        vertical-align: top;\n",
              "    }\n",
              "\n",
              "    .dataframe thead th {\n",
              "        text-align: right;\n",
              "    }\n",
              "</style>\n",
              "<table border=\"1\" class=\"dataframe\">\n",
              "  <thead>\n",
              "    <tr style=\"text-align: right;\">\n",
              "      <th></th>\n",
              "      <th>Título</th>\n",
              "      <th>Autor</th>\n",
              "      <th>Editora</th>\n",
              "      <th>Páginas</th>\n",
              "      <th>Formato</th>\n",
              "      <th>Peso</th>\n",
              "      <th>Acabamento</th>\n",
              "      <th>Categoria</th>\n",
              "      <th>Edição</th>\n",
              "      <th>Preço</th>\n",
              "    </tr>\n",
              "  </thead>\n",
              "  <tbody>\n",
              "    <tr>\n",
              "      <th>0</th>\n",
              "      <td>Livro Os Inklings: O grupo literário de C.S. L...</td>\n",
              "      <td>Igor Gaspar e Gabriele Greggersen</td>\n",
              "      <td>Editora Trinitas</td>\n",
              "      <td>112.0</td>\n",
              "      <td>14cm x 21cm</td>\n",
              "      <td>250 gramas</td>\n",
              "      <td>Brochura</td>\n",
              "      <td>NaN</td>\n",
              "      <td>1ª Edição</td>\n",
              "      <td>40</td>\n",
              "    </tr>\n",
              "    <tr>\n",
              "      <th>1</th>\n",
              "      <td>Livro Meios Essenciais de Graça - Paul Washer</td>\n",
              "      <td>Paul Washer</td>\n",
              "      <td>Editora Trinitas</td>\n",
              "      <td>92.0</td>\n",
              "      <td>14cm x 21cm</td>\n",
              "      <td>150 gramas</td>\n",
              "      <td>Brochura</td>\n",
              "      <td>NaN</td>\n",
              "      <td>1ª Edição</td>\n",
              "      <td>30</td>\n",
              "    </tr>\n",
              "    <tr>\n",
              "      <th>2</th>\n",
              "      <td>Livro Breve Manual de Conservadorismo - Russel...</td>\n",
              "      <td>Russell Kirk</td>\n",
              "      <td>Editora Trinitas</td>\n",
              "      <td>136.0</td>\n",
              "      <td>14cm x 21cm</td>\n",
              "      <td>250 gramas</td>\n",
              "      <td>Brochura</td>\n",
              "      <td>NaN</td>\n",
              "      <td>1ª Edição</td>\n",
              "      <td>40</td>\n",
              "    </tr>\n",
              "    <tr>\n",
              "      <th>3</th>\n",
              "      <td>Livro Cultivando um Coração de Virtudes - Vige...</td>\n",
              "      <td>Vigen Guroian</td>\n",
              "      <td>Editora Trinitas</td>\n",
              "      <td>252.0</td>\n",
              "      <td>14cm x 21cm</td>\n",
              "      <td>290 gramas</td>\n",
              "      <td>Brochura</td>\n",
              "      <td>NaN</td>\n",
              "      <td>1ª Edição</td>\n",
              "      <td>50</td>\n",
              "    </tr>\n",
              "    <tr>\n",
              "      <th>4</th>\n",
              "      <td>Livro Gratidão - Mary K. Mohler</td>\n",
              "      <td>Mary K. Mohler</td>\n",
              "      <td>Editora Trinitas</td>\n",
              "      <td>144.0</td>\n",
              "      <td>14cm x 21cm</td>\n",
              "      <td>150 gramas</td>\n",
              "      <td>Brochura</td>\n",
              "      <td>NaN</td>\n",
              "      <td>1ª Edição</td>\n",
              "      <td>40</td>\n",
              "    </tr>\n",
              "  </tbody>\n",
              "</table>\n",
              "</div>\n",
              "      <button class=\"colab-df-convert\" onclick=\"convertToInteractive('df-f6079727-a2e5-4961-afc1-68aa686e04f0')\"\n",
              "              title=\"Convert this dataframe to an interactive table.\"\n",
              "              style=\"display:none;\">\n",
              "        \n",
              "  <svg xmlns=\"http://www.w3.org/2000/svg\" height=\"24px\"viewBox=\"0 0 24 24\"\n",
              "       width=\"24px\">\n",
              "    <path d=\"M0 0h24v24H0V0z\" fill=\"none\"/>\n",
              "    <path d=\"M18.56 5.44l.94 2.06.94-2.06 2.06-.94-2.06-.94-.94-2.06-.94 2.06-2.06.94zm-11 1L8.5 8.5l.94-2.06 2.06-.94-2.06-.94L8.5 2.5l-.94 2.06-2.06.94zm10 10l.94 2.06.94-2.06 2.06-.94-2.06-.94-.94-2.06-.94 2.06-2.06.94z\"/><path d=\"M17.41 7.96l-1.37-1.37c-.4-.4-.92-.59-1.43-.59-.52 0-1.04.2-1.43.59L10.3 9.45l-7.72 7.72c-.78.78-.78 2.05 0 2.83L4 21.41c.39.39.9.59 1.41.59.51 0 1.02-.2 1.41-.59l7.78-7.78 2.81-2.81c.8-.78.8-2.07 0-2.86zM5.41 20L4 18.59l7.72-7.72 1.47 1.35L5.41 20z\"/>\n",
              "  </svg>\n",
              "      </button>\n",
              "      \n",
              "  <style>\n",
              "    .colab-df-container {\n",
              "      display:flex;\n",
              "      flex-wrap:wrap;\n",
              "      gap: 12px;\n",
              "    }\n",
              "\n",
              "    .colab-df-convert {\n",
              "      background-color: #E8F0FE;\n",
              "      border: none;\n",
              "      border-radius: 50%;\n",
              "      cursor: pointer;\n",
              "      display: none;\n",
              "      fill: #1967D2;\n",
              "      height: 32px;\n",
              "      padding: 0 0 0 0;\n",
              "      width: 32px;\n",
              "    }\n",
              "\n",
              "    .colab-df-convert:hover {\n",
              "      background-color: #E2EBFA;\n",
              "      box-shadow: 0px 1px 2px rgba(60, 64, 67, 0.3), 0px 1px 3px 1px rgba(60, 64, 67, 0.15);\n",
              "      fill: #174EA6;\n",
              "    }\n",
              "\n",
              "    [theme=dark] .colab-df-convert {\n",
              "      background-color: #3B4455;\n",
              "      fill: #D2E3FC;\n",
              "    }\n",
              "\n",
              "    [theme=dark] .colab-df-convert:hover {\n",
              "      background-color: #434B5C;\n",
              "      box-shadow: 0px 1px 3px 1px rgba(0, 0, 0, 0.15);\n",
              "      filter: drop-shadow(0px 1px 2px rgba(0, 0, 0, 0.3));\n",
              "      fill: #FFFFFF;\n",
              "    }\n",
              "  </style>\n",
              "\n",
              "      <script>\n",
              "        const buttonEl =\n",
              "          document.querySelector('#df-f6079727-a2e5-4961-afc1-68aa686e04f0 button.colab-df-convert');\n",
              "        buttonEl.style.display =\n",
              "          google.colab.kernel.accessAllowed ? 'block' : 'none';\n",
              "\n",
              "        async function convertToInteractive(key) {\n",
              "          const element = document.querySelector('#df-f6079727-a2e5-4961-afc1-68aa686e04f0');\n",
              "          const dataTable =\n",
              "            await google.colab.kernel.invokeFunction('convertToInteractive',\n",
              "                                                     [key], {});\n",
              "          if (!dataTable) return;\n",
              "\n",
              "          const docLinkHtml = 'Like what you see? Visit the ' +\n",
              "            '<a target=\"_blank\" href=https://colab.research.google.com/notebooks/data_table.ipynb>data table notebook</a>'\n",
              "            + ' to learn more about interactive tables.';\n",
              "          element.innerHTML = '';\n",
              "          dataTable['output_type'] = 'display_data';\n",
              "          await google.colab.output.renderOutput(dataTable, element);\n",
              "          const docLink = document.createElement('div');\n",
              "          docLink.innerHTML = docLinkHtml;\n",
              "          element.appendChild(docLink);\n",
              "        }\n",
              "      </script>\n",
              "    </div>\n",
              "  </div>\n",
              "  "
            ]
          },
          "metadata": {},
          "execution_count": 217
        }
      ]
    },
    {
      "cell_type": "code",
      "source": [
        "data_culturacrista = pd.read_csv(url_culturacrista)\n",
        "data_culturacrista.head()"
      ],
      "metadata": {
        "colab": {
          "base_uri": "https://localhost:8080/",
          "height": 206
        },
        "id": "szME7zPR_7Ni",
        "outputId": "7a9dc433-cb2c-4316-dad9-5ceb24c5a653"
      },
      "execution_count": 218,
      "outputs": [
        {
          "output_type": "execute_result",
          "data": {
            "text/plain": [
              "                                              Título         Autor  \\\n",
              "0  Firmando os Passos (06) - O livro de Deus - Al...  Desconhecido   \n",
              "1  Firmando os Passos (06) - O livro de Deus - Al...  Desconhecido   \n",
              "2  Firmando os Passos (06) - O livro de Deus - Pr...  Desconhecido   \n",
              "3  Firmando os Passos (06) - O livro de Deus - Pr...  Desconhecido   \n",
              "4  Firmando os Passos (06) - O livro de Deus – Vi...  Desconhecido   \n",
              "\n",
              "          Editora Páginas     Formato      Peso Acabamento  Categoria  Edição  \\\n",
              "0  Cultura Cristã      16  31 × 22 cm  0.120 kg   Envelope        NaN  2009.0   \n",
              "1  Cultura Cristã      16  31 × 22 cm  0.120 kg   Envelope        NaN  2009.0   \n",
              "2  Cultura Cristã      56  21 × 28 cm  0.140 kg   Brochura        NaN  2009.0   \n",
              "3  Cultura Cristã      56  21 × 28 cm  0.140 kg   Brochura        NaN  2009.0   \n",
              "4  Cultura Cristã     NaN  44 × 31 cm  0.860 kg        NaN        NaN     NaN   \n",
              "\n",
              "     Preço  \n",
              "0   R$6.00  \n",
              "1   R$6.00  \n",
              "2   R$8.00  \n",
              "3   R$8.00  \n",
              "4  R$20.00  "
            ],
            "text/html": [
              "\n",
              "  <div id=\"df-a33de28d-9d57-4789-aa32-d2d01280895e\">\n",
              "    <div class=\"colab-df-container\">\n",
              "      <div>\n",
              "<style scoped>\n",
              "    .dataframe tbody tr th:only-of-type {\n",
              "        vertical-align: middle;\n",
              "    }\n",
              "\n",
              "    .dataframe tbody tr th {\n",
              "        vertical-align: top;\n",
              "    }\n",
              "\n",
              "    .dataframe thead th {\n",
              "        text-align: right;\n",
              "    }\n",
              "</style>\n",
              "<table border=\"1\" class=\"dataframe\">\n",
              "  <thead>\n",
              "    <tr style=\"text-align: right;\">\n",
              "      <th></th>\n",
              "      <th>Título</th>\n",
              "      <th>Autor</th>\n",
              "      <th>Editora</th>\n",
              "      <th>Páginas</th>\n",
              "      <th>Formato</th>\n",
              "      <th>Peso</th>\n",
              "      <th>Acabamento</th>\n",
              "      <th>Categoria</th>\n",
              "      <th>Edição</th>\n",
              "      <th>Preço</th>\n",
              "    </tr>\n",
              "  </thead>\n",
              "  <tbody>\n",
              "    <tr>\n",
              "      <th>0</th>\n",
              "      <td>Firmando os Passos (06) - O livro de Deus - Al...</td>\n",
              "      <td>Desconhecido</td>\n",
              "      <td>Cultura Cristã</td>\n",
              "      <td>16</td>\n",
              "      <td>31 × 22 cm</td>\n",
              "      <td>0.120 kg</td>\n",
              "      <td>Envelope</td>\n",
              "      <td>NaN</td>\n",
              "      <td>2009.0</td>\n",
              "      <td>R$6.00</td>\n",
              "    </tr>\n",
              "    <tr>\n",
              "      <th>1</th>\n",
              "      <td>Firmando os Passos (06) - O livro de Deus - Al...</td>\n",
              "      <td>Desconhecido</td>\n",
              "      <td>Cultura Cristã</td>\n",
              "      <td>16</td>\n",
              "      <td>31 × 22 cm</td>\n",
              "      <td>0.120 kg</td>\n",
              "      <td>Envelope</td>\n",
              "      <td>NaN</td>\n",
              "      <td>2009.0</td>\n",
              "      <td>R$6.00</td>\n",
              "    </tr>\n",
              "    <tr>\n",
              "      <th>2</th>\n",
              "      <td>Firmando os Passos (06) - O livro de Deus - Pr...</td>\n",
              "      <td>Desconhecido</td>\n",
              "      <td>Cultura Cristã</td>\n",
              "      <td>56</td>\n",
              "      <td>21 × 28 cm</td>\n",
              "      <td>0.140 kg</td>\n",
              "      <td>Brochura</td>\n",
              "      <td>NaN</td>\n",
              "      <td>2009.0</td>\n",
              "      <td>R$8.00</td>\n",
              "    </tr>\n",
              "    <tr>\n",
              "      <th>3</th>\n",
              "      <td>Firmando os Passos (06) - O livro de Deus - Pr...</td>\n",
              "      <td>Desconhecido</td>\n",
              "      <td>Cultura Cristã</td>\n",
              "      <td>56</td>\n",
              "      <td>21 × 28 cm</td>\n",
              "      <td>0.140 kg</td>\n",
              "      <td>Brochura</td>\n",
              "      <td>NaN</td>\n",
              "      <td>2009.0</td>\n",
              "      <td>R$8.00</td>\n",
              "    </tr>\n",
              "    <tr>\n",
              "      <th>4</th>\n",
              "      <td>Firmando os Passos (06) - O livro de Deus – Vi...</td>\n",
              "      <td>Desconhecido</td>\n",
              "      <td>Cultura Cristã</td>\n",
              "      <td>NaN</td>\n",
              "      <td>44 × 31 cm</td>\n",
              "      <td>0.860 kg</td>\n",
              "      <td>NaN</td>\n",
              "      <td>NaN</td>\n",
              "      <td>NaN</td>\n",
              "      <td>R$20.00</td>\n",
              "    </tr>\n",
              "  </tbody>\n",
              "</table>\n",
              "</div>\n",
              "      <button class=\"colab-df-convert\" onclick=\"convertToInteractive('df-a33de28d-9d57-4789-aa32-d2d01280895e')\"\n",
              "              title=\"Convert this dataframe to an interactive table.\"\n",
              "              style=\"display:none;\">\n",
              "        \n",
              "  <svg xmlns=\"http://www.w3.org/2000/svg\" height=\"24px\"viewBox=\"0 0 24 24\"\n",
              "       width=\"24px\">\n",
              "    <path d=\"M0 0h24v24H0V0z\" fill=\"none\"/>\n",
              "    <path d=\"M18.56 5.44l.94 2.06.94-2.06 2.06-.94-2.06-.94-.94-2.06-.94 2.06-2.06.94zm-11 1L8.5 8.5l.94-2.06 2.06-.94-2.06-.94L8.5 2.5l-.94 2.06-2.06.94zm10 10l.94 2.06.94-2.06 2.06-.94-2.06-.94-.94-2.06-.94 2.06-2.06.94z\"/><path d=\"M17.41 7.96l-1.37-1.37c-.4-.4-.92-.59-1.43-.59-.52 0-1.04.2-1.43.59L10.3 9.45l-7.72 7.72c-.78.78-.78 2.05 0 2.83L4 21.41c.39.39.9.59 1.41.59.51 0 1.02-.2 1.41-.59l7.78-7.78 2.81-2.81c.8-.78.8-2.07 0-2.86zM5.41 20L4 18.59l7.72-7.72 1.47 1.35L5.41 20z\"/>\n",
              "  </svg>\n",
              "      </button>\n",
              "      \n",
              "  <style>\n",
              "    .colab-df-container {\n",
              "      display:flex;\n",
              "      flex-wrap:wrap;\n",
              "      gap: 12px;\n",
              "    }\n",
              "\n",
              "    .colab-df-convert {\n",
              "      background-color: #E8F0FE;\n",
              "      border: none;\n",
              "      border-radius: 50%;\n",
              "      cursor: pointer;\n",
              "      display: none;\n",
              "      fill: #1967D2;\n",
              "      height: 32px;\n",
              "      padding: 0 0 0 0;\n",
              "      width: 32px;\n",
              "    }\n",
              "\n",
              "    .colab-df-convert:hover {\n",
              "      background-color: #E2EBFA;\n",
              "      box-shadow: 0px 1px 2px rgba(60, 64, 67, 0.3), 0px 1px 3px 1px rgba(60, 64, 67, 0.15);\n",
              "      fill: #174EA6;\n",
              "    }\n",
              "\n",
              "    [theme=dark] .colab-df-convert {\n",
              "      background-color: #3B4455;\n",
              "      fill: #D2E3FC;\n",
              "    }\n",
              "\n",
              "    [theme=dark] .colab-df-convert:hover {\n",
              "      background-color: #434B5C;\n",
              "      box-shadow: 0px 1px 3px 1px rgba(0, 0, 0, 0.15);\n",
              "      filter: drop-shadow(0px 1px 2px rgba(0, 0, 0, 0.3));\n",
              "      fill: #FFFFFF;\n",
              "    }\n",
              "  </style>\n",
              "\n",
              "      <script>\n",
              "        const buttonEl =\n",
              "          document.querySelector('#df-a33de28d-9d57-4789-aa32-d2d01280895e button.colab-df-convert');\n",
              "        buttonEl.style.display =\n",
              "          google.colab.kernel.accessAllowed ? 'block' : 'none';\n",
              "\n",
              "        async function convertToInteractive(key) {\n",
              "          const element = document.querySelector('#df-a33de28d-9d57-4789-aa32-d2d01280895e');\n",
              "          const dataTable =\n",
              "            await google.colab.kernel.invokeFunction('convertToInteractive',\n",
              "                                                     [key], {});\n",
              "          if (!dataTable) return;\n",
              "\n",
              "          const docLinkHtml = 'Like what you see? Visit the ' +\n",
              "            '<a target=\"_blank\" href=https://colab.research.google.com/notebooks/data_table.ipynb>data table notebook</a>'\n",
              "            + ' to learn more about interactive tables.';\n",
              "          element.innerHTML = '';\n",
              "          dataTable['output_type'] = 'display_data';\n",
              "          await google.colab.output.renderOutput(dataTable, element);\n",
              "          const docLink = document.createElement('div');\n",
              "          docLink.innerHTML = docLinkHtml;\n",
              "          element.appendChild(docLink);\n",
              "        }\n",
              "      </script>\n",
              "    </div>\n",
              "  </div>\n",
              "  "
            ]
          },
          "metadata": {},
          "execution_count": 218
        }
      ]
    },
    {
      "cell_type": "code",
      "source": [
        "data_hagnos = pd.read_csv(url_hagnos)\n",
        "data_hagnos.head()"
      ],
      "metadata": {
        "colab": {
          "base_uri": "https://localhost:8080/",
          "height": 206
        },
        "id": "qu1mM9KXAVKg",
        "outputId": "e7ce9a52-484d-4f86-b73a-5613819f0f08"
      },
      "execution_count": 219,
      "outputs": [
        {
          "output_type": "execute_result",
          "data": {
            "text/plain": [
              "                                              Título                Autor  \\\n",
              "0                                 O amor tem um nome           Adam Weber   \n",
              "1                      Filhos da Promessa - Spurgeon  Charles H. Spurgeon   \n",
              "2                                  Contos ecológicos           Paulo Debs   \n",
              "3  Nova Bíblia Viva – Estudo, leitura e compreens...                  NaN   \n",
              "4  Nova Bíblia Viva – Estudo, leitura e compreens...                  NaN   \n",
              "\n",
              "        Editora Páginas   Formato  Peso                  Acabamento  \\\n",
              "0        Hagnos     288  16x23 Cm  380g                    Brochura   \n",
              "1        Hagnos     160  16x23 Cm  340g                   Capa Dura   \n",
              "2  United Press      48  18x24 Cm  200g                    Brochura   \n",
              "3        Hagnos   1.552  16x23 Cm  940g  Capa PU + Douração Lateral   \n",
              "4        Hagnos   1.552  16x23 Cm  940g  Capa PU + Douração Lateral   \n",
              "\n",
              "   Categoria  Edição      Preço  \n",
              "0        NaN  2021.0   R$ 47,90  \n",
              "1        NaN  2021.0   R$ 39,90  \n",
              "2        NaN     NaN   R$ 16,90  \n",
              "3        NaN  2021.0  R$ 177,89  \n",
              "4        NaN  2021.0  R$ 177,89  "
            ],
            "text/html": [
              "\n",
              "  <div id=\"df-948af1c5-6824-46ce-8de0-6402e870176f\">\n",
              "    <div class=\"colab-df-container\">\n",
              "      <div>\n",
              "<style scoped>\n",
              "    .dataframe tbody tr th:only-of-type {\n",
              "        vertical-align: middle;\n",
              "    }\n",
              "\n",
              "    .dataframe tbody tr th {\n",
              "        vertical-align: top;\n",
              "    }\n",
              "\n",
              "    .dataframe thead th {\n",
              "        text-align: right;\n",
              "    }\n",
              "</style>\n",
              "<table border=\"1\" class=\"dataframe\">\n",
              "  <thead>\n",
              "    <tr style=\"text-align: right;\">\n",
              "      <th></th>\n",
              "      <th>Título</th>\n",
              "      <th>Autor</th>\n",
              "      <th>Editora</th>\n",
              "      <th>Páginas</th>\n",
              "      <th>Formato</th>\n",
              "      <th>Peso</th>\n",
              "      <th>Acabamento</th>\n",
              "      <th>Categoria</th>\n",
              "      <th>Edição</th>\n",
              "      <th>Preço</th>\n",
              "    </tr>\n",
              "  </thead>\n",
              "  <tbody>\n",
              "    <tr>\n",
              "      <th>0</th>\n",
              "      <td>O amor tem um nome</td>\n",
              "      <td>Adam Weber</td>\n",
              "      <td>Hagnos</td>\n",
              "      <td>288</td>\n",
              "      <td>16x23 Cm</td>\n",
              "      <td>380g</td>\n",
              "      <td>Brochura</td>\n",
              "      <td>NaN</td>\n",
              "      <td>2021.0</td>\n",
              "      <td>R$ 47,90</td>\n",
              "    </tr>\n",
              "    <tr>\n",
              "      <th>1</th>\n",
              "      <td>Filhos da Promessa - Spurgeon</td>\n",
              "      <td>Charles H. Spurgeon</td>\n",
              "      <td>Hagnos</td>\n",
              "      <td>160</td>\n",
              "      <td>16x23 Cm</td>\n",
              "      <td>340g</td>\n",
              "      <td>Capa Dura</td>\n",
              "      <td>NaN</td>\n",
              "      <td>2021.0</td>\n",
              "      <td>R$ 39,90</td>\n",
              "    </tr>\n",
              "    <tr>\n",
              "      <th>2</th>\n",
              "      <td>Contos ecológicos</td>\n",
              "      <td>Paulo Debs</td>\n",
              "      <td>United Press</td>\n",
              "      <td>48</td>\n",
              "      <td>18x24 Cm</td>\n",
              "      <td>200g</td>\n",
              "      <td>Brochura</td>\n",
              "      <td>NaN</td>\n",
              "      <td>NaN</td>\n",
              "      <td>R$ 16,90</td>\n",
              "    </tr>\n",
              "    <tr>\n",
              "      <th>3</th>\n",
              "      <td>Nova Bíblia Viva – Estudo, leitura e compreens...</td>\n",
              "      <td>NaN</td>\n",
              "      <td>Hagnos</td>\n",
              "      <td>1.552</td>\n",
              "      <td>16x23 Cm</td>\n",
              "      <td>940g</td>\n",
              "      <td>Capa PU + Douração Lateral</td>\n",
              "      <td>NaN</td>\n",
              "      <td>2021.0</td>\n",
              "      <td>R$ 177,89</td>\n",
              "    </tr>\n",
              "    <tr>\n",
              "      <th>4</th>\n",
              "      <td>Nova Bíblia Viva – Estudo, leitura e compreens...</td>\n",
              "      <td>NaN</td>\n",
              "      <td>Hagnos</td>\n",
              "      <td>1.552</td>\n",
              "      <td>16x23 Cm</td>\n",
              "      <td>940g</td>\n",
              "      <td>Capa PU + Douração Lateral</td>\n",
              "      <td>NaN</td>\n",
              "      <td>2021.0</td>\n",
              "      <td>R$ 177,89</td>\n",
              "    </tr>\n",
              "  </tbody>\n",
              "</table>\n",
              "</div>\n",
              "      <button class=\"colab-df-convert\" onclick=\"convertToInteractive('df-948af1c5-6824-46ce-8de0-6402e870176f')\"\n",
              "              title=\"Convert this dataframe to an interactive table.\"\n",
              "              style=\"display:none;\">\n",
              "        \n",
              "  <svg xmlns=\"http://www.w3.org/2000/svg\" height=\"24px\"viewBox=\"0 0 24 24\"\n",
              "       width=\"24px\">\n",
              "    <path d=\"M0 0h24v24H0V0z\" fill=\"none\"/>\n",
              "    <path d=\"M18.56 5.44l.94 2.06.94-2.06 2.06-.94-2.06-.94-.94-2.06-.94 2.06-2.06.94zm-11 1L8.5 8.5l.94-2.06 2.06-.94-2.06-.94L8.5 2.5l-.94 2.06-2.06.94zm10 10l.94 2.06.94-2.06 2.06-.94-2.06-.94-.94-2.06-.94 2.06-2.06.94z\"/><path d=\"M17.41 7.96l-1.37-1.37c-.4-.4-.92-.59-1.43-.59-.52 0-1.04.2-1.43.59L10.3 9.45l-7.72 7.72c-.78.78-.78 2.05 0 2.83L4 21.41c.39.39.9.59 1.41.59.51 0 1.02-.2 1.41-.59l7.78-7.78 2.81-2.81c.8-.78.8-2.07 0-2.86zM5.41 20L4 18.59l7.72-7.72 1.47 1.35L5.41 20z\"/>\n",
              "  </svg>\n",
              "      </button>\n",
              "      \n",
              "  <style>\n",
              "    .colab-df-container {\n",
              "      display:flex;\n",
              "      flex-wrap:wrap;\n",
              "      gap: 12px;\n",
              "    }\n",
              "\n",
              "    .colab-df-convert {\n",
              "      background-color: #E8F0FE;\n",
              "      border: none;\n",
              "      border-radius: 50%;\n",
              "      cursor: pointer;\n",
              "      display: none;\n",
              "      fill: #1967D2;\n",
              "      height: 32px;\n",
              "      padding: 0 0 0 0;\n",
              "      width: 32px;\n",
              "    }\n",
              "\n",
              "    .colab-df-convert:hover {\n",
              "      background-color: #E2EBFA;\n",
              "      box-shadow: 0px 1px 2px rgba(60, 64, 67, 0.3), 0px 1px 3px 1px rgba(60, 64, 67, 0.15);\n",
              "      fill: #174EA6;\n",
              "    }\n",
              "\n",
              "    [theme=dark] .colab-df-convert {\n",
              "      background-color: #3B4455;\n",
              "      fill: #D2E3FC;\n",
              "    }\n",
              "\n",
              "    [theme=dark] .colab-df-convert:hover {\n",
              "      background-color: #434B5C;\n",
              "      box-shadow: 0px 1px 3px 1px rgba(0, 0, 0, 0.15);\n",
              "      filter: drop-shadow(0px 1px 2px rgba(0, 0, 0, 0.3));\n",
              "      fill: #FFFFFF;\n",
              "    }\n",
              "  </style>\n",
              "\n",
              "      <script>\n",
              "        const buttonEl =\n",
              "          document.querySelector('#df-948af1c5-6824-46ce-8de0-6402e870176f button.colab-df-convert');\n",
              "        buttonEl.style.display =\n",
              "          google.colab.kernel.accessAllowed ? 'block' : 'none';\n",
              "\n",
              "        async function convertToInteractive(key) {\n",
              "          const element = document.querySelector('#df-948af1c5-6824-46ce-8de0-6402e870176f');\n",
              "          const dataTable =\n",
              "            await google.colab.kernel.invokeFunction('convertToInteractive',\n",
              "                                                     [key], {});\n",
              "          if (!dataTable) return;\n",
              "\n",
              "          const docLinkHtml = 'Like what you see? Visit the ' +\n",
              "            '<a target=\"_blank\" href=https://colab.research.google.com/notebooks/data_table.ipynb>data table notebook</a>'\n",
              "            + ' to learn more about interactive tables.';\n",
              "          element.innerHTML = '';\n",
              "          dataTable['output_type'] = 'display_data';\n",
              "          await google.colab.output.renderOutput(dataTable, element);\n",
              "          const docLink = document.createElement('div');\n",
              "          docLink.innerHTML = docLinkHtml;\n",
              "          element.appendChild(docLink);\n",
              "        }\n",
              "      </script>\n",
              "    </div>\n",
              "  </div>\n",
              "  "
            ]
          },
          "metadata": {},
          "execution_count": 219
        }
      ]
    },
    {
      "cell_type": "code",
      "source": [
        "data_pronobis = pd.read_csv(url_pronobis)\n",
        "data_pronobis.head()"
      ],
      "metadata": {
        "colab": {
          "base_uri": "https://localhost:8080/",
          "height": 206
        },
        "id": "Reb1pPl_AapQ",
        "outputId": "5352a96a-38a3-4532-f6cf-d7eea6d8cdb5"
      },
      "execution_count": 220,
      "outputs": [
        {
          "output_type": "execute_result",
          "data": {
            "text/plain": [
              "                                              Título              Autor  \\\n",
              "0  Teologia do dia a dia – Aquilo em que você acr...         Mary Wiley   \n",
              "1                                    Adoração no Lar  Donald S. Whitney   \n",
              "2                                 Retratos Puritanos       J. I. Packer   \n",
              "3            Coração Missionário de Jonathan Edwards        Rennan Dias   \n",
              "4  História dos Batistas: Da Inglaterra para o Mundo   Anthony L. Chute   \n",
              "\n",
              "    Editora  Páginas     Formato    Peso Acabamento  Categoria  Edição  \\\n",
              "0  Pronobis      223  23 × 16 cm   370 g   Brochura        NaN    2022   \n",
              "1  Pronobis       96  14 × 21 cm   130 g   Brochura        NaN    2022   \n",
              "2  Pronobis      262  14 × 21 cm   350 g   Brochura        NaN    2022   \n",
              "3  Pronobis      144  21 × 14 cm  1130 g   Brochura        NaN    2022   \n",
              "4  Pronobis      440  23 × 16 cm  1135 g   Brochura        NaN    2022   \n",
              "\n",
              "      Preço  \n",
              "0   R$72,40  \n",
              "1   R$37,90  \n",
              "2   R$56,80  \n",
              "3   R$39,90  \n",
              "4  R$189,90  "
            ],
            "text/html": [
              "\n",
              "  <div id=\"df-d193db89-8e98-4182-b57a-caa3e8b5fd50\">\n",
              "    <div class=\"colab-df-container\">\n",
              "      <div>\n",
              "<style scoped>\n",
              "    .dataframe tbody tr th:only-of-type {\n",
              "        vertical-align: middle;\n",
              "    }\n",
              "\n",
              "    .dataframe tbody tr th {\n",
              "        vertical-align: top;\n",
              "    }\n",
              "\n",
              "    .dataframe thead th {\n",
              "        text-align: right;\n",
              "    }\n",
              "</style>\n",
              "<table border=\"1\" class=\"dataframe\">\n",
              "  <thead>\n",
              "    <tr style=\"text-align: right;\">\n",
              "      <th></th>\n",
              "      <th>Título</th>\n",
              "      <th>Autor</th>\n",
              "      <th>Editora</th>\n",
              "      <th>Páginas</th>\n",
              "      <th>Formato</th>\n",
              "      <th>Peso</th>\n",
              "      <th>Acabamento</th>\n",
              "      <th>Categoria</th>\n",
              "      <th>Edição</th>\n",
              "      <th>Preço</th>\n",
              "    </tr>\n",
              "  </thead>\n",
              "  <tbody>\n",
              "    <tr>\n",
              "      <th>0</th>\n",
              "      <td>Teologia do dia a dia – Aquilo em que você acr...</td>\n",
              "      <td>Mary Wiley</td>\n",
              "      <td>Pronobis</td>\n",
              "      <td>223</td>\n",
              "      <td>23 × 16 cm</td>\n",
              "      <td>370 g</td>\n",
              "      <td>Brochura</td>\n",
              "      <td>NaN</td>\n",
              "      <td>2022</td>\n",
              "      <td>R$72,40</td>\n",
              "    </tr>\n",
              "    <tr>\n",
              "      <th>1</th>\n",
              "      <td>Adoração no Lar</td>\n",
              "      <td>Donald S. Whitney</td>\n",
              "      <td>Pronobis</td>\n",
              "      <td>96</td>\n",
              "      <td>14 × 21 cm</td>\n",
              "      <td>130 g</td>\n",
              "      <td>Brochura</td>\n",
              "      <td>NaN</td>\n",
              "      <td>2022</td>\n",
              "      <td>R$37,90</td>\n",
              "    </tr>\n",
              "    <tr>\n",
              "      <th>2</th>\n",
              "      <td>Retratos Puritanos</td>\n",
              "      <td>J. I. Packer</td>\n",
              "      <td>Pronobis</td>\n",
              "      <td>262</td>\n",
              "      <td>14 × 21 cm</td>\n",
              "      <td>350 g</td>\n",
              "      <td>Brochura</td>\n",
              "      <td>NaN</td>\n",
              "      <td>2022</td>\n",
              "      <td>R$56,80</td>\n",
              "    </tr>\n",
              "    <tr>\n",
              "      <th>3</th>\n",
              "      <td>Coração Missionário de Jonathan Edwards</td>\n",
              "      <td>Rennan Dias</td>\n",
              "      <td>Pronobis</td>\n",
              "      <td>144</td>\n",
              "      <td>21 × 14 cm</td>\n",
              "      <td>1130 g</td>\n",
              "      <td>Brochura</td>\n",
              "      <td>NaN</td>\n",
              "      <td>2022</td>\n",
              "      <td>R$39,90</td>\n",
              "    </tr>\n",
              "    <tr>\n",
              "      <th>4</th>\n",
              "      <td>História dos Batistas: Da Inglaterra para o Mundo</td>\n",
              "      <td>Anthony L. Chute</td>\n",
              "      <td>Pronobis</td>\n",
              "      <td>440</td>\n",
              "      <td>23 × 16 cm</td>\n",
              "      <td>1135 g</td>\n",
              "      <td>Brochura</td>\n",
              "      <td>NaN</td>\n",
              "      <td>2022</td>\n",
              "      <td>R$189,90</td>\n",
              "    </tr>\n",
              "  </tbody>\n",
              "</table>\n",
              "</div>\n",
              "      <button class=\"colab-df-convert\" onclick=\"convertToInteractive('df-d193db89-8e98-4182-b57a-caa3e8b5fd50')\"\n",
              "              title=\"Convert this dataframe to an interactive table.\"\n",
              "              style=\"display:none;\">\n",
              "        \n",
              "  <svg xmlns=\"http://www.w3.org/2000/svg\" height=\"24px\"viewBox=\"0 0 24 24\"\n",
              "       width=\"24px\">\n",
              "    <path d=\"M0 0h24v24H0V0z\" fill=\"none\"/>\n",
              "    <path d=\"M18.56 5.44l.94 2.06.94-2.06 2.06-.94-2.06-.94-.94-2.06-.94 2.06-2.06.94zm-11 1L8.5 8.5l.94-2.06 2.06-.94-2.06-.94L8.5 2.5l-.94 2.06-2.06.94zm10 10l.94 2.06.94-2.06 2.06-.94-2.06-.94-.94-2.06-.94 2.06-2.06.94z\"/><path d=\"M17.41 7.96l-1.37-1.37c-.4-.4-.92-.59-1.43-.59-.52 0-1.04.2-1.43.59L10.3 9.45l-7.72 7.72c-.78.78-.78 2.05 0 2.83L4 21.41c.39.39.9.59 1.41.59.51 0 1.02-.2 1.41-.59l7.78-7.78 2.81-2.81c.8-.78.8-2.07 0-2.86zM5.41 20L4 18.59l7.72-7.72 1.47 1.35L5.41 20z\"/>\n",
              "  </svg>\n",
              "      </button>\n",
              "      \n",
              "  <style>\n",
              "    .colab-df-container {\n",
              "      display:flex;\n",
              "      flex-wrap:wrap;\n",
              "      gap: 12px;\n",
              "    }\n",
              "\n",
              "    .colab-df-convert {\n",
              "      background-color: #E8F0FE;\n",
              "      border: none;\n",
              "      border-radius: 50%;\n",
              "      cursor: pointer;\n",
              "      display: none;\n",
              "      fill: #1967D2;\n",
              "      height: 32px;\n",
              "      padding: 0 0 0 0;\n",
              "      width: 32px;\n",
              "    }\n",
              "\n",
              "    .colab-df-convert:hover {\n",
              "      background-color: #E2EBFA;\n",
              "      box-shadow: 0px 1px 2px rgba(60, 64, 67, 0.3), 0px 1px 3px 1px rgba(60, 64, 67, 0.15);\n",
              "      fill: #174EA6;\n",
              "    }\n",
              "\n",
              "    [theme=dark] .colab-df-convert {\n",
              "      background-color: #3B4455;\n",
              "      fill: #D2E3FC;\n",
              "    }\n",
              "\n",
              "    [theme=dark] .colab-df-convert:hover {\n",
              "      background-color: #434B5C;\n",
              "      box-shadow: 0px 1px 3px 1px rgba(0, 0, 0, 0.15);\n",
              "      filter: drop-shadow(0px 1px 2px rgba(0, 0, 0, 0.3));\n",
              "      fill: #FFFFFF;\n",
              "    }\n",
              "  </style>\n",
              "\n",
              "      <script>\n",
              "        const buttonEl =\n",
              "          document.querySelector('#df-d193db89-8e98-4182-b57a-caa3e8b5fd50 button.colab-df-convert');\n",
              "        buttonEl.style.display =\n",
              "          google.colab.kernel.accessAllowed ? 'block' : 'none';\n",
              "\n",
              "        async function convertToInteractive(key) {\n",
              "          const element = document.querySelector('#df-d193db89-8e98-4182-b57a-caa3e8b5fd50');\n",
              "          const dataTable =\n",
              "            await google.colab.kernel.invokeFunction('convertToInteractive',\n",
              "                                                     [key], {});\n",
              "          if (!dataTable) return;\n",
              "\n",
              "          const docLinkHtml = 'Like what you see? Visit the ' +\n",
              "            '<a target=\"_blank\" href=https://colab.research.google.com/notebooks/data_table.ipynb>data table notebook</a>'\n",
              "            + ' to learn more about interactive tables.';\n",
              "          element.innerHTML = '';\n",
              "          dataTable['output_type'] = 'display_data';\n",
              "          await google.colab.output.renderOutput(dataTable, element);\n",
              "          const docLink = document.createElement('div');\n",
              "          docLink.innerHTML = docLinkHtml;\n",
              "          element.appendChild(docLink);\n",
              "        }\n",
              "      </script>\n",
              "    </div>\n",
              "  </div>\n",
              "  "
            ]
          },
          "metadata": {},
          "execution_count": 220
        }
      ]
    },
    {
      "cell_type": "code",
      "source": [
        "data_shedd = pd.read_csv(url_shedd)\n",
        "data_shedd.head()"
      ],
      "metadata": {
        "colab": {
          "base_uri": "https://localhost:8080/",
          "height": 206
        },
        "id": "2GsShspYA_Xd",
        "outputId": "1d373afb-b542-4f7e-9e25-b1936503e4dd"
      },
      "execution_count": 221,
      "outputs": [
        {
          "output_type": "execute_result",
          "data": {
            "text/plain": [
              "                                              Título  \\\n",
              "0  Livro Os Inklings: O grupo literário de C.S. L...   \n",
              "1      Livro Meios Essenciais de Graça - Paul Washer   \n",
              "2  Livro Breve Manual de Conservadorismo - Russel...   \n",
              "3  Livro Cultivando um Coração de Virtudes - Vige...   \n",
              "4                    Livro Gratidão - Mary K. Mohler   \n",
              "\n",
              "                               Autor           Editora  Páginas      Formato  \\\n",
              "0  Igor Gaspar e Gabriele Greggersen  Editora Trinitas    112.0  14cm x 21cm   \n",
              "1                        Paul Washer  Editora Trinitas     92.0  14cm x 21cm   \n",
              "2                       Russell Kirk  Editora Trinitas    136.0  14cm x 21cm   \n",
              "3                      Vigen Guroian  Editora Trinitas    252.0  14cm x 21cm   \n",
              "4                     Mary K. Mohler  Editora Trinitas    144.0  14cm x 21cm   \n",
              "\n",
              "         Peso Acabamento Categoria     Edição Preço  \n",
              "0  250 gramas   Brochura       NaN  1ª Edição    40  \n",
              "1  150 gramas   Brochura       NaN  1ª Edição    30  \n",
              "2  250 gramas   Brochura       NaN  1ª Edição    40  \n",
              "3  290 gramas   Brochura       NaN  1ª Edição    50  \n",
              "4  150 gramas   Brochura       NaN  1ª Edição    40  "
            ],
            "text/html": [
              "\n",
              "  <div id=\"df-a64e6daa-8011-4f4a-adbe-80a3a2aed4fe\">\n",
              "    <div class=\"colab-df-container\">\n",
              "      <div>\n",
              "<style scoped>\n",
              "    .dataframe tbody tr th:only-of-type {\n",
              "        vertical-align: middle;\n",
              "    }\n",
              "\n",
              "    .dataframe tbody tr th {\n",
              "        vertical-align: top;\n",
              "    }\n",
              "\n",
              "    .dataframe thead th {\n",
              "        text-align: right;\n",
              "    }\n",
              "</style>\n",
              "<table border=\"1\" class=\"dataframe\">\n",
              "  <thead>\n",
              "    <tr style=\"text-align: right;\">\n",
              "      <th></th>\n",
              "      <th>Título</th>\n",
              "      <th>Autor</th>\n",
              "      <th>Editora</th>\n",
              "      <th>Páginas</th>\n",
              "      <th>Formato</th>\n",
              "      <th>Peso</th>\n",
              "      <th>Acabamento</th>\n",
              "      <th>Categoria</th>\n",
              "      <th>Edição</th>\n",
              "      <th>Preço</th>\n",
              "    </tr>\n",
              "  </thead>\n",
              "  <tbody>\n",
              "    <tr>\n",
              "      <th>0</th>\n",
              "      <td>Livro Os Inklings: O grupo literário de C.S. L...</td>\n",
              "      <td>Igor Gaspar e Gabriele Greggersen</td>\n",
              "      <td>Editora Trinitas</td>\n",
              "      <td>112.0</td>\n",
              "      <td>14cm x 21cm</td>\n",
              "      <td>250 gramas</td>\n",
              "      <td>Brochura</td>\n",
              "      <td>NaN</td>\n",
              "      <td>1ª Edição</td>\n",
              "      <td>40</td>\n",
              "    </tr>\n",
              "    <tr>\n",
              "      <th>1</th>\n",
              "      <td>Livro Meios Essenciais de Graça - Paul Washer</td>\n",
              "      <td>Paul Washer</td>\n",
              "      <td>Editora Trinitas</td>\n",
              "      <td>92.0</td>\n",
              "      <td>14cm x 21cm</td>\n",
              "      <td>150 gramas</td>\n",
              "      <td>Brochura</td>\n",
              "      <td>NaN</td>\n",
              "      <td>1ª Edição</td>\n",
              "      <td>30</td>\n",
              "    </tr>\n",
              "    <tr>\n",
              "      <th>2</th>\n",
              "      <td>Livro Breve Manual de Conservadorismo - Russel...</td>\n",
              "      <td>Russell Kirk</td>\n",
              "      <td>Editora Trinitas</td>\n",
              "      <td>136.0</td>\n",
              "      <td>14cm x 21cm</td>\n",
              "      <td>250 gramas</td>\n",
              "      <td>Brochura</td>\n",
              "      <td>NaN</td>\n",
              "      <td>1ª Edição</td>\n",
              "      <td>40</td>\n",
              "    </tr>\n",
              "    <tr>\n",
              "      <th>3</th>\n",
              "      <td>Livro Cultivando um Coração de Virtudes - Vige...</td>\n",
              "      <td>Vigen Guroian</td>\n",
              "      <td>Editora Trinitas</td>\n",
              "      <td>252.0</td>\n",
              "      <td>14cm x 21cm</td>\n",
              "      <td>290 gramas</td>\n",
              "      <td>Brochura</td>\n",
              "      <td>NaN</td>\n",
              "      <td>1ª Edição</td>\n",
              "      <td>50</td>\n",
              "    </tr>\n",
              "    <tr>\n",
              "      <th>4</th>\n",
              "      <td>Livro Gratidão - Mary K. Mohler</td>\n",
              "      <td>Mary K. Mohler</td>\n",
              "      <td>Editora Trinitas</td>\n",
              "      <td>144.0</td>\n",
              "      <td>14cm x 21cm</td>\n",
              "      <td>150 gramas</td>\n",
              "      <td>Brochura</td>\n",
              "      <td>NaN</td>\n",
              "      <td>1ª Edição</td>\n",
              "      <td>40</td>\n",
              "    </tr>\n",
              "  </tbody>\n",
              "</table>\n",
              "</div>\n",
              "      <button class=\"colab-df-convert\" onclick=\"convertToInteractive('df-a64e6daa-8011-4f4a-adbe-80a3a2aed4fe')\"\n",
              "              title=\"Convert this dataframe to an interactive table.\"\n",
              "              style=\"display:none;\">\n",
              "        \n",
              "  <svg xmlns=\"http://www.w3.org/2000/svg\" height=\"24px\"viewBox=\"0 0 24 24\"\n",
              "       width=\"24px\">\n",
              "    <path d=\"M0 0h24v24H0V0z\" fill=\"none\"/>\n",
              "    <path d=\"M18.56 5.44l.94 2.06.94-2.06 2.06-.94-2.06-.94-.94-2.06-.94 2.06-2.06.94zm-11 1L8.5 8.5l.94-2.06 2.06-.94-2.06-.94L8.5 2.5l-.94 2.06-2.06.94zm10 10l.94 2.06.94-2.06 2.06-.94-2.06-.94-.94-2.06-.94 2.06-2.06.94z\"/><path d=\"M17.41 7.96l-1.37-1.37c-.4-.4-.92-.59-1.43-.59-.52 0-1.04.2-1.43.59L10.3 9.45l-7.72 7.72c-.78.78-.78 2.05 0 2.83L4 21.41c.39.39.9.59 1.41.59.51 0 1.02-.2 1.41-.59l7.78-7.78 2.81-2.81c.8-.78.8-2.07 0-2.86zM5.41 20L4 18.59l7.72-7.72 1.47 1.35L5.41 20z\"/>\n",
              "  </svg>\n",
              "      </button>\n",
              "      \n",
              "  <style>\n",
              "    .colab-df-container {\n",
              "      display:flex;\n",
              "      flex-wrap:wrap;\n",
              "      gap: 12px;\n",
              "    }\n",
              "\n",
              "    .colab-df-convert {\n",
              "      background-color: #E8F0FE;\n",
              "      border: none;\n",
              "      border-radius: 50%;\n",
              "      cursor: pointer;\n",
              "      display: none;\n",
              "      fill: #1967D2;\n",
              "      height: 32px;\n",
              "      padding: 0 0 0 0;\n",
              "      width: 32px;\n",
              "    }\n",
              "\n",
              "    .colab-df-convert:hover {\n",
              "      background-color: #E2EBFA;\n",
              "      box-shadow: 0px 1px 2px rgba(60, 64, 67, 0.3), 0px 1px 3px 1px rgba(60, 64, 67, 0.15);\n",
              "      fill: #174EA6;\n",
              "    }\n",
              "\n",
              "    [theme=dark] .colab-df-convert {\n",
              "      background-color: #3B4455;\n",
              "      fill: #D2E3FC;\n",
              "    }\n",
              "\n",
              "    [theme=dark] .colab-df-convert:hover {\n",
              "      background-color: #434B5C;\n",
              "      box-shadow: 0px 1px 3px 1px rgba(0, 0, 0, 0.15);\n",
              "      filter: drop-shadow(0px 1px 2px rgba(0, 0, 0, 0.3));\n",
              "      fill: #FFFFFF;\n",
              "    }\n",
              "  </style>\n",
              "\n",
              "      <script>\n",
              "        const buttonEl =\n",
              "          document.querySelector('#df-a64e6daa-8011-4f4a-adbe-80a3a2aed4fe button.colab-df-convert');\n",
              "        buttonEl.style.display =\n",
              "          google.colab.kernel.accessAllowed ? 'block' : 'none';\n",
              "\n",
              "        async function convertToInteractive(key) {\n",
              "          const element = document.querySelector('#df-a64e6daa-8011-4f4a-adbe-80a3a2aed4fe');\n",
              "          const dataTable =\n",
              "            await google.colab.kernel.invokeFunction('convertToInteractive',\n",
              "                                                     [key], {});\n",
              "          if (!dataTable) return;\n",
              "\n",
              "          const docLinkHtml = 'Like what you see? Visit the ' +\n",
              "            '<a target=\"_blank\" href=https://colab.research.google.com/notebooks/data_table.ipynb>data table notebook</a>'\n",
              "            + ' to learn more about interactive tables.';\n",
              "          element.innerHTML = '';\n",
              "          dataTable['output_type'] = 'display_data';\n",
              "          await google.colab.output.renderOutput(dataTable, element);\n",
              "          const docLink = document.createElement('div');\n",
              "          docLink.innerHTML = docLinkHtml;\n",
              "          element.appendChild(docLink);\n",
              "        }\n",
              "      </script>\n",
              "    </div>\n",
              "  </div>\n",
              "  "
            ]
          },
          "metadata": {},
          "execution_count": 221
        }
      ]
    },
    {
      "cell_type": "code",
      "source": [
        "data_vidanova = pd.read_csv(url_vidanova)\n",
        "data_vidanova.head()"
      ],
      "metadata": {
        "colab": {
          "base_uri": "https://localhost:8080/",
          "height": 206
        },
        "id": "sT0BhNLeBH6L",
        "outputId": "c44a3301-5154-4314-a43f-cc4695c989c7"
      },
      "execution_count": 222,
      "outputs": [
        {
          "output_type": "execute_result",
          "data": {
            "text/plain": [
              "                                            Título  \\\n",
              "0                           Jesus, o filho de Deus   \n",
              "1                                Fim da pobreza, O   \n",
              "2      Deus, casamento e família - 2ª ed. ampliada   \n",
              "3                        Fé na era do ceticismo, A   \n",
              "4  Eclesiastes e Cantares, introdução e comentário   \n",
              "\n",
              "                                      Autor            Editora  Páginas  \\\n",
              "0                              D. A. Carson  Editora VIDA NOVA      128   \n",
              "1                           Aaron Armstrong  Editora VIDA NOVA      128   \n",
              "2  Andreas J. Köstenberger e David W. Jones  Editora VIDA NOVA      352   \n",
              "3                            Timothy Keller  Editora VIDA NOVA      288   \n",
              "4           Michael A. Eaton, G. Lloyd Carr  Editora VIDA NOVA      336   \n",
              "\n",
              "      Formato  Peso Acabamento  Categoria  Edição  Preço  \n",
              "0  14 x 21 cm   165   Brochura        NaN  2015.0   37.9  \n",
              "1  14 x 21 cm   159   Brochura        NaN  2015.0   33.9  \n",
              "2  16 x 23 cm   492   Brochura        NaN  2015.0   83.9  \n",
              "3  16 x 23 cm   438   Brochura        NaN  2015.0   81.9  \n",
              "4  14 x 21 cm   350   Brochura        NaN  1989.0   93.9  "
            ],
            "text/html": [
              "\n",
              "  <div id=\"df-a3f709f1-f240-408e-a210-af48edbdc310\">\n",
              "    <div class=\"colab-df-container\">\n",
              "      <div>\n",
              "<style scoped>\n",
              "    .dataframe tbody tr th:only-of-type {\n",
              "        vertical-align: middle;\n",
              "    }\n",
              "\n",
              "    .dataframe tbody tr th {\n",
              "        vertical-align: top;\n",
              "    }\n",
              "\n",
              "    .dataframe thead th {\n",
              "        text-align: right;\n",
              "    }\n",
              "</style>\n",
              "<table border=\"1\" class=\"dataframe\">\n",
              "  <thead>\n",
              "    <tr style=\"text-align: right;\">\n",
              "      <th></th>\n",
              "      <th>Título</th>\n",
              "      <th>Autor</th>\n",
              "      <th>Editora</th>\n",
              "      <th>Páginas</th>\n",
              "      <th>Formato</th>\n",
              "      <th>Peso</th>\n",
              "      <th>Acabamento</th>\n",
              "      <th>Categoria</th>\n",
              "      <th>Edição</th>\n",
              "      <th>Preço</th>\n",
              "    </tr>\n",
              "  </thead>\n",
              "  <tbody>\n",
              "    <tr>\n",
              "      <th>0</th>\n",
              "      <td>Jesus, o filho de Deus</td>\n",
              "      <td>D. A. Carson</td>\n",
              "      <td>Editora VIDA NOVA</td>\n",
              "      <td>128</td>\n",
              "      <td>14 x 21 cm</td>\n",
              "      <td>165</td>\n",
              "      <td>Brochura</td>\n",
              "      <td>NaN</td>\n",
              "      <td>2015.0</td>\n",
              "      <td>37.9</td>\n",
              "    </tr>\n",
              "    <tr>\n",
              "      <th>1</th>\n",
              "      <td>Fim da pobreza, O</td>\n",
              "      <td>Aaron Armstrong</td>\n",
              "      <td>Editora VIDA NOVA</td>\n",
              "      <td>128</td>\n",
              "      <td>14 x 21 cm</td>\n",
              "      <td>159</td>\n",
              "      <td>Brochura</td>\n",
              "      <td>NaN</td>\n",
              "      <td>2015.0</td>\n",
              "      <td>33.9</td>\n",
              "    </tr>\n",
              "    <tr>\n",
              "      <th>2</th>\n",
              "      <td>Deus, casamento e família - 2ª ed. ampliada</td>\n",
              "      <td>Andreas J. Köstenberger e David W. Jones</td>\n",
              "      <td>Editora VIDA NOVA</td>\n",
              "      <td>352</td>\n",
              "      <td>16 x 23 cm</td>\n",
              "      <td>492</td>\n",
              "      <td>Brochura</td>\n",
              "      <td>NaN</td>\n",
              "      <td>2015.0</td>\n",
              "      <td>83.9</td>\n",
              "    </tr>\n",
              "    <tr>\n",
              "      <th>3</th>\n",
              "      <td>Fé na era do ceticismo, A</td>\n",
              "      <td>Timothy Keller</td>\n",
              "      <td>Editora VIDA NOVA</td>\n",
              "      <td>288</td>\n",
              "      <td>16 x 23 cm</td>\n",
              "      <td>438</td>\n",
              "      <td>Brochura</td>\n",
              "      <td>NaN</td>\n",
              "      <td>2015.0</td>\n",
              "      <td>81.9</td>\n",
              "    </tr>\n",
              "    <tr>\n",
              "      <th>4</th>\n",
              "      <td>Eclesiastes e Cantares, introdução e comentário</td>\n",
              "      <td>Michael A. Eaton, G. Lloyd Carr</td>\n",
              "      <td>Editora VIDA NOVA</td>\n",
              "      <td>336</td>\n",
              "      <td>14 x 21 cm</td>\n",
              "      <td>350</td>\n",
              "      <td>Brochura</td>\n",
              "      <td>NaN</td>\n",
              "      <td>1989.0</td>\n",
              "      <td>93.9</td>\n",
              "    </tr>\n",
              "  </tbody>\n",
              "</table>\n",
              "</div>\n",
              "      <button class=\"colab-df-convert\" onclick=\"convertToInteractive('df-a3f709f1-f240-408e-a210-af48edbdc310')\"\n",
              "              title=\"Convert this dataframe to an interactive table.\"\n",
              "              style=\"display:none;\">\n",
              "        \n",
              "  <svg xmlns=\"http://www.w3.org/2000/svg\" height=\"24px\"viewBox=\"0 0 24 24\"\n",
              "       width=\"24px\">\n",
              "    <path d=\"M0 0h24v24H0V0z\" fill=\"none\"/>\n",
              "    <path d=\"M18.56 5.44l.94 2.06.94-2.06 2.06-.94-2.06-.94-.94-2.06-.94 2.06-2.06.94zm-11 1L8.5 8.5l.94-2.06 2.06-.94-2.06-.94L8.5 2.5l-.94 2.06-2.06.94zm10 10l.94 2.06.94-2.06 2.06-.94-2.06-.94-.94-2.06-.94 2.06-2.06.94z\"/><path d=\"M17.41 7.96l-1.37-1.37c-.4-.4-.92-.59-1.43-.59-.52 0-1.04.2-1.43.59L10.3 9.45l-7.72 7.72c-.78.78-.78 2.05 0 2.83L4 21.41c.39.39.9.59 1.41.59.51 0 1.02-.2 1.41-.59l7.78-7.78 2.81-2.81c.8-.78.8-2.07 0-2.86zM5.41 20L4 18.59l7.72-7.72 1.47 1.35L5.41 20z\"/>\n",
              "  </svg>\n",
              "      </button>\n",
              "      \n",
              "  <style>\n",
              "    .colab-df-container {\n",
              "      display:flex;\n",
              "      flex-wrap:wrap;\n",
              "      gap: 12px;\n",
              "    }\n",
              "\n",
              "    .colab-df-convert {\n",
              "      background-color: #E8F0FE;\n",
              "      border: none;\n",
              "      border-radius: 50%;\n",
              "      cursor: pointer;\n",
              "      display: none;\n",
              "      fill: #1967D2;\n",
              "      height: 32px;\n",
              "      padding: 0 0 0 0;\n",
              "      width: 32px;\n",
              "    }\n",
              "\n",
              "    .colab-df-convert:hover {\n",
              "      background-color: #E2EBFA;\n",
              "      box-shadow: 0px 1px 2px rgba(60, 64, 67, 0.3), 0px 1px 3px 1px rgba(60, 64, 67, 0.15);\n",
              "      fill: #174EA6;\n",
              "    }\n",
              "\n",
              "    [theme=dark] .colab-df-convert {\n",
              "      background-color: #3B4455;\n",
              "      fill: #D2E3FC;\n",
              "    }\n",
              "\n",
              "    [theme=dark] .colab-df-convert:hover {\n",
              "      background-color: #434B5C;\n",
              "      box-shadow: 0px 1px 3px 1px rgba(0, 0, 0, 0.15);\n",
              "      filter: drop-shadow(0px 1px 2px rgba(0, 0, 0, 0.3));\n",
              "      fill: #FFFFFF;\n",
              "    }\n",
              "  </style>\n",
              "\n",
              "      <script>\n",
              "        const buttonEl =\n",
              "          document.querySelector('#df-a3f709f1-f240-408e-a210-af48edbdc310 button.colab-df-convert');\n",
              "        buttonEl.style.display =\n",
              "          google.colab.kernel.accessAllowed ? 'block' : 'none';\n",
              "\n",
              "        async function convertToInteractive(key) {\n",
              "          const element = document.querySelector('#df-a3f709f1-f240-408e-a210-af48edbdc310');\n",
              "          const dataTable =\n",
              "            await google.colab.kernel.invokeFunction('convertToInteractive',\n",
              "                                                     [key], {});\n",
              "          if (!dataTable) return;\n",
              "\n",
              "          const docLinkHtml = 'Like what you see? Visit the ' +\n",
              "            '<a target=\"_blank\" href=https://colab.research.google.com/notebooks/data_table.ipynb>data table notebook</a>'\n",
              "            + ' to learn more about interactive tables.';\n",
              "          element.innerHTML = '';\n",
              "          dataTable['output_type'] = 'display_data';\n",
              "          await google.colab.output.renderOutput(dataTable, element);\n",
              "          const docLink = document.createElement('div');\n",
              "          docLink.innerHTML = docLinkHtml;\n",
              "          element.appendChild(docLink);\n",
              "        }\n",
              "      </script>\n",
              "    </div>\n",
              "  </div>\n",
              "  "
            ]
          },
          "metadata": {},
          "execution_count": 222
        }
      ]
    },
    {
      "cell_type": "markdown",
      "source": [
        "Depois que todos os datasets estão em formato de dataframe, é possível reuni-los em um dataframe único que será utilizado como a base de dados principal para o experimento."
      ],
      "metadata": {
        "id": "OtL_qUs421pn"
      }
    },
    {
      "cell_type": "code",
      "source": [
        "frames = [data_fiel, data_trinitas, data_culturacrista, data_hagnos, data_pronobis, data_shedd, data_vidanova]\n",
        "data = pd.concat(frames)\n",
        "data"
      ],
      "metadata": {
        "id": "2g5qCEeiBOrN",
        "colab": {
          "base_uri": "https://localhost:8080/",
          "height": 423
        },
        "outputId": "c4e9626c-06ef-429f-a921-c8c0552eb735"
      },
      "execution_count": 223,
      "outputs": [
        {
          "output_type": "execute_result",
          "data": {
            "text/plain": [
              "                                                Título              Autor  \\\n",
              "0          Adoração - Prioridade, Princípios e Prática  John Charles Ryle   \n",
              "1                                      Adoração no Lar         Joel Beeke   \n",
              "2                                        Amado Timóteo          Tom Ascol   \n",
              "3    Antes de Partir: Encarando a morte com confian...      Nancy Guthrie   \n",
              "4    O Antigo Evangelho: Um desafio para redescobri...       J. I. PACKER   \n",
              "..                                                 ...                ...   \n",
              "697                            Conselhos para obreiros     C. H. Spurgeon   \n",
              "698              Romanos - Série comentário expositivo     C. Marvin Pate   \n",
              "699                                  Gálatas para você     Timothy Keller   \n",
              "700                   Efésios, introdução e comentário    Francis Foulkes   \n",
              "701                       Plantando igrejas missionais         Ed Stetzer   \n",
              "\n",
              "               Editora Páginas           Formato       Peso Acabamento  \\\n",
              "0         Editora Fiel      48  12.00 x 16.50 cm   53.00 g.   Brochura   \n",
              "1         Editora Fiel      96  12.00 x 16.00 cm  130.00 g.   Brochura   \n",
              "2         Editora Fiel     320  14.00 x 21.00 cm  391.00 g.   Brochura   \n",
              "3         Editora Fiel     176  14.00 x 21.00 cm  205.00 g.   Brochura   \n",
              "4         Editora FIEL      72  12.00 x 16.00 cm   73.00 g.   Brochura   \n",
              "..                 ...     ...               ...        ...        ...   \n",
              "697  Editora VIDA NOVA     160        14 x 21 cm        205   Brochura   \n",
              "698  Editora VIDA NOVA     368        17 x 23 cm        581   Brochura   \n",
              "699  Editora VIDA NOVA     208        14 x 21 cm        249   Brochura   \n",
              "700  Editora VIDA NOVA     152        14 x 21 cm        166   Brochura   \n",
              "701  Editora VIDA NOVA     432        16 x 23 cm        641   Brochura   \n",
              "\n",
              "                             Categoria  Edição Preço  \n",
              "0    Doutrina, Devocional, Vida Cristã  2010.0  17.7  \n",
              "1                 Familia, Vida Cristã  2012.0  28.8  \n",
              "2                 Teologia, Ministério  2005.0  81.9  \n",
              "3          Aconselhamento, Vida Cristã  2013.0  51.4  \n",
              "4                             Doutrina  2013.0  35.5  \n",
              "..                                 ...     ...   ...  \n",
              "697                                NaN  2015.0  39.9  \n",
              "698                                NaN  2015.0  95.9  \n",
              "699                                NaN  2015.0  54.9  \n",
              "700                                NaN  1983.0  45.9  \n",
              "701                                NaN  2015.0  99.9  \n",
              "\n",
              "[3052 rows x 10 columns]"
            ],
            "text/html": [
              "\n",
              "  <div id=\"df-ac6c82e9-0926-4ee1-b054-91c1c999e5f5\">\n",
              "    <div class=\"colab-df-container\">\n",
              "      <div>\n",
              "<style scoped>\n",
              "    .dataframe tbody tr th:only-of-type {\n",
              "        vertical-align: middle;\n",
              "    }\n",
              "\n",
              "    .dataframe tbody tr th {\n",
              "        vertical-align: top;\n",
              "    }\n",
              "\n",
              "    .dataframe thead th {\n",
              "        text-align: right;\n",
              "    }\n",
              "</style>\n",
              "<table border=\"1\" class=\"dataframe\">\n",
              "  <thead>\n",
              "    <tr style=\"text-align: right;\">\n",
              "      <th></th>\n",
              "      <th>Título</th>\n",
              "      <th>Autor</th>\n",
              "      <th>Editora</th>\n",
              "      <th>Páginas</th>\n",
              "      <th>Formato</th>\n",
              "      <th>Peso</th>\n",
              "      <th>Acabamento</th>\n",
              "      <th>Categoria</th>\n",
              "      <th>Edição</th>\n",
              "      <th>Preço</th>\n",
              "    </tr>\n",
              "  </thead>\n",
              "  <tbody>\n",
              "    <tr>\n",
              "      <th>0</th>\n",
              "      <td>Adoração - Prioridade, Princípios e Prática</td>\n",
              "      <td>John Charles Ryle</td>\n",
              "      <td>Editora Fiel</td>\n",
              "      <td>48</td>\n",
              "      <td>12.00 x 16.50 cm</td>\n",
              "      <td>53.00 g.</td>\n",
              "      <td>Brochura</td>\n",
              "      <td>Doutrina, Devocional, Vida Cristã</td>\n",
              "      <td>2010.0</td>\n",
              "      <td>17.7</td>\n",
              "    </tr>\n",
              "    <tr>\n",
              "      <th>1</th>\n",
              "      <td>Adoração no Lar</td>\n",
              "      <td>Joel Beeke</td>\n",
              "      <td>Editora Fiel</td>\n",
              "      <td>96</td>\n",
              "      <td>12.00 x 16.00 cm</td>\n",
              "      <td>130.00 g.</td>\n",
              "      <td>Brochura</td>\n",
              "      <td>Familia, Vida Cristã</td>\n",
              "      <td>2012.0</td>\n",
              "      <td>28.8</td>\n",
              "    </tr>\n",
              "    <tr>\n",
              "      <th>2</th>\n",
              "      <td>Amado Timóteo</td>\n",
              "      <td>Tom Ascol</td>\n",
              "      <td>Editora Fiel</td>\n",
              "      <td>320</td>\n",
              "      <td>14.00 x 21.00 cm</td>\n",
              "      <td>391.00 g.</td>\n",
              "      <td>Brochura</td>\n",
              "      <td>Teologia, Ministério</td>\n",
              "      <td>2005.0</td>\n",
              "      <td>81.9</td>\n",
              "    </tr>\n",
              "    <tr>\n",
              "      <th>3</th>\n",
              "      <td>Antes de Partir: Encarando a morte com confian...</td>\n",
              "      <td>Nancy Guthrie</td>\n",
              "      <td>Editora Fiel</td>\n",
              "      <td>176</td>\n",
              "      <td>14.00 x 21.00 cm</td>\n",
              "      <td>205.00 g.</td>\n",
              "      <td>Brochura</td>\n",
              "      <td>Aconselhamento, Vida Cristã</td>\n",
              "      <td>2013.0</td>\n",
              "      <td>51.4</td>\n",
              "    </tr>\n",
              "    <tr>\n",
              "      <th>4</th>\n",
              "      <td>O Antigo Evangelho: Um desafio para redescobri...</td>\n",
              "      <td>J. I. PACKER</td>\n",
              "      <td>Editora FIEL</td>\n",
              "      <td>72</td>\n",
              "      <td>12.00 x 16.00 cm</td>\n",
              "      <td>73.00 g.</td>\n",
              "      <td>Brochura</td>\n",
              "      <td>Doutrina</td>\n",
              "      <td>2013.0</td>\n",
              "      <td>35.5</td>\n",
              "    </tr>\n",
              "    <tr>\n",
              "      <th>...</th>\n",
              "      <td>...</td>\n",
              "      <td>...</td>\n",
              "      <td>...</td>\n",
              "      <td>...</td>\n",
              "      <td>...</td>\n",
              "      <td>...</td>\n",
              "      <td>...</td>\n",
              "      <td>...</td>\n",
              "      <td>...</td>\n",
              "      <td>...</td>\n",
              "    </tr>\n",
              "    <tr>\n",
              "      <th>697</th>\n",
              "      <td>Conselhos para obreiros</td>\n",
              "      <td>C. H. Spurgeon</td>\n",
              "      <td>Editora VIDA NOVA</td>\n",
              "      <td>160</td>\n",
              "      <td>14 x 21 cm</td>\n",
              "      <td>205</td>\n",
              "      <td>Brochura</td>\n",
              "      <td>NaN</td>\n",
              "      <td>2015.0</td>\n",
              "      <td>39.9</td>\n",
              "    </tr>\n",
              "    <tr>\n",
              "      <th>698</th>\n",
              "      <td>Romanos - Série comentário expositivo</td>\n",
              "      <td>C. Marvin Pate</td>\n",
              "      <td>Editora VIDA NOVA</td>\n",
              "      <td>368</td>\n",
              "      <td>17 x 23 cm</td>\n",
              "      <td>581</td>\n",
              "      <td>Brochura</td>\n",
              "      <td>NaN</td>\n",
              "      <td>2015.0</td>\n",
              "      <td>95.9</td>\n",
              "    </tr>\n",
              "    <tr>\n",
              "      <th>699</th>\n",
              "      <td>Gálatas para você</td>\n",
              "      <td>Timothy Keller</td>\n",
              "      <td>Editora VIDA NOVA</td>\n",
              "      <td>208</td>\n",
              "      <td>14 x 21 cm</td>\n",
              "      <td>249</td>\n",
              "      <td>Brochura</td>\n",
              "      <td>NaN</td>\n",
              "      <td>2015.0</td>\n",
              "      <td>54.9</td>\n",
              "    </tr>\n",
              "    <tr>\n",
              "      <th>700</th>\n",
              "      <td>Efésios, introdução e comentário</td>\n",
              "      <td>Francis Foulkes</td>\n",
              "      <td>Editora VIDA NOVA</td>\n",
              "      <td>152</td>\n",
              "      <td>14 x 21 cm</td>\n",
              "      <td>166</td>\n",
              "      <td>Brochura</td>\n",
              "      <td>NaN</td>\n",
              "      <td>1983.0</td>\n",
              "      <td>45.9</td>\n",
              "    </tr>\n",
              "    <tr>\n",
              "      <th>701</th>\n",
              "      <td>Plantando igrejas missionais</td>\n",
              "      <td>Ed Stetzer</td>\n",
              "      <td>Editora VIDA NOVA</td>\n",
              "      <td>432</td>\n",
              "      <td>16 x 23 cm</td>\n",
              "      <td>641</td>\n",
              "      <td>Brochura</td>\n",
              "      <td>NaN</td>\n",
              "      <td>2015.0</td>\n",
              "      <td>99.9</td>\n",
              "    </tr>\n",
              "  </tbody>\n",
              "</table>\n",
              "<p>3052 rows × 10 columns</p>\n",
              "</div>\n",
              "      <button class=\"colab-df-convert\" onclick=\"convertToInteractive('df-ac6c82e9-0926-4ee1-b054-91c1c999e5f5')\"\n",
              "              title=\"Convert this dataframe to an interactive table.\"\n",
              "              style=\"display:none;\">\n",
              "        \n",
              "  <svg xmlns=\"http://www.w3.org/2000/svg\" height=\"24px\"viewBox=\"0 0 24 24\"\n",
              "       width=\"24px\">\n",
              "    <path d=\"M0 0h24v24H0V0z\" fill=\"none\"/>\n",
              "    <path d=\"M18.56 5.44l.94 2.06.94-2.06 2.06-.94-2.06-.94-.94-2.06-.94 2.06-2.06.94zm-11 1L8.5 8.5l.94-2.06 2.06-.94-2.06-.94L8.5 2.5l-.94 2.06-2.06.94zm10 10l.94 2.06.94-2.06 2.06-.94-2.06-.94-.94-2.06-.94 2.06-2.06.94z\"/><path d=\"M17.41 7.96l-1.37-1.37c-.4-.4-.92-.59-1.43-.59-.52 0-1.04.2-1.43.59L10.3 9.45l-7.72 7.72c-.78.78-.78 2.05 0 2.83L4 21.41c.39.39.9.59 1.41.59.51 0 1.02-.2 1.41-.59l7.78-7.78 2.81-2.81c.8-.78.8-2.07 0-2.86zM5.41 20L4 18.59l7.72-7.72 1.47 1.35L5.41 20z\"/>\n",
              "  </svg>\n",
              "      </button>\n",
              "      \n",
              "  <style>\n",
              "    .colab-df-container {\n",
              "      display:flex;\n",
              "      flex-wrap:wrap;\n",
              "      gap: 12px;\n",
              "    }\n",
              "\n",
              "    .colab-df-convert {\n",
              "      background-color: #E8F0FE;\n",
              "      border: none;\n",
              "      border-radius: 50%;\n",
              "      cursor: pointer;\n",
              "      display: none;\n",
              "      fill: #1967D2;\n",
              "      height: 32px;\n",
              "      padding: 0 0 0 0;\n",
              "      width: 32px;\n",
              "    }\n",
              "\n",
              "    .colab-df-convert:hover {\n",
              "      background-color: #E2EBFA;\n",
              "      box-shadow: 0px 1px 2px rgba(60, 64, 67, 0.3), 0px 1px 3px 1px rgba(60, 64, 67, 0.15);\n",
              "      fill: #174EA6;\n",
              "    }\n",
              "\n",
              "    [theme=dark] .colab-df-convert {\n",
              "      background-color: #3B4455;\n",
              "      fill: #D2E3FC;\n",
              "    }\n",
              "\n",
              "    [theme=dark] .colab-df-convert:hover {\n",
              "      background-color: #434B5C;\n",
              "      box-shadow: 0px 1px 3px 1px rgba(0, 0, 0, 0.15);\n",
              "      filter: drop-shadow(0px 1px 2px rgba(0, 0, 0, 0.3));\n",
              "      fill: #FFFFFF;\n",
              "    }\n",
              "  </style>\n",
              "\n",
              "      <script>\n",
              "        const buttonEl =\n",
              "          document.querySelector('#df-ac6c82e9-0926-4ee1-b054-91c1c999e5f5 button.colab-df-convert');\n",
              "        buttonEl.style.display =\n",
              "          google.colab.kernel.accessAllowed ? 'block' : 'none';\n",
              "\n",
              "        async function convertToInteractive(key) {\n",
              "          const element = document.querySelector('#df-ac6c82e9-0926-4ee1-b054-91c1c999e5f5');\n",
              "          const dataTable =\n",
              "            await google.colab.kernel.invokeFunction('convertToInteractive',\n",
              "                                                     [key], {});\n",
              "          if (!dataTable) return;\n",
              "\n",
              "          const docLinkHtml = 'Like what you see? Visit the ' +\n",
              "            '<a target=\"_blank\" href=https://colab.research.google.com/notebooks/data_table.ipynb>data table notebook</a>'\n",
              "            + ' to learn more about interactive tables.';\n",
              "          element.innerHTML = '';\n",
              "          dataTable['output_type'] = 'display_data';\n",
              "          await google.colab.output.renderOutput(dataTable, element);\n",
              "          const docLink = document.createElement('div');\n",
              "          docLink.innerHTML = docLinkHtml;\n",
              "          element.appendChild(docLink);\n",
              "        }\n",
              "      </script>\n",
              "    </div>\n",
              "  </div>\n",
              "  "
            ]
          },
          "metadata": {},
          "execution_count": 223
        }
      ]
    },
    {
      "cell_type": "markdown",
      "source": [
        "Agora, é possível visualizar a participação de cada editora no dataframe."
      ],
      "metadata": {
        "id": "2oUi5znh3R34"
      }
    },
    {
      "cell_type": "code",
      "source": [
        "import matplotlib.pyplot as plt\n",
        "data['Editora'].value_counts().plot(kind='barh', figsize=(8, 10))\n",
        "plt.xlabel(\"Total\", labelpad=14)\n",
        "plt.ylabel(\"Editora\", labelpad=14)\n",
        "\n",
        "plt.show()"
      ],
      "metadata": {
        "colab": {
          "base_uri": "https://localhost:8080/",
          "height": 616
        },
        "id": "7_pe5VIpJP04",
        "outputId": "4633ebd2-2fb3-423c-f77c-f6c246a6a0be"
      },
      "execution_count": 224,
      "outputs": [
        {
          "output_type": "display_data",
          "data": {
            "text/plain": [
              "<Figure size 576x720 with 1 Axes>"
            ],
            "image/png": "[encoded data removed]"
          },
          "metadata": {
            "needs_background": "light"
          }
        }
      ]
    },
    {
      "cell_type": "markdown",
      "source": [
        "Como é possível constatar, há livros em que, seja por grafia ou por abreviação, a editora é a mesma que de outras amostras, porém foram indicados como de editoras distintas. Para isso, é necessário fazer um tratamento que coloque os livros de mesma editora juntos. Exemplo, livros da editora 'Editora FIEL' também fazem parte da editora 'Editora Fiel'."
      ],
      "metadata": {
        "id": "cM-wjNLp5MOi"
      }
    },
    {
      "cell_type": "code",
      "source": [
        "rows = data['Editora'].str.contains(\"VIDA NOVA\", na=False)\n",
        "data.loc[rows, 'Editora'] = 'Editora VIDA NOVA'\n",
        "rows = data['Editora'].str.contains(\"PES|Selecionadas|Selcionadas\", na=False, case=False)\n",
        "data.loc[rows, 'Editora'] = 'PES'\n",
        "rows = data['Editora'].str.contains(\"SHEDD\", na=False, case=False)\n",
        "data.loc[rows, 'Editora'] = 'Editora Shedd'\n",
        "rows = data['Editora'].str.contains(\"Editora Fiel\", na=False, case=False)\n",
        "data.loc[rows, 'Editora'] = 'Editora Fiel'\n",
        "rows = data['Editora'].str.contains(\"Trintias\", na=False)\n",
        "data.loc[rows, 'Editora'] = 'Editora Trinitas'\n",
        "rows = data['Editora'].str.contains(\"Unidet\", na=False)\n",
        "data.loc[rows, 'Editora'] = 'United Press'"
      ],
      "metadata": {
        "id": "u0x6RKo3bFDs"
      },
      "execution_count": 225,
      "outputs": []
    },
    {
      "cell_type": "code",
      "source": [
        "data['Editora'].value_counts().plot(kind='barh', figsize=(8, 10))\n",
        "plt.xlabel(\"Total\", labelpad=14)\n",
        "plt.ylabel(\"Editora\", labelpad=14)\n",
        "\n",
        "plt.show()"
      ],
      "metadata": {
        "colab": {
          "base_uri": "https://localhost:8080/",
          "height": 616
        },
        "id": "_WhOi4cRcC9f",
        "outputId": "ccfffecf-2fbf-40bf-bc02-59e843a9dd5d"
      },
      "execution_count": 226,
      "outputs": [
        {
          "output_type": "display_data",
          "data": {
            "text/plain": [
              "<Figure size 576x720 with 1 Axes>"
            ],
            "image/png": "[encoded data removed]"
          },
          "metadata": {
            "needs_background": "light"
          }
        }
      ]
    },
    {
      "cell_type": "markdown",
      "source": [
        "Após a aglutinação das editoras, é importante verificar e tratar, caso existam, os dados que estão com valor nulo."
      ],
      "metadata": {
        "id": "mk33tNi2Mkf7"
      }
    },
    {
      "cell_type": "code",
      "source": [
        "print(data.isnull().sum())  # descobre-se quais colunas possuem dados faltantes"
      ],
      "metadata": {
        "colab": {
          "base_uri": "https://localhost:8080/"
        },
        "id": "E7tOf_t8Y9RS",
        "outputId": "cf27a9c2-90dd-4747-8ef6-0236c5da3b5c"
      },
      "execution_count": 227,
      "outputs": [
        {
          "output_type": "stream",
          "name": "stdout",
          "text": [
            "Título           1\n",
            "Autor           54\n",
            "Editora         17\n",
            "Páginas        256\n",
            "Formato        468\n",
            "Peso            25\n",
            "Acabamento      30\n",
            "Categoria     2258\n",
            "Edição         643\n",
            "Preço            2\n",
            "dtype: int64\n"
          ]
        }
      ]
    },
    {
      "cell_type": "markdown",
      "source": [
        "Aqui, as linhas que possuem valores nulos nas colunas Autor, Categoria, Formato e Acabamento serão preenchidas com valores padrão ou como \"Desconhecido(a)\". A seguir, as amostras que ainda possuem dados nulos são excluidas do dataset e o restante passa por um tratamento necessário para prosseguir com o pipeline. "
      ],
      "metadata": {
        "id": "L7o9jp3yM7gS"
      }
    },
    {
      "cell_type": "code",
      "source": [
        "data['Autor'].fillna(value='Desconhecido', inplace=True)\n",
        "data['Categoria'].fillna(value='Desconhecida', inplace=True)\n",
        "data['Formato'].fillna(value='14 x 21cm', inplace=True)\n",
        "data['Acabamento'].fillna(value='Brochura', inplace=True)"
      ],
      "metadata": {
        "id": "7o_cghLR7s6f"
      },
      "execution_count": 228,
      "outputs": []
    },
    {
      "cell_type": "code",
      "source": [
        "data = data.copy()\n",
        "data = data.dropna()\n",
        "data.drop(\"Título\", axis=1, inplace=True)\n",
        "data = data[data[\"Editora\"].str.contains(\"Família de Trigo\") == False]\n",
        "data = data.apply(lambda x: x.astype(str).str.upper())\n",
        "data = data.assign(Páginas = lambda x: x['Páginas'].astype(str).str.extract('(\\d+)'))\n",
        "data = data.assign(Peso = lambda x: x['Peso'].astype(str).str.extract('(\\d+)'))\n",
        "rows = data['Edição'].str.contains(\"EDIÇÃO\")\n",
        "data.loc [rows, 'Edição'] = '2020.0'\n",
        "data['Preço'] = data['Preço'].apply(lambda x: str(x).replace('R$', '').replace(' ', ''))\n",
        "data['Preço'] = data['Preço'].apply(lambda x: str(x).replace('.', '') if len(str(x))>=8 else x)\n",
        "data['Preço'] = data['Preço'].apply(lambda x: str(x).replace(',', '.'))\n",
        "data['Formato'] = data['Formato'].apply(lambda x: eval(str(x).replace('X', '*').replace('×', '*').replace('CM', '').replace(',', '.').rstrip('.')))\n",
        "data"
      ],
      "metadata": {
        "colab": {
          "base_uri": "https://localhost:8080/",
          "height": 423
        },
        "id": "5KBGyxfYZVmr",
        "outputId": "7f01a297-c79e-469c-b358-7f41fd83bf43"
      },
      "execution_count": 229,
      "outputs": [
        {
          "output_type": "execute_result",
          "data": {
            "text/plain": [
              "                 Autor            Editora Páginas  Formato Peso Acabamento  \\\n",
              "0    JOHN CHARLES RYLE       EDITORA FIEL      48    198.0   53   BROCHURA   \n",
              "1           JOEL BEEKE       EDITORA FIEL      96    192.0  130   BROCHURA   \n",
              "2            TOM ASCOL       EDITORA FIEL     320    294.0  391   BROCHURA   \n",
              "3        NANCY GUTHRIE       EDITORA FIEL     176    294.0  205   BROCHURA   \n",
              "4         J. I. PACKER       EDITORA FIEL      72    192.0   73   BROCHURA   \n",
              "..                 ...                ...     ...      ...  ...        ...   \n",
              "697     C. H. SPURGEON  EDITORA VIDA NOVA     160    294.0  205   BROCHURA   \n",
              "698     C. MARVIN PATE  EDITORA VIDA NOVA     368    391.0  581   BROCHURA   \n",
              "699     TIMOTHY KELLER  EDITORA VIDA NOVA     208    294.0  249   BROCHURA   \n",
              "700    FRANCIS FOULKES  EDITORA VIDA NOVA     152    294.0  166   BROCHURA   \n",
              "701         ED STETZER  EDITORA VIDA NOVA     432    368.0  641   BROCHURA   \n",
              "\n",
              "                             Categoria  Edição Preço  \n",
              "0    DOUTRINA, DEVOCIONAL, VIDA CRISTÃ  2010.0  17.7  \n",
              "1                 FAMILIA, VIDA CRISTÃ  2012.0  28.8  \n",
              "2                 TEOLOGIA, MINISTÉRIO  2005.0  81.9  \n",
              "3          ACONSELHAMENTO, VIDA CRISTÃ  2013.0  51.4  \n",
              "4                             DOUTRINA  2013.0  35.5  \n",
              "..                                 ...     ...   ...  \n",
              "697                       DESCONHECIDA  2015.0  39.9  \n",
              "698                       DESCONHECIDA  2015.0  95.9  \n",
              "699                       DESCONHECIDA  2015.0  54.9  \n",
              "700                       DESCONHECIDA  1983.0  45.9  \n",
              "701                       DESCONHECIDA  2015.0  99.9  \n",
              "\n",
              "[2168 rows x 9 columns]"
            ],
            "text/html": [
              "\n",
              "  <div id=\"df-0555ef71-8607-4477-90be-ba033782f233\">\n",
              "    <div class=\"colab-df-container\">\n",
              "      <div>\n",
              "<style scoped>\n",
              "    .dataframe tbody tr th:only-of-type {\n",
              "        vertical-align: middle;\n",
              "    }\n",
              "\n",
              "    .dataframe tbody tr th {\n",
              "        vertical-align: top;\n",
              "    }\n",
              "\n",
              "    .dataframe thead th {\n",
              "        text-align: right;\n",
              "    }\n",
              "</style>\n",
              "<table border=\"1\" class=\"dataframe\">\n",
              "  <thead>\n",
              "    <tr style=\"text-align: right;\">\n",
              "      <th></th>\n",
              "      <th>Autor</th>\n",
              "      <th>Editora</th>\n",
              "      <th>Páginas</th>\n",
              "      <th>Formato</th>\n",
              "      <th>Peso</th>\n",
              "      <th>Acabamento</th>\n",
              "      <th>Categoria</th>\n",
              "      <th>Edição</th>\n",
              "      <th>Preço</th>\n",
              "    </tr>\n",
              "  </thead>\n",
              "  <tbody>\n",
              "    <tr>\n",
              "      <th>0</th>\n",
              "      <td>JOHN CHARLES RYLE</td>\n",
              "      <td>EDITORA FIEL</td>\n",
              "      <td>48</td>\n",
              "      <td>198.0</td>\n",
              "      <td>53</td>\n",
              "      <td>BROCHURA</td>\n",
              "      <td>DOUTRINA, DEVOCIONAL, VIDA CRISTÃ</td>\n",
              "      <td>2010.0</td>\n",
              "      <td>17.7</td>\n",
              "    </tr>\n",
              "    <tr>\n",
              "      <th>1</th>\n",
              "      <td>JOEL BEEKE</td>\n",
              "      <td>EDITORA FIEL</td>\n",
              "      <td>96</td>\n",
              "      <td>192.0</td>\n",
              "      <td>130</td>\n",
              "      <td>BROCHURA</td>\n",
              "      <td>FAMILIA, VIDA CRISTÃ</td>\n",
              "      <td>2012.0</td>\n",
              "      <td>28.8</td>\n",
              "    </tr>\n",
              "    <tr>\n",
              "      <th>2</th>\n",
              "      <td>TOM ASCOL</td>\n",
              "      <td>EDITORA FIEL</td>\n",
              "      <td>320</td>\n",
              "      <td>294.0</td>\n",
              "      <td>391</td>\n",
              "      <td>BROCHURA</td>\n",
              "      <td>TEOLOGIA, MINISTÉRIO</td>\n",
              "      <td>2005.0</td>\n",
              "      <td>81.9</td>\n",
              "    </tr>\n",
              "    <tr>\n",
              "      <th>3</th>\n",
              "      <td>NANCY GUTHRIE</td>\n",
              "      <td>EDITORA FIEL</td>\n",
              "      <td>176</td>\n",
              "      <td>294.0</td>\n",
              "      <td>205</td>\n",
              "      <td>BROCHURA</td>\n",
              "      <td>ACONSELHAMENTO, VIDA CRISTÃ</td>\n",
              "      <td>2013.0</td>\n",
              "      <td>51.4</td>\n",
              "    </tr>\n",
              "    <tr>\n",
              "      <th>4</th>\n",
              "      <td>J. I. PACKER</td>\n",
              "      <td>EDITORA FIEL</td>\n",
              "      <td>72</td>\n",
              "      <td>192.0</td>\n",
              "      <td>73</td>\n",
              "      <td>BROCHURA</td>\n",
              "      <td>DOUTRINA</td>\n",
              "      <td>2013.0</td>\n",
              "      <td>35.5</td>\n",
              "    </tr>\n",
              "    <tr>\n",
              "      <th>...</th>\n",
              "      <td>...</td>\n",
              "      <td>...</td>\n",
              "      <td>...</td>\n",
              "      <td>...</td>\n",
              "      <td>...</td>\n",
              "      <td>...</td>\n",
              "      <td>...</td>\n",
              "      <td>...</td>\n",
              "      <td>...</td>\n",
              "    </tr>\n",
              "    <tr>\n",
              "      <th>697</th>\n",
              "      <td>C. H. SPURGEON</td>\n",
              "      <td>EDITORA VIDA NOVA</td>\n",
              "      <td>160</td>\n",
              "      <td>294.0</td>\n",
              "      <td>205</td>\n",
              "      <td>BROCHURA</td>\n",
              "      <td>DESCONHECIDA</td>\n",
              "      <td>2015.0</td>\n",
              "      <td>39.9</td>\n",
              "    </tr>\n",
              "    <tr>\n",
              "      <th>698</th>\n",
              "      <td>C. MARVIN PATE</td>\n",
              "      <td>EDITORA VIDA NOVA</td>\n",
              "      <td>368</td>\n",
              "      <td>391.0</td>\n",
              "      <td>581</td>\n",
              "      <td>BROCHURA</td>\n",
              "      <td>DESCONHECIDA</td>\n",
              "      <td>2015.0</td>\n",
              "      <td>95.9</td>\n",
              "    </tr>\n",
              "    <tr>\n",
              "      <th>699</th>\n",
              "      <td>TIMOTHY KELLER</td>\n",
              "      <td>EDITORA VIDA NOVA</td>\n",
              "      <td>208</td>\n",
              "      <td>294.0</td>\n",
              "      <td>249</td>\n",
              "      <td>BROCHURA</td>\n",
              "      <td>DESCONHECIDA</td>\n",
              "      <td>2015.0</td>\n",
              "      <td>54.9</td>\n",
              "    </tr>\n",
              "    <tr>\n",
              "      <th>700</th>\n",
              "      <td>FRANCIS FOULKES</td>\n",
              "      <td>EDITORA VIDA NOVA</td>\n",
              "      <td>152</td>\n",
              "      <td>294.0</td>\n",
              "      <td>166</td>\n",
              "      <td>BROCHURA</td>\n",
              "      <td>DESCONHECIDA</td>\n",
              "      <td>1983.0</td>\n",
              "      <td>45.9</td>\n",
              "    </tr>\n",
              "    <tr>\n",
              "      <th>701</th>\n",
              "      <td>ED STETZER</td>\n",
              "      <td>EDITORA VIDA NOVA</td>\n",
              "      <td>432</td>\n",
              "      <td>368.0</td>\n",
              "      <td>641</td>\n",
              "      <td>BROCHURA</td>\n",
              "      <td>DESCONHECIDA</td>\n",
              "      <td>2015.0</td>\n",
              "      <td>99.9</td>\n",
              "    </tr>\n",
              "  </tbody>\n",
              "</table>\n",
              "<p>2168 rows × 9 columns</p>\n",
              "</div>\n",
              "      <button class=\"colab-df-convert\" onclick=\"convertToInteractive('df-0555ef71-8607-4477-90be-ba033782f233')\"\n",
              "              title=\"Convert this dataframe to an interactive table.\"\n",
              "              style=\"display:none;\">\n",
              "        \n",
              "  <svg xmlns=\"http://www.w3.org/2000/svg\" height=\"24px\"viewBox=\"0 0 24 24\"\n",
              "       width=\"24px\">\n",
              "    <path d=\"M0 0h24v24H0V0z\" fill=\"none\"/>\n",
              "    <path d=\"M18.56 5.44l.94 2.06.94-2.06 2.06-.94-2.06-.94-.94-2.06-.94 2.06-2.06.94zm-11 1L8.5 8.5l.94-2.06 2.06-.94-2.06-.94L8.5 2.5l-.94 2.06-2.06.94zm10 10l.94 2.06.94-2.06 2.06-.94-2.06-.94-.94-2.06-.94 2.06-2.06.94z\"/><path d=\"M17.41 7.96l-1.37-1.37c-.4-.4-.92-.59-1.43-.59-.52 0-1.04.2-1.43.59L10.3 9.45l-7.72 7.72c-.78.78-.78 2.05 0 2.83L4 21.41c.39.39.9.59 1.41.59.51 0 1.02-.2 1.41-.59l7.78-7.78 2.81-2.81c.8-.78.8-2.07 0-2.86zM5.41 20L4 18.59l7.72-7.72 1.47 1.35L5.41 20z\"/>\n",
              "  </svg>\n",
              "      </button>\n",
              "      \n",
              "  <style>\n",
              "    .colab-df-container {\n",
              "      display:flex;\n",
              "      flex-wrap:wrap;\n",
              "      gap: 12px;\n",
              "    }\n",
              "\n",
              "    .colab-df-convert {\n",
              "      background-color: #E8F0FE;\n",
              "      border: none;\n",
              "      border-radius: 50%;\n",
              "      cursor: pointer;\n",
              "      display: none;\n",
              "      fill: #1967D2;\n",
              "      height: 32px;\n",
              "      padding: 0 0 0 0;\n",
              "      width: 32px;\n",
              "    }\n",
              "\n",
              "    .colab-df-convert:hover {\n",
              "      background-color: #E2EBFA;\n",
              "      box-shadow: 0px 1px 2px rgba(60, 64, 67, 0.3), 0px 1px 3px 1px rgba(60, 64, 67, 0.15);\n",
              "      fill: #174EA6;\n",
              "    }\n",
              "\n",
              "    [theme=dark] .colab-df-convert {\n",
              "      background-color: #3B4455;\n",
              "      fill: #D2E3FC;\n",
              "    }\n",
              "\n",
              "    [theme=dark] .colab-df-convert:hover {\n",
              "      background-color: #434B5C;\n",
              "      box-shadow: 0px 1px 3px 1px rgba(0, 0, 0, 0.15);\n",
              "      filter: drop-shadow(0px 1px 2px rgba(0, 0, 0, 0.3));\n",
              "      fill: #FFFFFF;\n",
              "    }\n",
              "  </style>\n",
              "\n",
              "      <script>\n",
              "        const buttonEl =\n",
              "          document.querySelector('#df-0555ef71-8607-4477-90be-ba033782f233 button.colab-df-convert');\n",
              "        buttonEl.style.display =\n",
              "          google.colab.kernel.accessAllowed ? 'block' : 'none';\n",
              "\n",
              "        async function convertToInteractive(key) {\n",
              "          const element = document.querySelector('#df-0555ef71-8607-4477-90be-ba033782f233');\n",
              "          const dataTable =\n",
              "            await google.colab.kernel.invokeFunction('convertToInteractive',\n",
              "                                                     [key], {});\n",
              "          if (!dataTable) return;\n",
              "\n",
              "          const docLinkHtml = 'Like what you see? Visit the ' +\n",
              "            '<a target=\"_blank\" href=https://colab.research.google.com/notebooks/data_table.ipynb>data table notebook</a>'\n",
              "            + ' to learn more about interactive tables.';\n",
              "          element.innerHTML = '';\n",
              "          dataTable['output_type'] = 'display_data';\n",
              "          await google.colab.output.renderOutput(dataTable, element);\n",
              "          const docLink = document.createElement('div');\n",
              "          docLink.innerHTML = docLinkHtml;\n",
              "          element.appendChild(docLink);\n",
              "        }\n",
              "      </script>\n",
              "    </div>\n",
              "  </div>\n",
              "  "
            ]
          },
          "metadata": {},
          "execution_count": 229
        }
      ]
    },
    {
      "cell_type": "markdown",
      "source": [
        "Com o tratamento dos nulos, pode-se verificar quais editoras farão parte do dataset final."
      ],
      "metadata": {
        "id": "Ssrk_s8JikVQ"
      }
    },
    {
      "cell_type": "code",
      "source": [
        "data['Editora'].value_counts().plot(kind='barh', figsize=(8, 10))\n",
        "plt.xlabel(\"Total\", labelpad=14)\n",
        "plt.ylabel(\"Editora\", labelpad=14)\n",
        "\n",
        "plt.show()"
      ],
      "metadata": {
        "colab": {
          "base_uri": "https://localhost:8080/",
          "height": 616
        },
        "id": "CzVE3wBVH2ql",
        "outputId": "abea55e4-5c34-4c45-c481-48892d465fe5"
      },
      "execution_count": 230,
      "outputs": [
        {
          "output_type": "display_data",
          "data": {
            "text/plain": [
              "<Figure size 576x720 with 1 Axes>"
            ],
            "image/png": "[encoded data removed]"
          },
          "metadata": {
            "needs_background": "light"
          }
        }
      ]
    },
    {
      "cell_type": "markdown",
      "source": [
        "Como os dados de Categoria, Acabamento, Editora e Autor possuem dados no formato string, é necessário transformá-los em um formato que os modelos do sklearn consigam utilizar. Para isso, cada um desses campos tem os seus valores transformados em números."
      ],
      "metadata": {
        "id": "ugcncSgaroMW"
      }
    },
    {
      "cell_type": "code",
      "source": [
        "from sklearn.preprocessing import LabelEncoder\n",
        "\n",
        "le_category = LabelEncoder()\n",
        "le_finishing = LabelEncoder()\n",
        "le_publishing = LabelEncoder()\n",
        "le_author = LabelEncoder()\n",
        "data[\"Categoria\"] = le_category.fit_transform(data['Categoria'])\n",
        "data[\"Acabamento\"]  = le_finishing.fit_transform(data['Acabamento'])\n",
        "data[\"Editora\"] = le_publishing.fit_transform(data['Editora'])\n",
        "data[\"Autor\"] = le_author.fit_transform(data['Autor'])\n",
        "data = data.astype(float)\n",
        "data = data[data['Peso'] > 10]\n",
        "data"
      ],
      "metadata": {
        "colab": {
          "base_uri": "https://localhost:8080/",
          "height": 423
        },
        "id": "5zhLgE7UFZwv",
        "outputId": "8f297cb2-79c4-499e-8668-b044e7d5a4cc"
      },
      "execution_count": 231,
      "outputs": [
        {
          "output_type": "execute_result",
          "data": {
            "text/plain": [
              "     Autor  Editora  Páginas  Formato   Peso  Acabamento  Categoria  Edição  \\\n",
              "0    326.0      3.0     48.0    198.0   53.0         2.0       40.0  2010.0   \n",
              "1    318.0      3.0     96.0    192.0  130.0         2.0       54.0  2012.0   \n",
              "2    611.0      3.0    320.0    294.0  391.0         2.0      126.0  2005.0   \n",
              "3    466.0      3.0    176.0    294.0  205.0         2.0        5.0  2013.0   \n",
              "4    274.0      3.0     72.0    192.0   73.0         2.0       35.0  2013.0   \n",
              "..     ...      ...      ...      ...    ...         ...        ...     ...   \n",
              "697   70.0      7.0    160.0    294.0  205.0         2.0       29.0  2015.0   \n",
              "698   72.0      7.0    368.0    391.0  581.0         2.0       29.0  2015.0   \n",
              "699  604.0      7.0    208.0    294.0  249.0         2.0       29.0  2015.0   \n",
              "700  204.0      7.0    152.0    294.0  166.0         2.0       29.0  1983.0   \n",
              "701  171.0      7.0    432.0    368.0  641.0         2.0       29.0  2015.0   \n",
              "\n",
              "     Preço  \n",
              "0     17.7  \n",
              "1     28.8  \n",
              "2     81.9  \n",
              "3     51.4  \n",
              "4     35.5  \n",
              "..     ...  \n",
              "697   39.9  \n",
              "698   95.9  \n",
              "699   54.9  \n",
              "700   45.9  \n",
              "701   99.9  \n",
              "\n",
              "[1372 rows x 9 columns]"
            ],
            "text/html": [
              "\n",
              "  <div id=\"df-a7f0bfb5-9684-45ec-9a7d-9f01638b3214\">\n",
              "    <div class=\"colab-df-container\">\n",
              "      <div>\n",
              "<style scoped>\n",
              "    .dataframe tbody tr th:only-of-type {\n",
              "        vertical-align: middle;\n",
              "    }\n",
              "\n",
              "    .dataframe tbody tr th {\n",
              "        vertical-align: top;\n",
              "    }\n",
              "\n",
              "    .dataframe thead th {\n",
              "        text-align: right;\n",
              "    }\n",
              "</style>\n",
              "<table border=\"1\" class=\"dataframe\">\n",
              "  <thead>\n",
              "    <tr style=\"text-align: right;\">\n",
              "      <th></th>\n",
              "      <th>Autor</th>\n",
              "      <th>Editora</th>\n",
              "      <th>Páginas</th>\n",
              "      <th>Formato</th>\n",
              "      <th>Peso</th>\n",
              "      <th>Acabamento</th>\n",
              "      <th>Categoria</th>\n",
              "      <th>Edição</th>\n",
              "      <th>Preço</th>\n",
              "    </tr>\n",
              "  </thead>\n",
              "  <tbody>\n",
              "    <tr>\n",
              "      <th>0</th>\n",
              "      <td>326.0</td>\n",
              "      <td>3.0</td>\n",
              "      <td>48.0</td>\n",
              "      <td>198.0</td>\n",
              "      <td>53.0</td>\n",
              "      <td>2.0</td>\n",
              "      <td>40.0</td>\n",
              "      <td>2010.0</td>\n",
              "      <td>17.7</td>\n",
              "    </tr>\n",
              "    <tr>\n",
              "      <th>1</th>\n",
              "      <td>318.0</td>\n",
              "      <td>3.0</td>\n",
              "      <td>96.0</td>\n",
              "      <td>192.0</td>\n",
              "      <td>130.0</td>\n",
              "      <td>2.0</td>\n",
              "      <td>54.0</td>\n",
              "      <td>2012.0</td>\n",
              "      <td>28.8</td>\n",
              "    </tr>\n",
              "    <tr>\n",
              "      <th>2</th>\n",
              "      <td>611.0</td>\n",
              "      <td>3.0</td>\n",
              "      <td>320.0</td>\n",
              "      <td>294.0</td>\n",
              "      <td>391.0</td>\n",
              "      <td>2.0</td>\n",
              "      <td>126.0</td>\n",
              "      <td>2005.0</td>\n",
              "      <td>81.9</td>\n",
              "    </tr>\n",
              "    <tr>\n",
              "      <th>3</th>\n",
              "      <td>466.0</td>\n",
              "      <td>3.0</td>\n",
              "      <td>176.0</td>\n",
              "      <td>294.0</td>\n",
              "      <td>205.0</td>\n",
              "      <td>2.0</td>\n",
              "      <td>5.0</td>\n",
              "      <td>2013.0</td>\n",
              "      <td>51.4</td>\n",
              "    </tr>\n",
              "    <tr>\n",
              "      <th>4</th>\n",
              "      <td>274.0</td>\n",
              "      <td>3.0</td>\n",
              "      <td>72.0</td>\n",
              "      <td>192.0</td>\n",
              "      <td>73.0</td>\n",
              "      <td>2.0</td>\n",
              "      <td>35.0</td>\n",
              "      <td>2013.0</td>\n",
              "      <td>35.5</td>\n",
              "    </tr>\n",
              "    <tr>\n",
              "      <th>...</th>\n",
              "      <td>...</td>\n",
              "      <td>...</td>\n",
              "      <td>...</td>\n",
              "      <td>...</td>\n",
              "      <td>...</td>\n",
              "      <td>...</td>\n",
              "      <td>...</td>\n",
              "      <td>...</td>\n",
              "      <td>...</td>\n",
              "    </tr>\n",
              "    <tr>\n",
              "      <th>697</th>\n",
              "      <td>70.0</td>\n",
              "      <td>7.0</td>\n",
              "      <td>160.0</td>\n",
              "      <td>294.0</td>\n",
              "      <td>205.0</td>\n",
              "      <td>2.0</td>\n",
              "      <td>29.0</td>\n",
              "      <td>2015.0</td>\n",
              "      <td>39.9</td>\n",
              "    </tr>\n",
              "    <tr>\n",
              "      <th>698</th>\n",
              "      <td>72.0</td>\n",
              "      <td>7.0</td>\n",
              "      <td>368.0</td>\n",
              "      <td>391.0</td>\n",
              "      <td>581.0</td>\n",
              "      <td>2.0</td>\n",
              "      <td>29.0</td>\n",
              "      <td>2015.0</td>\n",
              "      <td>95.9</td>\n",
              "    </tr>\n",
              "    <tr>\n",
              "      <th>699</th>\n",
              "      <td>604.0</td>\n",
              "      <td>7.0</td>\n",
              "      <td>208.0</td>\n",
              "      <td>294.0</td>\n",
              "      <td>249.0</td>\n",
              "      <td>2.0</td>\n",
              "      <td>29.0</td>\n",
              "      <td>2015.0</td>\n",
              "      <td>54.9</td>\n",
              "    </tr>\n",
              "    <tr>\n",
              "      <th>700</th>\n",
              "      <td>204.0</td>\n",
              "      <td>7.0</td>\n",
              "      <td>152.0</td>\n",
              "      <td>294.0</td>\n",
              "      <td>166.0</td>\n",
              "      <td>2.0</td>\n",
              "      <td>29.0</td>\n",
              "      <td>1983.0</td>\n",
              "      <td>45.9</td>\n",
              "    </tr>\n",
              "    <tr>\n",
              "      <th>701</th>\n",
              "      <td>171.0</td>\n",
              "      <td>7.0</td>\n",
              "      <td>432.0</td>\n",
              "      <td>368.0</td>\n",
              "      <td>641.0</td>\n",
              "      <td>2.0</td>\n",
              "      <td>29.0</td>\n",
              "      <td>2015.0</td>\n",
              "      <td>99.9</td>\n",
              "    </tr>\n",
              "  </tbody>\n",
              "</table>\n",
              "<p>1372 rows × 9 columns</p>\n",
              "</div>\n",
              "      <button class=\"colab-df-convert\" onclick=\"convertToInteractive('df-a7f0bfb5-9684-45ec-9a7d-9f01638b3214')\"\n",
              "              title=\"Convert this dataframe to an interactive table.\"\n",
              "              style=\"display:none;\">\n",
              "        \n",
              "  <svg xmlns=\"http://www.w3.org/2000/svg\" height=\"24px\"viewBox=\"0 0 24 24\"\n",
              "       width=\"24px\">\n",
              "    <path d=\"M0 0h24v24H0V0z\" fill=\"none\"/>\n",
              "    <path d=\"M18.56 5.44l.94 2.06.94-2.06 2.06-.94-2.06-.94-.94-2.06-.94 2.06-2.06.94zm-11 1L8.5 8.5l.94-2.06 2.06-.94-2.06-.94L8.5 2.5l-.94 2.06-2.06.94zm10 10l.94 2.06.94-2.06 2.06-.94-2.06-.94-.94-2.06-.94 2.06-2.06.94z\"/><path d=\"M17.41 7.96l-1.37-1.37c-.4-.4-.92-.59-1.43-.59-.52 0-1.04.2-1.43.59L10.3 9.45l-7.72 7.72c-.78.78-.78 2.05 0 2.83L4 21.41c.39.39.9.59 1.41.59.51 0 1.02-.2 1.41-.59l7.78-7.78 2.81-2.81c.8-.78.8-2.07 0-2.86zM5.41 20L4 18.59l7.72-7.72 1.47 1.35L5.41 20z\"/>\n",
              "  </svg>\n",
              "      </button>\n",
              "      \n",
              "  <style>\n",
              "    .colab-df-container {\n",
              "      display:flex;\n",
              "      flex-wrap:wrap;\n",
              "      gap: 12px;\n",
              "    }\n",
              "\n",
              "    .colab-df-convert {\n",
              "      background-color: #E8F0FE;\n",
              "      border: none;\n",
              "      border-radius: 50%;\n",
              "      cursor: pointer;\n",
              "      display: none;\n",
              "      fill: #1967D2;\n",
              "      height: 32px;\n",
              "      padding: 0 0 0 0;\n",
              "      width: 32px;\n",
              "    }\n",
              "\n",
              "    .colab-df-convert:hover {\n",
              "      background-color: #E2EBFA;\n",
              "      box-shadow: 0px 1px 2px rgba(60, 64, 67, 0.3), 0px 1px 3px 1px rgba(60, 64, 67, 0.15);\n",
              "      fill: #174EA6;\n",
              "    }\n",
              "\n",
              "    [theme=dark] .colab-df-convert {\n",
              "      background-color: #3B4455;\n",
              "      fill: #D2E3FC;\n",
              "    }\n",
              "\n",
              "    [theme=dark] .colab-df-convert:hover {\n",
              "      background-color: #434B5C;\n",
              "      box-shadow: 0px 1px 3px 1px rgba(0, 0, 0, 0.15);\n",
              "      filter: drop-shadow(0px 1px 2px rgba(0, 0, 0, 0.3));\n",
              "      fill: #FFFFFF;\n",
              "    }\n",
              "  </style>\n",
              "\n",
              "      <script>\n",
              "        const buttonEl =\n",
              "          document.querySelector('#df-a7f0bfb5-9684-45ec-9a7d-9f01638b3214 button.colab-df-convert');\n",
              "        buttonEl.style.display =\n",
              "          google.colab.kernel.accessAllowed ? 'block' : 'none';\n",
              "\n",
              "        async function convertToInteractive(key) {\n",
              "          const element = document.querySelector('#df-a7f0bfb5-9684-45ec-9a7d-9f01638b3214');\n",
              "          const dataTable =\n",
              "            await google.colab.kernel.invokeFunction('convertToInteractive',\n",
              "                                                     [key], {});\n",
              "          if (!dataTable) return;\n",
              "\n",
              "          const docLinkHtml = 'Like what you see? Visit the ' +\n",
              "            '<a target=\"_blank\" href=https://colab.research.google.com/notebooks/data_table.ipynb>data table notebook</a>'\n",
              "            + ' to learn more about interactive tables.';\n",
              "          element.innerHTML = '';\n",
              "          dataTable['output_type'] = 'display_data';\n",
              "          await google.colab.output.renderOutput(dataTable, element);\n",
              "          const docLink = document.createElement('div');\n",
              "          docLink.innerHTML = docLinkHtml;\n",
              "          element.appendChild(docLink);\n",
              "        }\n",
              "      </script>\n",
              "    </div>\n",
              "  </div>\n",
              "  "
            ]
          },
          "metadata": {},
          "execution_count": 231
        }
      ]
    },
    {
      "cell_type": "markdown",
      "source": [
        "Separação dos parâmetros X e Y que serão utilizados nos modelos."
      ],
      "metadata": {
        "id": "HhqrzBr32cBV"
      }
    },
    {
      "cell_type": "markdown",
      "source": [
        "Para ter uma noção da relação entre as features e o preço, o qual é o alvo nesse experimento, utilizare-mos um heatmap das correlações das features. Nele, quanto mais próximo de 1 ou -1, maior a relação, tanto positiva quanto negativa entre as features."
      ],
      "metadata": {
        "id": "G38B_0iq3mdj"
      }
    },
    {
      "cell_type": "code",
      "source": [
        "import seaborn as sns\n",
        "\n",
        "plt.figure(figsize=(10, 10))\n",
        "sns.heatmap(data.corr(), annot=True, cmap=\"YlGnBu\")\n",
        "plt.show()\n"
      ],
      "metadata": {
        "id": "MCPLFitbaSfj",
        "colab": {
          "base_uri": "https://localhost:8080/",
          "height": 648
        },
        "outputId": "79ea6136-8b6e-4056-f887-0e0220c207b1"
      },
      "execution_count": 232,
      "outputs": [
        {
          "output_type": "display_data",
          "data": {
            "text/plain": [
              "<Figure size 720x720 with 2 Axes>"
            ],
            "image/png": "[encoded data removed]"
          },
          "metadata": {
            "needs_background": "light"
          }
        }
      ]
    },
    {
      "cell_type": "markdown",
      "source": [
        "Para a visualização, caso existam, dos outliers, utilizare-mos boxplots, que permitem ter a ideia dos intervalos dos dados de cada feature."
      ],
      "metadata": {
        "id": "wG0O14gA6k43"
      }
    },
    {
      "cell_type": "code",
      "source": [
        "fig, axs = plt.subplots(2, 3, figsize=(10, 5))\n",
        "plt1 = sns.boxplot(x=data['Editora'], ax=axs[0, 0])\n",
        "plt2 = sns.boxplot(x=data['Páginas'], ax=axs[0, 1])\n",
        "plt3 = sns.boxplot(x=data['Formato'], ax=axs[0, 2])\n",
        "plt4 = sns.boxplot(x=data['Peso'], ax=axs[1, 0])\n",
        "plt5 = sns.boxplot(x=data['Edição'], ax=axs[1, 1])\n",
        "plt6 = sns.boxplot(x=data['Preço'], ax=axs[1, 2])\n",
        "plt.tight_layout()\n",
        "plt.show()"
      ],
      "metadata": {
        "id": "f8lUjThBrid0",
        "colab": {
          "base_uri": "https://localhost:8080/",
          "height": 369
        },
        "outputId": "f59a2e38-bd3c-4465-c6ba-5ec7524aa342"
      },
      "execution_count": 233,
      "outputs": [
        {
          "output_type": "display_data",
          "data": {
            "text/plain": [
              "<Figure size 720x360 with 6 Axes>"
            ],
            "image/png": "[encoded data removed]"
          },
          "metadata": {
            "needs_background": "light"
          }
        }
      ]
    },
    {
      "cell_type": "markdown",
      "source": [
        "É possível notar a presença de outliers em Páginas, Formato, Peso, Edição e Preço. Portanto, vamos remover os outliers dessas colunas utilizando a estratégia dos quartis."
      ],
      "metadata": {
        "id": "zOWOj95E99Xf"
      }
    },
    {
      "cell_type": "code",
      "source": [
        "cols = ['Páginas', 'Formato', 'Peso', 'Preço', 'Edição']\n",
        "Q1 = data[cols].quantile(0.25)\n",
        "Q3 = data[cols].quantile(0.75)\n",
        "IQR = Q3 - Q1\n",
        "\n",
        "data = data[~((data[cols] < (Q1 - 1.5 * IQR)) |(data[cols] > (Q3 + 1.5 * IQR))).any(axis=1)]"
      ],
      "metadata": {
        "id": "XWNL-QUoV8ZM"
      },
      "execution_count": 234,
      "outputs": []
    },
    {
      "cell_type": "code",
      "source": [
        "fig, axs = plt.subplots(2, 3, figsize=(10, 5))\n",
        "plt1 = sns.boxplot(x=data['Editora'], ax=axs[0, 0])\n",
        "plt2 = sns.boxplot(x=data['Páginas'], ax=axs[0, 1])\n",
        "plt3 = sns.boxplot(x=data['Formato'], ax=axs[0, 2])\n",
        "plt4 = sns.boxplot(x=data['Peso'], ax=axs[1, 0])\n",
        "plt5 = sns.boxplot(x=data['Edição'], ax=axs[1, 1])\n",
        "plt6 = sns.boxplot(x=data['Preço'], ax=axs[1, 2])\n",
        "plt.tight_layout()\n",
        "plt.show()"
      ],
      "metadata": {
        "id": "hGgncSTCvZHX",
        "colab": {
          "base_uri": "https://localhost:8080/",
          "height": 369
        },
        "outputId": "4456eadf-2e12-4929-ff29-d863e7f84fc7"
      },
      "execution_count": 235,
      "outputs": [
        {
          "output_type": "display_data",
          "data": {
            "text/plain": [
              "<Figure size 720x360 with 6 Axes>"
            ],
            "image/png": "[encoded data removed]"
          },
          "metadata": {
            "needs_background": "light"
          }
        }
      ]
    },
    {
      "cell_type": "markdown",
      "source": [
        "Agora é possível observar que agora as distribuições dos dados estão mais uniformes. Assim, o modelo não será influenciado por esses dados que fogem muito da média.\n",
        "\n",
        "O plot adiante permite visualizar como está a relação entre cada feature e o preço e se possuem uma relação de linearidade, sigmoide, parabólica, entre outras."
      ],
      "metadata": {
        "id": "mkJ32mVATtQ3"
      }
    },
    {
      "cell_type": "code",
      "source": [
        "import numpy as np\n",
        "x_, y_ = data.Preço, data.Autor\n",
        "theta = np.polyfit(x_, y_, 2)\n",
        "y_line = theta[2] + theta[1] * pow(x_, 1) + theta[0] * pow(x_, 2)\n",
        "plt.scatter(x_, y_)\n",
        "plt.plot(x_, y_line, color='red', linestyle='--', linewidth=2)\n",
        "plt.title(\"Autor X Preço\")\n",
        "plt.show()"
      ],
      "metadata": {
        "id": "4J3UCvLM8175",
        "colab": {
          "base_uri": "https://localhost:8080/",
          "height": 281
        },
        "outputId": "d555fec6-9e82-4cec-d523-6dbe789a8c8a"
      },
      "execution_count": 236,
      "outputs": [
        {
          "output_type": "display_data",
          "data": {
            "text/plain": [
              "<Figure size 432x288 with 1 Axes>"
            ],
            "image/png": "[encoded data removed]"
          },
          "metadata": {
            "needs_background": "light"
          }
        }
      ]
    },
    {
      "cell_type": "code",
      "source": [
        "y_ = data.Editora\n",
        "theta = np.polyfit(x_, y_, 2)\n",
        "y_line = theta[2] + theta[1] * pow(x_, 1) + theta[0] * pow(x_, 2)\n",
        "plt.scatter(x_, y_)\n",
        "plt.plot(x_, y_line, color='red', linestyle='--', linewidth=2)\n",
        "plt.title(\"Editora X Preço\")\n",
        "plt.show()"
      ],
      "metadata": {
        "id": "NncPwmkJ9OzO",
        "colab": {
          "base_uri": "https://localhost:8080/",
          "height": 281
        },
        "outputId": "eec44c02-61de-4b3c-d999-81f18515b51e"
      },
      "execution_count": 237,
      "outputs": [
        {
          "output_type": "display_data",
          "data": {
            "text/plain": [
              "<Figure size 432x288 with 1 Axes>"
            ],
            "image/png": "[encoded data removed]"
          },
          "metadata": {
            "needs_background": "light"
          }
        }
      ]
    },
    {
      "cell_type": "code",
      "source": [
        "y_ = data.Páginas\n",
        "theta = np.polyfit(x_, y_, 2)\n",
        "y_line = theta[2] + theta[1] * pow(x_, 1) + theta[0] * pow(x_, 2)\n",
        "plt.scatter(x_, y_)\n",
        "plt.plot(x_, y_line, color='red', linestyle='--', linewidth=2)\n",
        "plt.title(\"Páginas X Preço\")\n",
        "plt.show()"
      ],
      "metadata": {
        "id": "xF2kPUrG9SRJ",
        "colab": {
          "base_uri": "https://localhost:8080/",
          "height": 281
        },
        "outputId": "3a9cda53-c054-427b-a89c-40504700638c"
      },
      "execution_count": 238,
      "outputs": [
        {
          "output_type": "display_data",
          "data": {
            "text/plain": [
              "<Figure size 432x288 with 1 Axes>"
            ],
            "image/png": "[encoded data removed]"
          },
          "metadata": {
            "needs_background": "light"
          }
        }
      ]
    },
    {
      "cell_type": "code",
      "source": [
        "y_ = data.Formato\n",
        "theta = np.polyfit(x_, y_, 2)\n",
        "y_line = theta[2] + theta[1] * pow(x_, 1) + theta[0] * pow(x_, 2)\n",
        "plt.scatter(x_, y_)\n",
        "plt.plot(x_, y_line, color='red', linestyle='--', linewidth=2)\n",
        "plt.title(\"Formato X Preço\")\n",
        "plt.show()"
      ],
      "metadata": {
        "id": "B9vAaXyR9Vsw",
        "colab": {
          "base_uri": "https://localhost:8080/",
          "height": 281
        },
        "outputId": "eb5e3926-12db-4325-d0e8-04791097bab0"
      },
      "execution_count": 239,
      "outputs": [
        {
          "output_type": "display_data",
          "data": {
            "text/plain": [
              "<Figure size 432x288 with 1 Axes>"
            ],
            "image/png": "[encoded data removed]"
          },
          "metadata": {
            "needs_background": "light"
          }
        }
      ]
    },
    {
      "cell_type": "code",
      "source": [
        "y_ = data.Peso\n",
        "theta = np.polyfit(x_, y_, 2)\n",
        "y_line = theta[2] + theta[1] * pow(x_, 1) + theta[0] * pow(x_, 2)\n",
        "plt.scatter(x_, y_)\n",
        "plt.plot(x_, y_line, color='red', linestyle='--', linewidth=2)\n",
        "plt.title(\"Peso X Preço\")\n",
        "plt.show()"
      ],
      "metadata": {
        "id": "T09opr0l9j6g",
        "colab": {
          "base_uri": "https://localhost:8080/",
          "height": 281
        },
        "outputId": "e0a4877f-7952-4b3e-d172-ca302856ca31"
      },
      "execution_count": 240,
      "outputs": [
        {
          "output_type": "display_data",
          "data": {
            "text/plain": [
              "<Figure size 432x288 with 1 Axes>"
            ],
            "image/png": "[encoded data removed]"
          },
          "metadata": {
            "needs_background": "light"
          }
        }
      ]
    },
    {
      "cell_type": "code",
      "source": [
        "y_ = data.Acabamento\n",
        "theta = np.polyfit(x_, y_, 2)\n",
        "y_line = theta[2] + theta[1] * pow(x_, 1) + theta[0] * pow(x_, 2)\n",
        "plt.scatter(x_, y_)\n",
        "plt.plot(x_, y_line, color='red', linestyle='--', linewidth=2)\n",
        "plt.title(\"Acabamento X Preço\")\n",
        "plt.show()"
      ],
      "metadata": {
        "id": "RJ8dFXrV9oVA",
        "colab": {
          "base_uri": "https://localhost:8080/",
          "height": 281
        },
        "outputId": "90e5a000-0a78-403a-c217-874223c53afb"
      },
      "execution_count": 241,
      "outputs": [
        {
          "output_type": "display_data",
          "data": {
            "text/plain": [
              "<Figure size 432x288 with 1 Axes>"
            ],
            "image/png": "[encoded data removed]"
          },
          "metadata": {
            "needs_background": "light"
          }
        }
      ]
    },
    {
      "cell_type": "code",
      "source": [
        "y_ = data.Categoria\n",
        "theta = np.polyfit(x_, y_, 2)\n",
        "y_line = theta[2] + theta[1] * pow(x_, 1) + theta[0] * pow(x_, 2)\n",
        "plt.scatter(x_, y_)\n",
        "plt.plot(x_, y_line, color='red', linestyle='--', linewidth=2)\n",
        "plt.title(\"Categoria X Preço\")\n",
        "plt.show()"
      ],
      "metadata": {
        "id": "03yzDDyj9rvZ",
        "colab": {
          "base_uri": "https://localhost:8080/",
          "height": 281
        },
        "outputId": "720ad9f6-c182-463c-e565-b8273472c705"
      },
      "execution_count": 242,
      "outputs": [
        {
          "output_type": "display_data",
          "data": {
            "text/plain": [
              "<Figure size 432x288 with 1 Axes>"
            ],
            "image/png": "[encoded data removed]"
          },
          "metadata": {
            "needs_background": "light"
          }
        }
      ]
    },
    {
      "cell_type": "code",
      "source": [
        "y_ = data.Edição\n",
        "theta = np.polyfit(x_, y_, 2)\n",
        "y_line = theta[2] + theta[1] * pow(x_, 1) + theta[0] * pow(x_, 2)\n",
        "plt.scatter(x_, y_)\n",
        "plt.plot(x_, y_line, color='red', linestyle='--', linewidth=2)\n",
        "plt.title(\"Edição X Preço\")\n",
        "plt.show()"
      ],
      "metadata": {
        "id": "cMxxLq_G9wEj",
        "colab": {
          "base_uri": "https://localhost:8080/",
          "height": 281
        },
        "outputId": "7f638d38-dea1-42ff-caf7-9d46a012b819"
      },
      "execution_count": 243,
      "outputs": [
        {
          "output_type": "display_data",
          "data": {
            "text/plain": [
              "<Figure size 432x288 with 1 Axes>"
            ],
            "image/png": "[encoded data removed]"
          },
          "metadata": {
            "needs_background": "light"
          }
        }
      ]
    },
    {
      "cell_type": "markdown",
      "source": [
        "Como é possível observar pro meio dos gráficos, há uma relação mais considerável entre o preço e as features Peso, Páginas e Formato. Para sustentar essa conclusão, pode-se usar, novamente, o heatmap das features, dessa vez, com a remoção dos outliers."
      ],
      "metadata": {
        "id": "RbKHYcvizIQV"
      }
    },
    {
      "cell_type": "code",
      "source": [
        "plt.figure(figsize=(10, 10))\n",
        "sns.heatmap(data.corr(), annot=True, cmap=\"YlGnBu\")\n",
        "plt.show()"
      ],
      "metadata": {
        "id": "hpy0JhNgxHdM",
        "colab": {
          "base_uri": "https://localhost:8080/",
          "height": 648
        },
        "outputId": "894b092c-d7c9-4d5b-fe11-2b7822907aa4"
      },
      "execution_count": 244,
      "outputs": [
        {
          "output_type": "display_data",
          "data": {
            "text/plain": [
              "<Figure size 720x720 with 2 Axes>"
            ],
            "image/png": "[encoded data removed]"
          },
          "metadata": {
            "needs_background": "light"
          }
        }
      ]
    },
    {
      "cell_type": "markdown",
      "source": [
        "Nessa etapa, será feita a parte prática dos modelos regressivos. Primeiro, é necessário separar as variáveis de entrada, X; e as variáveis de saída, Y. Nesse caso, Y se refere aos preços dos livros; e X, as demais features."
      ],
      "metadata": {
        "id": "1nPi6TdK9BKj"
      }
    },
    {
      "cell_type": "code",
      "source": [
        "X=data.drop('Preço',axis=1)\n",
        "y=data['Preço']"
      ],
      "metadata": {
        "id": "88a2MjT0DKbl"
      },
      "execution_count": 245,
      "outputs": []
    },
    {
      "cell_type": "markdown",
      "source": [
        "Em segundo lugar, separa-se os conjuntos de teste e treino. Para esse experimento, 70% dos dados foram utilizados para treino e 30% para teste. Para os experimentos fossem feitos sempre com o mesmo conjunto de treino e teste, é necessário atribuir o valor 42 ao parâmetro random_state."
      ],
      "metadata": {
        "id": "t-7ekpfy_OV4"
      }
    },
    {
      "cell_type": "code",
      "source": [
        "from sklearn.model_selection import train_test_split\n",
        "X_train, X_test, y_train, y_test = train_test_split(X, y, test_size=0.30, random_state=42)# Separando teste e treino\n",
        "X_train = X_train.values\n",
        "X_test = X_test.values\n",
        "y_train = y_train.values\n",
        "y_test = y_test.values"
      ],
      "metadata": {
        "id": "o5bj1AKzwdIp"
      },
      "execution_count": 246,
      "outputs": []
    },
    {
      "cell_type": "markdown",
      "source": [
        "Com tudo preparado, é hora de treinar os modelos e testá-los. Para isso, os modelos selecionados foram: Linear Regression, KNeighbors Regressor, Gradient Boosting Regressor, Elastic Net, SVR, Random Forest Regressor, Bayesian Ridge, Lasso e Ridge. Para mensurar o desempenho dos modelos foi utilizado a função r2_score e a mean_squared_error. A primeira função é avaliada com um retorno positivo quanto mais próxima de 1 se aproximar o seu valor, variando de 0 a 1. A segunda também é ótima quanto mais próxima de 1 estiver, porém, essa pode variar de infinito a 0. É importante usar a função de Mean squared error, nesse caso, pois fornece uma noção de qual é a perda, na média, que estamos tendo na precificação dos modelos. Por ser uma função quadrática, é necessário tirar a raiz do valor para ter o erro."
      ],
      "metadata": {
        "id": "E_0evrPQ_i-X"
      }
    },
    {
      "cell_type": "code",
      "source": [
        "from sklearn.linear_model import LinearRegression\n",
        "\n",
        "lr = LinearRegression()\n",
        "lr.fit(X_train, y_train)\n",
        "y_pred = lr.predict(X_test)\n",
        "\n",
        "_preds_df = pd.DataFrame(dict(Esperado=y_test, Estimado=y_pred))\n",
        "_preds_df.head()"
      ],
      "metadata": {
        "id": "ju7V4-6g3X3z",
        "colab": {
          "base_uri": "https://localhost:8080/",
          "height": 206
        },
        "outputId": "989c4e3b-9756-4055-8c10-723580cda106"
      },
      "execution_count": 247,
      "outputs": [
        {
          "output_type": "execute_result",
          "data": {
            "text/plain": [
              "   Esperado   Estimado\n",
              "0      57.9  60.013284\n",
              "1      40.0  31.785574\n",
              "2      46.0  53.059441\n",
              "3      15.9  26.036790\n",
              "4      53.9  56.893341"
            ],
            "text/html": [
              "\n",
              "  <div id=\"df-341dd164-1100-4913-a68b-26aab58b409a\">\n",
              "    <div class=\"colab-df-container\">\n",
              "      <div>\n",
              "<style scoped>\n",
              "    .dataframe tbody tr th:only-of-type {\n",
              "        vertical-align: middle;\n",
              "    }\n",
              "\n",
              "    .dataframe tbody tr th {\n",
              "        vertical-align: top;\n",
              "    }\n",
              "\n",
              "    .dataframe thead th {\n",
              "        text-align: right;\n",
              "    }\n",
              "</style>\n",
              "<table border=\"1\" class=\"dataframe\">\n",
              "  <thead>\n",
              "    <tr style=\"text-align: right;\">\n",
              "      <th></th>\n",
              "      <th>Esperado</th>\n",
              "      <th>Estimado</th>\n",
              "    </tr>\n",
              "  </thead>\n",
              "  <tbody>\n",
              "    <tr>\n",
              "      <th>0</th>\n",
              "      <td>57.9</td>\n",
              "      <td>60.013284</td>\n",
              "    </tr>\n",
              "    <tr>\n",
              "      <th>1</th>\n",
              "      <td>40.0</td>\n",
              "      <td>31.785574</td>\n",
              "    </tr>\n",
              "    <tr>\n",
              "      <th>2</th>\n",
              "      <td>46.0</td>\n",
              "      <td>53.059441</td>\n",
              "    </tr>\n",
              "    <tr>\n",
              "      <th>3</th>\n",
              "      <td>15.9</td>\n",
              "      <td>26.036790</td>\n",
              "    </tr>\n",
              "    <tr>\n",
              "      <th>4</th>\n",
              "      <td>53.9</td>\n",
              "      <td>56.893341</td>\n",
              "    </tr>\n",
              "  </tbody>\n",
              "</table>\n",
              "</div>\n",
              "      <button class=\"colab-df-convert\" onclick=\"convertToInteractive('df-341dd164-1100-4913-a68b-26aab58b409a')\"\n",
              "              title=\"Convert this dataframe to an interactive table.\"\n",
              "              style=\"display:none;\">\n",
              "        \n",
              "  <svg xmlns=\"http://www.w3.org/2000/svg\" height=\"24px\"viewBox=\"0 0 24 24\"\n",
              "       width=\"24px\">\n",
              "    <path d=\"M0 0h24v24H0V0z\" fill=\"none\"/>\n",
              "    <path d=\"M18.56 5.44l.94 2.06.94-2.06 2.06-.94-2.06-.94-.94-2.06-.94 2.06-2.06.94zm-11 1L8.5 8.5l.94-2.06 2.06-.94-2.06-.94L8.5 2.5l-.94 2.06-2.06.94zm10 10l.94 2.06.94-2.06 2.06-.94-2.06-.94-.94-2.06-.94 2.06-2.06.94z\"/><path d=\"M17.41 7.96l-1.37-1.37c-.4-.4-.92-.59-1.43-.59-.52 0-1.04.2-1.43.59L10.3 9.45l-7.72 7.72c-.78.78-.78 2.05 0 2.83L4 21.41c.39.39.9.59 1.41.59.51 0 1.02-.2 1.41-.59l7.78-7.78 2.81-2.81c.8-.78.8-2.07 0-2.86zM5.41 20L4 18.59l7.72-7.72 1.47 1.35L5.41 20z\"/>\n",
              "  </svg>\n",
              "      </button>\n",
              "      \n",
              "  <style>\n",
              "    .colab-df-container {\n",
              "      display:flex;\n",
              "      flex-wrap:wrap;\n",
              "      gap: 12px;\n",
              "    }\n",
              "\n",
              "    .colab-df-convert {\n",
              "      background-color: #E8F0FE;\n",
              "      border: none;\n",
              "      border-radius: 50%;\n",
              "      cursor: pointer;\n",
              "      display: none;\n",
              "      fill: #1967D2;\n",
              "      height: 32px;\n",
              "      padding: 0 0 0 0;\n",
              "      width: 32px;\n",
              "    }\n",
              "\n",
              "    .colab-df-convert:hover {\n",
              "      background-color: #E2EBFA;\n",
              "      box-shadow: 0px 1px 2px rgba(60, 64, 67, 0.3), 0px 1px 3px 1px rgba(60, 64, 67, 0.15);\n",
              "      fill: #174EA6;\n",
              "    }\n",
              "\n",
              "    [theme=dark] .colab-df-convert {\n",
              "      background-color: #3B4455;\n",
              "      fill: #D2E3FC;\n",
              "    }\n",
              "\n",
              "    [theme=dark] .colab-df-convert:hover {\n",
              "      background-color: #434B5C;\n",
              "      box-shadow: 0px 1px 3px 1px rgba(0, 0, 0, 0.15);\n",
              "      filter: drop-shadow(0px 1px 2px rgba(0, 0, 0, 0.3));\n",
              "      fill: #FFFFFF;\n",
              "    }\n",
              "  </style>\n",
              "\n",
              "      <script>\n",
              "        const buttonEl =\n",
              "          document.querySelector('#df-341dd164-1100-4913-a68b-26aab58b409a button.colab-df-convert');\n",
              "        buttonEl.style.display =\n",
              "          google.colab.kernel.accessAllowed ? 'block' : 'none';\n",
              "\n",
              "        async function convertToInteractive(key) {\n",
              "          const element = document.querySelector('#df-341dd164-1100-4913-a68b-26aab58b409a');\n",
              "          const dataTable =\n",
              "            await google.colab.kernel.invokeFunction('convertToInteractive',\n",
              "                                                     [key], {});\n",
              "          if (!dataTable) return;\n",
              "\n",
              "          const docLinkHtml = 'Like what you see? Visit the ' +\n",
              "            '<a target=\"_blank\" href=https://colab.research.google.com/notebooks/data_table.ipynb>data table notebook</a>'\n",
              "            + ' to learn more about interactive tables.';\n",
              "          element.innerHTML = '';\n",
              "          dataTable['output_type'] = 'display_data';\n",
              "          await google.colab.output.renderOutput(dataTable, element);\n",
              "          const docLink = document.createElement('div');\n",
              "          docLink.innerHTML = docLinkHtml;\n",
              "          element.appendChild(docLink);\n",
              "        }\n",
              "      </script>\n",
              "    </div>\n",
              "  </div>\n",
              "  "
            ]
          },
          "metadata": {},
          "execution_count": 247
        }
      ]
    },
    {
      "cell_type": "code",
      "source": [
        "from sklearn.metrics import mean_squared_error\n",
        "from sklearn.metrics import r2_score\n",
        "\n",
        "print('LinearRegression')\n",
        "print('Score: {}'.format(r2_score(y_test, y_pred)))\n",
        "print('MSE: {}'.format(mean_squared_error(y_test, y_pred)))"
      ],
      "metadata": {
        "id": "qW5JDohk7X9B",
        "colab": {
          "base_uri": "https://localhost:8080/"
        },
        "outputId": "70597214-736e-4659-e537-8ebf64378ed6"
      },
      "execution_count": 248,
      "outputs": [
        {
          "output_type": "stream",
          "name": "stdout",
          "text": [
            "LinearRegression\n",
            "Score: 0.8700795258210056\n",
            "MSE: 77.79359786453536\n"
          ]
        }
      ]
    },
    {
      "cell_type": "code",
      "source": [
        "sns.lmplot(x=\"Estimado\", y=\"Esperado\", data=_preds_df, line_kws={'color': 'red'});\n",
        "plt.show()"
      ],
      "metadata": {
        "colab": {
          "base_uri": "https://localhost:8080/",
          "height": 369
        },
        "id": "BWCLRmc-065q",
        "outputId": "c25aa14e-e7dd-4ed7-c83e-7e01b7abf939"
      },
      "execution_count": 249,
      "outputs": [
        {
          "output_type": "display_data",
          "data": {
            "text/plain": [
              "<Figure size 360x360 with 1 Axes>"
            ],
            "image/png": "[encoded data removed]"
          },
          "metadata": {
            "needs_background": "light"
          }
        }
      ]
    },
    {
      "cell_type": "code",
      "source": [
        "from sklearn.neighbors import KNeighborsRegressor\n",
        "\n",
        "knn = KNeighborsRegressor(n_neighbors=5, weights='distance')\n",
        "knn.fit(X_train, y_train)\n",
        "y_pred = knn.predict(X_test)\n",
        "\n",
        "_preds_df = pd.DataFrame(dict(Esperado=y_test, Estimado=y_pred))\n",
        "_preds_df.head()"
      ],
      "metadata": {
        "id": "tmzj9qyqBnOL",
        "colab": {
          "base_uri": "https://localhost:8080/",
          "height": 206
        },
        "outputId": "5af0172a-f136-4798-89e0-09d610fd569d"
      },
      "execution_count": 250,
      "outputs": [
        {
          "output_type": "execute_result",
          "data": {
            "text/plain": [
              "   Esperado   Estimado\n",
              "0      57.9  59.969412\n",
              "1      40.0  40.000000\n",
              "2      46.0  49.955685\n",
              "3      15.9  17.454982\n",
              "4      53.9  59.329130"
            ],
            "text/html": [
              "\n",
              "  <div id=\"df-5193fde0-c3f6-40f4-b0ad-ba914d89f9e7\">\n",
              "    <div class=\"colab-df-container\">\n",
              "      <div>\n",
              "<style scoped>\n",
              "    .dataframe tbody tr th:only-of-type {\n",
              "        vertical-align: middle;\n",
              "    }\n",
              "\n",
              "    .dataframe tbody tr th {\n",
              "        vertical-align: top;\n",
              "    }\n",
              "\n",
              "    .dataframe thead th {\n",
              "        text-align: right;\n",
              "    }\n",
              "</style>\n",
              "<table border=\"1\" class=\"dataframe\">\n",
              "  <thead>\n",
              "    <tr style=\"text-align: right;\">\n",
              "      <th></th>\n",
              "      <th>Esperado</th>\n",
              "      <th>Estimado</th>\n",
              "    </tr>\n",
              "  </thead>\n",
              "  <tbody>\n",
              "    <tr>\n",
              "      <th>0</th>\n",
              "      <td>57.9</td>\n",
              "      <td>59.969412</td>\n",
              "    </tr>\n",
              "    <tr>\n",
              "      <th>1</th>\n",
              "      <td>40.0</td>\n",
              "      <td>40.000000</td>\n",
              "    </tr>\n",
              "    <tr>\n",
              "      <th>2</th>\n",
              "      <td>46.0</td>\n",
              "      <td>49.955685</td>\n",
              "    </tr>\n",
              "    <tr>\n",
              "      <th>3</th>\n",
              "      <td>15.9</td>\n",
              "      <td>17.454982</td>\n",
              "    </tr>\n",
              "    <tr>\n",
              "      <th>4</th>\n",
              "      <td>53.9</td>\n",
              "      <td>59.329130</td>\n",
              "    </tr>\n",
              "  </tbody>\n",
              "</table>\n",
              "</div>\n",
              "      <button class=\"colab-df-convert\" onclick=\"convertToInteractive('df-5193fde0-c3f6-40f4-b0ad-ba914d89f9e7')\"\n",
              "              title=\"Convert this dataframe to an interactive table.\"\n",
              "              style=\"display:none;\">\n",
              "        \n",
              "  <svg xmlns=\"http://www.w3.org/2000/svg\" height=\"24px\"viewBox=\"0 0 24 24\"\n",
              "       width=\"24px\">\n",
              "    <path d=\"M0 0h24v24H0V0z\" fill=\"none\"/>\n",
              "    <path d=\"M18.56 5.44l.94 2.06.94-2.06 2.06-.94-2.06-.94-.94-2.06-.94 2.06-2.06.94zm-11 1L8.5 8.5l.94-2.06 2.06-.94-2.06-.94L8.5 2.5l-.94 2.06-2.06.94zm10 10l.94 2.06.94-2.06 2.06-.94-2.06-.94-.94-2.06-.94 2.06-2.06.94z\"/><path d=\"M17.41 7.96l-1.37-1.37c-.4-.4-.92-.59-1.43-.59-.52 0-1.04.2-1.43.59L10.3 9.45l-7.72 7.72c-.78.78-.78 2.05 0 2.83L4 21.41c.39.39.9.59 1.41.59.51 0 1.02-.2 1.41-.59l7.78-7.78 2.81-2.81c.8-.78.8-2.07 0-2.86zM5.41 20L4 18.59l7.72-7.72 1.47 1.35L5.41 20z\"/>\n",
              "  </svg>\n",
              "      </button>\n",
              "      \n",
              "  <style>\n",
              "    .colab-df-container {\n",
              "      display:flex;\n",
              "      flex-wrap:wrap;\n",
              "      gap: 12px;\n",
              "    }\n",
              "\n",
              "    .colab-df-convert {\n",
              "      background-color: #E8F0FE;\n",
              "      border: none;\n",
              "      border-radius: 50%;\n",
              "      cursor: pointer;\n",
              "      display: none;\n",
              "      fill: #1967D2;\n",
              "      height: 32px;\n",
              "      padding: 0 0 0 0;\n",
              "      width: 32px;\n",
              "    }\n",
              "\n",
              "    .colab-df-convert:hover {\n",
              "      background-color: #E2EBFA;\n",
              "      box-shadow: 0px 1px 2px rgba(60, 64, 67, 0.3), 0px 1px 3px 1px rgba(60, 64, 67, 0.15);\n",
              "      fill: #174EA6;\n",
              "    }\n",
              "\n",
              "    [theme=dark] .colab-df-convert {\n",
              "      background-color: #3B4455;\n",
              "      fill: #D2E3FC;\n",
              "    }\n",
              "\n",
              "    [theme=dark] .colab-df-convert:hover {\n",
              "      background-color: #434B5C;\n",
              "      box-shadow: 0px 1px 3px 1px rgba(0, 0, 0, 0.15);\n",
              "      filter: drop-shadow(0px 1px 2px rgba(0, 0, 0, 0.3));\n",
              "      fill: #FFFFFF;\n",
              "    }\n",
              "  </style>\n",
              "\n",
              "      <script>\n",
              "        const buttonEl =\n",
              "          document.querySelector('#df-5193fde0-c3f6-40f4-b0ad-ba914d89f9e7 button.colab-df-convert');\n",
              "        buttonEl.style.display =\n",
              "          google.colab.kernel.accessAllowed ? 'block' : 'none';\n",
              "\n",
              "        async function convertToInteractive(key) {\n",
              "          const element = document.querySelector('#df-5193fde0-c3f6-40f4-b0ad-ba914d89f9e7');\n",
              "          const dataTable =\n",
              "            await google.colab.kernel.invokeFunction('convertToInteractive',\n",
              "                                                     [key], {});\n",
              "          if (!dataTable) return;\n",
              "\n",
              "          const docLinkHtml = 'Like what you see? Visit the ' +\n",
              "            '<a target=\"_blank\" href=https://colab.research.google.com/notebooks/data_table.ipynb>data table notebook</a>'\n",
              "            + ' to learn more about interactive tables.';\n",
              "          element.innerHTML = '';\n",
              "          dataTable['output_type'] = 'display_data';\n",
              "          await google.colab.output.renderOutput(dataTable, element);\n",
              "          const docLink = document.createElement('div');\n",
              "          docLink.innerHTML = docLinkHtml;\n",
              "          element.appendChild(docLink);\n",
              "        }\n",
              "      </script>\n",
              "    </div>\n",
              "  </div>\n",
              "  "
            ]
          },
          "metadata": {},
          "execution_count": 250
        }
      ]
    },
    {
      "cell_type": "code",
      "source": [
        "print('KNN')\n",
        "print('Score: {}'.format(r2_score(y_test, y_pred)))\n",
        "print('MSE: {}'.format(mean_squared_error(y_test, y_pred)))"
      ],
      "metadata": {
        "id": "L9D7RiSj7H6N",
        "colab": {
          "base_uri": "https://localhost:8080/"
        },
        "outputId": "d13b652f-343e-40a8-e823-0f321b0f343f"
      },
      "execution_count": 251,
      "outputs": [
        {
          "output_type": "stream",
          "name": "stdout",
          "text": [
            "KNN\n",
            "Score: 0.8721304093975883\n",
            "MSE: 76.5655726958167\n"
          ]
        }
      ]
    },
    {
      "cell_type": "code",
      "source": [
        "sns.lmplot(x=\"Estimado\", y=\"Esperado\", data=_preds_df, line_kws={'color': 'red'});\n",
        "plt.show()"
      ],
      "metadata": {
        "colab": {
          "base_uri": "https://localhost:8080/",
          "height": 369
        },
        "id": "s4xpgjGIu_xZ",
        "outputId": "8bc49add-43e9-4b87-9931-7586feb730d3"
      },
      "execution_count": 252,
      "outputs": [
        {
          "output_type": "display_data",
          "data": {
            "text/plain": [
              "<Figure size 360x360 with 1 Axes>"
            ],
            "image/png": "[encoded data removed]"
          },
          "metadata": {
            "needs_background": "light"
          }
        }
      ]
    },
    {
      "cell_type": "code",
      "source": [
        "from sklearn.ensemble import GradientBoostingRegressor\n",
        "gbr = GradientBoostingRegressor(learning_rate=0.2, random_state=42, n_estimators=450)\n",
        "gbr.fit(X_train, y_train)\n",
        "y_pred = gbr.predict(X_test)\n",
        "\n",
        "_preds_df = pd.DataFrame(dict(Esperado=y_test, Estimado=y_pred))\n",
        "_preds_df.head()"
      ],
      "metadata": {
        "id": "IKRDC8baFv--",
        "colab": {
          "base_uri": "https://localhost:8080/",
          "height": 206
        },
        "outputId": "2c166e74-25c6-444f-e56e-b182574a0438"
      },
      "execution_count": 253,
      "outputs": [
        {
          "output_type": "execute_result",
          "data": {
            "text/plain": [
              "   Esperado   Estimado\n",
              "0      57.9  56.884115\n",
              "1      40.0  38.741425\n",
              "2      46.0  51.777437\n",
              "3      15.9  20.958729\n",
              "4      53.9  54.873737"
            ],
            "text/html": [
              "\n",
              "  <div id=\"df-0d97648c-ef0a-4914-9e9b-5db61dcebebc\">\n",
              "    <div class=\"colab-df-container\">\n",
              "      <div>\n",
              "<style scoped>\n",
              "    .dataframe tbody tr th:only-of-type {\n",
              "        vertical-align: middle;\n",
              "    }\n",
              "\n",
              "    .dataframe tbody tr th {\n",
              "        vertical-align: top;\n",
              "    }\n",
              "\n",
              "    .dataframe thead th {\n",
              "        text-align: right;\n",
              "    }\n",
              "</style>\n",
              "<table border=\"1\" class=\"dataframe\">\n",
              "  <thead>\n",
              "    <tr style=\"text-align: right;\">\n",
              "      <th></th>\n",
              "      <th>Esperado</th>\n",
              "      <th>Estimado</th>\n",
              "    </tr>\n",
              "  </thead>\n",
              "  <tbody>\n",
              "    <tr>\n",
              "      <th>0</th>\n",
              "      <td>57.9</td>\n",
              "      <td>56.884115</td>\n",
              "    </tr>\n",
              "    <tr>\n",
              "      <th>1</th>\n",
              "      <td>40.0</td>\n",
              "      <td>38.741425</td>\n",
              "    </tr>\n",
              "    <tr>\n",
              "      <th>2</th>\n",
              "      <td>46.0</td>\n",
              "      <td>51.777437</td>\n",
              "    </tr>\n",
              "    <tr>\n",
              "      <th>3</th>\n",
              "      <td>15.9</td>\n",
              "      <td>20.958729</td>\n",
              "    </tr>\n",
              "    <tr>\n",
              "      <th>4</th>\n",
              "      <td>53.9</td>\n",
              "      <td>54.873737</td>\n",
              "    </tr>\n",
              "  </tbody>\n",
              "</table>\n",
              "</div>\n",
              "      <button class=\"colab-df-convert\" onclick=\"convertToInteractive('df-0d97648c-ef0a-4914-9e9b-5db61dcebebc')\"\n",
              "              title=\"Convert this dataframe to an interactive table.\"\n",
              "              style=\"display:none;\">\n",
              "        \n",
              "  <svg xmlns=\"http://www.w3.org/2000/svg\" height=\"24px\"viewBox=\"0 0 24 24\"\n",
              "       width=\"24px\">\n",
              "    <path d=\"M0 0h24v24H0V0z\" fill=\"none\"/>\n",
              "    <path d=\"M18.56 5.44l.94 2.06.94-2.06 2.06-.94-2.06-.94-.94-2.06-.94 2.06-2.06.94zm-11 1L8.5 8.5l.94-2.06 2.06-.94-2.06-.94L8.5 2.5l-.94 2.06-2.06.94zm10 10l.94 2.06.94-2.06 2.06-.94-2.06-.94-.94-2.06-.94 2.06-2.06.94z\"/><path d=\"M17.41 7.96l-1.37-1.37c-.4-.4-.92-.59-1.43-.59-.52 0-1.04.2-1.43.59L10.3 9.45l-7.72 7.72c-.78.78-.78 2.05 0 2.83L4 21.41c.39.39.9.59 1.41.59.51 0 1.02-.2 1.41-.59l7.78-7.78 2.81-2.81c.8-.78.8-2.07 0-2.86zM5.41 20L4 18.59l7.72-7.72 1.47 1.35L5.41 20z\"/>\n",
              "  </svg>\n",
              "      </button>\n",
              "      \n",
              "  <style>\n",
              "    .colab-df-container {\n",
              "      display:flex;\n",
              "      flex-wrap:wrap;\n",
              "      gap: 12px;\n",
              "    }\n",
              "\n",
              "    .colab-df-convert {\n",
              "      background-color: #E8F0FE;\n",
              "      border: none;\n",
              "      border-radius: 50%;\n",
              "      cursor: pointer;\n",
              "      display: none;\n",
              "      fill: #1967D2;\n",
              "      height: 32px;\n",
              "      padding: 0 0 0 0;\n",
              "      width: 32px;\n",
              "    }\n",
              "\n",
              "    .colab-df-convert:hover {\n",
              "      background-color: #E2EBFA;\n",
              "      box-shadow: 0px 1px 2px rgba(60, 64, 67, 0.3), 0px 1px 3px 1px rgba(60, 64, 67, 0.15);\n",
              "      fill: #174EA6;\n",
              "    }\n",
              "\n",
              "    [theme=dark] .colab-df-convert {\n",
              "      background-color: #3B4455;\n",
              "      fill: #D2E3FC;\n",
              "    }\n",
              "\n",
              "    [theme=dark] .colab-df-convert:hover {\n",
              "      background-color: #434B5C;\n",
              "      box-shadow: 0px 1px 3px 1px rgba(0, 0, 0, 0.15);\n",
              "      filter: drop-shadow(0px 1px 2px rgba(0, 0, 0, 0.3));\n",
              "      fill: #FFFFFF;\n",
              "    }\n",
              "  </style>\n",
              "\n",
              "      <script>\n",
              "        const buttonEl =\n",
              "          document.querySelector('#df-0d97648c-ef0a-4914-9e9b-5db61dcebebc button.colab-df-convert');\n",
              "        buttonEl.style.display =\n",
              "          google.colab.kernel.accessAllowed ? 'block' : 'none';\n",
              "\n",
              "        async function convertToInteractive(key) {\n",
              "          const element = document.querySelector('#df-0d97648c-ef0a-4914-9e9b-5db61dcebebc');\n",
              "          const dataTable =\n",
              "            await google.colab.kernel.invokeFunction('convertToInteractive',\n",
              "                                                     [key], {});\n",
              "          if (!dataTable) return;\n",
              "\n",
              "          const docLinkHtml = 'Like what you see? Visit the ' +\n",
              "            '<a target=\"_blank\" href=https://colab.research.google.com/notebooks/data_table.ipynb>data table notebook</a>'\n",
              "            + ' to learn more about interactive tables.';\n",
              "          element.innerHTML = '';\n",
              "          dataTable['output_type'] = 'display_data';\n",
              "          await google.colab.output.renderOutput(dataTable, element);\n",
              "          const docLink = document.createElement('div');\n",
              "          docLink.innerHTML = docLinkHtml;\n",
              "          element.appendChild(docLink);\n",
              "        }\n",
              "      </script>\n",
              "    </div>\n",
              "  </div>\n",
              "  "
            ]
          },
          "metadata": {},
          "execution_count": 253
        }
      ]
    },
    {
      "cell_type": "code",
      "source": [
        "print('Gradient Boosting Regressor')\n",
        "print('Score: {}'.format(r2_score(y_test, y_pred)))\n",
        "print('MSE: {}'.format(mean_squared_error(y_test, y_pred)))"
      ],
      "metadata": {
        "id": "BcL2SQ-ZwAKZ",
        "colab": {
          "base_uri": "https://localhost:8080/"
        },
        "outputId": "c2e0c5a5-c3ca-499e-eb50-6f96a8601ede"
      },
      "execution_count": 254,
      "outputs": [
        {
          "output_type": "stream",
          "name": "stdout",
          "text": [
            "Gradient Boosting Regressor\n",
            "Score: 0.9232105417769586\n",
            "MSE: 45.979883240024755\n"
          ]
        }
      ]
    },
    {
      "cell_type": "code",
      "source": [
        "sns.lmplot(x=\"Estimado\", y=\"Esperado\", data=_preds_df, line_kws={'color': 'red'});\n",
        "plt.show()"
      ],
      "metadata": {
        "colab": {
          "base_uri": "https://localhost:8080/",
          "height": 369
        },
        "id": "DHVK4uVg1Io-",
        "outputId": "9cb679b2-5348-4c62-e366-498c9328ce42"
      },
      "execution_count": 255,
      "outputs": [
        {
          "output_type": "display_data",
          "data": {
            "text/plain": [
              "<Figure size 360x360 with 1 Axes>"
            ],
            "image/png": "[encoded data removed]"
          },
          "metadata": {
            "needs_background": "light"
          }
        }
      ]
    },
    {
      "cell_type": "code",
      "source": [
        "from sklearn.linear_model import ElasticNet\n",
        "elasnet = ElasticNet()\n",
        "elasnet.fit(X_train, y_train)\n",
        "y_pred = elasnet.predict(X_test)\n",
        "\n",
        "_preds_df = pd.DataFrame(dict(Esperado=y_test, Estimado=y_pred))\n",
        "_preds_df.head()"
      ],
      "metadata": {
        "id": "PAV1sP3NK2Uh",
        "colab": {
          "base_uri": "https://localhost:8080/",
          "height": 206
        },
        "outputId": "8b07e639-5650-4d30-bcbb-dbdcbc1865d9"
      },
      "execution_count": 256,
      "outputs": [
        {
          "output_type": "execute_result",
          "data": {
            "text/plain": [
              "   Esperado   Estimado\n",
              "0      57.9  59.533405\n",
              "1      40.0  31.464039\n",
              "2      46.0  52.343796\n",
              "3      15.9  25.708801\n",
              "4      53.9  56.778318"
            ],
            "text/html": [
              "\n",
              "  <div id=\"df-737e3e17-680b-4fdd-a9ac-2292c1105cc7\">\n",
              "    <div class=\"colab-df-container\">\n",
              "      <div>\n",
              "<style scoped>\n",
              "    .dataframe tbody tr th:only-of-type {\n",
              "        vertical-align: middle;\n",
              "    }\n",
              "\n",
              "    .dataframe tbody tr th {\n",
              "        vertical-align: top;\n",
              "    }\n",
              "\n",
              "    .dataframe thead th {\n",
              "        text-align: right;\n",
              "    }\n",
              "</style>\n",
              "<table border=\"1\" class=\"dataframe\">\n",
              "  <thead>\n",
              "    <tr style=\"text-align: right;\">\n",
              "      <th></th>\n",
              "      <th>Esperado</th>\n",
              "      <th>Estimado</th>\n",
              "    </tr>\n",
              "  </thead>\n",
              "  <tbody>\n",
              "    <tr>\n",
              "      <th>0</th>\n",
              "      <td>57.9</td>\n",
              "      <td>59.533405</td>\n",
              "    </tr>\n",
              "    <tr>\n",
              "      <th>1</th>\n",
              "      <td>40.0</td>\n",
              "      <td>31.464039</td>\n",
              "    </tr>\n",
              "    <tr>\n",
              "      <th>2</th>\n",
              "      <td>46.0</td>\n",
              "      <td>52.343796</td>\n",
              "    </tr>\n",
              "    <tr>\n",
              "      <th>3</th>\n",
              "      <td>15.9</td>\n",
              "      <td>25.708801</td>\n",
              "    </tr>\n",
              "    <tr>\n",
              "      <th>4</th>\n",
              "      <td>53.9</td>\n",
              "      <td>56.778318</td>\n",
              "    </tr>\n",
              "  </tbody>\n",
              "</table>\n",
              "</div>\n",
              "      <button class=\"colab-df-convert\" onclick=\"convertToInteractive('df-737e3e17-680b-4fdd-a9ac-2292c1105cc7')\"\n",
              "              title=\"Convert this dataframe to an interactive table.\"\n",
              "              style=\"display:none;\">\n",
              "        \n",
              "  <svg xmlns=\"http://www.w3.org/2000/svg\" height=\"24px\"viewBox=\"0 0 24 24\"\n",
              "       width=\"24px\">\n",
              "    <path d=\"M0 0h24v24H0V0z\" fill=\"none\"/>\n",
              "    <path d=\"M18.56 5.44l.94 2.06.94-2.06 2.06-.94-2.06-.94-.94-2.06-.94 2.06-2.06.94zm-11 1L8.5 8.5l.94-2.06 2.06-.94-2.06-.94L8.5 2.5l-.94 2.06-2.06.94zm10 10l.94 2.06.94-2.06 2.06-.94-2.06-.94-.94-2.06-.94 2.06-2.06.94z\"/><path d=\"M17.41 7.96l-1.37-1.37c-.4-.4-.92-.59-1.43-.59-.52 0-1.04.2-1.43.59L10.3 9.45l-7.72 7.72c-.78.78-.78 2.05 0 2.83L4 21.41c.39.39.9.59 1.41.59.51 0 1.02-.2 1.41-.59l7.78-7.78 2.81-2.81c.8-.78.8-2.07 0-2.86zM5.41 20L4 18.59l7.72-7.72 1.47 1.35L5.41 20z\"/>\n",
              "  </svg>\n",
              "      </button>\n",
              "      \n",
              "  <style>\n",
              "    .colab-df-container {\n",
              "      display:flex;\n",
              "      flex-wrap:wrap;\n",
              "      gap: 12px;\n",
              "    }\n",
              "\n",
              "    .colab-df-convert {\n",
              "      background-color: #E8F0FE;\n",
              "      border: none;\n",
              "      border-radius: 50%;\n",
              "      cursor: pointer;\n",
              "      display: none;\n",
              "      fill: #1967D2;\n",
              "      height: 32px;\n",
              "      padding: 0 0 0 0;\n",
              "      width: 32px;\n",
              "    }\n",
              "\n",
              "    .colab-df-convert:hover {\n",
              "      background-color: #E2EBFA;\n",
              "      box-shadow: 0px 1px 2px rgba(60, 64, 67, 0.3), 0px 1px 3px 1px rgba(60, 64, 67, 0.15);\n",
              "      fill: #174EA6;\n",
              "    }\n",
              "\n",
              "    [theme=dark] .colab-df-convert {\n",
              "      background-color: #3B4455;\n",
              "      fill: #D2E3FC;\n",
              "    }\n",
              "\n",
              "    [theme=dark] .colab-df-convert:hover {\n",
              "      background-color: #434B5C;\n",
              "      box-shadow: 0px 1px 3px 1px rgba(0, 0, 0, 0.15);\n",
              "      filter: drop-shadow(0px 1px 2px rgba(0, 0, 0, 0.3));\n",
              "      fill: #FFFFFF;\n",
              "    }\n",
              "  </style>\n",
              "\n",
              "      <script>\n",
              "        const buttonEl =\n",
              "          document.querySelector('#df-737e3e17-680b-4fdd-a9ac-2292c1105cc7 button.colab-df-convert');\n",
              "        buttonEl.style.display =\n",
              "          google.colab.kernel.accessAllowed ? 'block' : 'none';\n",
              "\n",
              "        async function convertToInteractive(key) {\n",
              "          const element = document.querySelector('#df-737e3e17-680b-4fdd-a9ac-2292c1105cc7');\n",
              "          const dataTable =\n",
              "            await google.colab.kernel.invokeFunction('convertToInteractive',\n",
              "                                                     [key], {});\n",
              "          if (!dataTable) return;\n",
              "\n",
              "          const docLinkHtml = 'Like what you see? Visit the ' +\n",
              "            '<a target=\"_blank\" href=https://colab.research.google.com/notebooks/data_table.ipynb>data table notebook</a>'\n",
              "            + ' to learn more about interactive tables.';\n",
              "          element.innerHTML = '';\n",
              "          dataTable['output_type'] = 'display_data';\n",
              "          await google.colab.output.renderOutput(dataTable, element);\n",
              "          const docLink = document.createElement('div');\n",
              "          docLink.innerHTML = docLinkHtml;\n",
              "          element.appendChild(docLink);\n",
              "        }\n",
              "      </script>\n",
              "    </div>\n",
              "  </div>\n",
              "  "
            ]
          },
          "metadata": {},
          "execution_count": 256
        }
      ]
    },
    {
      "cell_type": "code",
      "source": [
        "print('ElasticNet')\n",
        "print('Score: {}'.format(r2_score(y_test, y_pred)))\n",
        "print('MSE: {}'.format(mean_squared_error(y_test, y_pred)))"
      ],
      "metadata": {
        "id": "uzYtP17Xx62d",
        "colab": {
          "base_uri": "https://localhost:8080/"
        },
        "outputId": "e92ce7d2-ccbb-49c9-9e5a-96de6d563a41"
      },
      "execution_count": 257,
      "outputs": [
        {
          "output_type": "stream",
          "name": "stdout",
          "text": [
            "ElasticNet\n",
            "Score: 0.8738232899403079\n",
            "MSE: 75.55191207761746\n"
          ]
        }
      ]
    },
    {
      "cell_type": "code",
      "source": [
        "sns.lmplot(x=\"Estimado\", y=\"Esperado\", data=_preds_df, line_kws={'color': 'red'});\n",
        "plt.show()"
      ],
      "metadata": {
        "colab": {
          "base_uri": "https://localhost:8080/",
          "height": 369
        },
        "id": "sG-V_DrJ1OZG",
        "outputId": "5cda0d69-1a84-42e8-ea40-21edba853397"
      },
      "execution_count": 258,
      "outputs": [
        {
          "output_type": "display_data",
          "data": {
            "text/plain": [
              "<Figure size 360x360 with 1 Axes>"
            ],
            "image/png": "[encoded data removed]"
          },
          "metadata": {
            "needs_background": "light"
          }
        }
      ]
    },
    {
      "cell_type": "code",
      "source": [
        "from sklearn.svm import SVR\n",
        "svr=SVR(kernel='poly', degree=9, coef0=0.8)\n",
        "svr.fit(X_train,y_train)\n",
        "y_pred = svr.predict(X_test)\n",
        "\n",
        "_preds_df = pd.DataFrame(dict(Esperado=y_test, Estimado=y_pred))\n",
        "_preds_df.head()"
      ],
      "metadata": {
        "id": "SVUTNKXCb74x",
        "colab": {
          "base_uri": "https://localhost:8080/",
          "height": 206
        },
        "outputId": "3bc494ae-25b2-4bd1-9855-6112c09d3cc0"
      },
      "execution_count": 259,
      "outputs": [
        {
          "output_type": "execute_result",
          "data": {
            "text/plain": [
              "   Esperado   Estimado\n",
              "0      57.9  56.841091\n",
              "1      40.0  31.947932\n",
              "2      46.0  49.213226\n",
              "3      15.9  23.593880\n",
              "4      53.9  58.127654"
            ],
            "text/html": [
              "\n",
              "  <div id=\"df-23dfb861-015b-484d-9b89-6cdb24b3d2fc\">\n",
              "    <div class=\"colab-df-container\">\n",
              "      <div>\n",
              "<style scoped>\n",
              "    .dataframe tbody tr th:only-of-type {\n",
              "        vertical-align: middle;\n",
              "    }\n",
              "\n",
              "    .dataframe tbody tr th {\n",
              "        vertical-align: top;\n",
              "    }\n",
              "\n",
              "    .dataframe thead th {\n",
              "        text-align: right;\n",
              "    }\n",
              "</style>\n",
              "<table border=\"1\" class=\"dataframe\">\n",
              "  <thead>\n",
              "    <tr style=\"text-align: right;\">\n",
              "      <th></th>\n",
              "      <th>Esperado</th>\n",
              "      <th>Estimado</th>\n",
              "    </tr>\n",
              "  </thead>\n",
              "  <tbody>\n",
              "    <tr>\n",
              "      <th>0</th>\n",
              "      <td>57.9</td>\n",
              "      <td>56.841091</td>\n",
              "    </tr>\n",
              "    <tr>\n",
              "      <th>1</th>\n",
              "      <td>40.0</td>\n",
              "      <td>31.947932</td>\n",
              "    </tr>\n",
              "    <tr>\n",
              "      <th>2</th>\n",
              "      <td>46.0</td>\n",
              "      <td>49.213226</td>\n",
              "    </tr>\n",
              "    <tr>\n",
              "      <th>3</th>\n",
              "      <td>15.9</td>\n",
              "      <td>23.593880</td>\n",
              "    </tr>\n",
              "    <tr>\n",
              "      <th>4</th>\n",
              "      <td>53.9</td>\n",
              "      <td>58.127654</td>\n",
              "    </tr>\n",
              "  </tbody>\n",
              "</table>\n",
              "</div>\n",
              "      <button class=\"colab-df-convert\" onclick=\"convertToInteractive('df-23dfb861-015b-484d-9b89-6cdb24b3d2fc')\"\n",
              "              title=\"Convert this dataframe to an interactive table.\"\n",
              "              style=\"display:none;\">\n",
              "        \n",
              "  <svg xmlns=\"http://www.w3.org/2000/svg\" height=\"24px\"viewBox=\"0 0 24 24\"\n",
              "       width=\"24px\">\n",
              "    <path d=\"M0 0h24v24H0V0z\" fill=\"none\"/>\n",
              "    <path d=\"M18.56 5.44l.94 2.06.94-2.06 2.06-.94-2.06-.94-.94-2.06-.94 2.06-2.06.94zm-11 1L8.5 8.5l.94-2.06 2.06-.94-2.06-.94L8.5 2.5l-.94 2.06-2.06.94zm10 10l.94 2.06.94-2.06 2.06-.94-2.06-.94-.94-2.06-.94 2.06-2.06.94z\"/><path d=\"M17.41 7.96l-1.37-1.37c-.4-.4-.92-.59-1.43-.59-.52 0-1.04.2-1.43.59L10.3 9.45l-7.72 7.72c-.78.78-.78 2.05 0 2.83L4 21.41c.39.39.9.59 1.41.59.51 0 1.02-.2 1.41-.59l7.78-7.78 2.81-2.81c.8-.78.8-2.07 0-2.86zM5.41 20L4 18.59l7.72-7.72 1.47 1.35L5.41 20z\"/>\n",
              "  </svg>\n",
              "      </button>\n",
              "      \n",
              "  <style>\n",
              "    .colab-df-container {\n",
              "      display:flex;\n",
              "      flex-wrap:wrap;\n",
              "      gap: 12px;\n",
              "    }\n",
              "\n",
              "    .colab-df-convert {\n",
              "      background-color: #E8F0FE;\n",
              "      border: none;\n",
              "      border-radius: 50%;\n",
              "      cursor: pointer;\n",
              "      display: none;\n",
              "      fill: #1967D2;\n",
              "      height: 32px;\n",
              "      padding: 0 0 0 0;\n",
              "      width: 32px;\n",
              "    }\n",
              "\n",
              "    .colab-df-convert:hover {\n",
              "      background-color: #E2EBFA;\n",
              "      box-shadow: 0px 1px 2px rgba(60, 64, 67, 0.3), 0px 1px 3px 1px rgba(60, 64, 67, 0.15);\n",
              "      fill: #174EA6;\n",
              "    }\n",
              "\n",
              "    [theme=dark] .colab-df-convert {\n",
              "      background-color: #3B4455;\n",
              "      fill: #D2E3FC;\n",
              "    }\n",
              "\n",
              "    [theme=dark] .colab-df-convert:hover {\n",
              "      background-color: #434B5C;\n",
              "      box-shadow: 0px 1px 3px 1px rgba(0, 0, 0, 0.15);\n",
              "      filter: drop-shadow(0px 1px 2px rgba(0, 0, 0, 0.3));\n",
              "      fill: #FFFFFF;\n",
              "    }\n",
              "  </style>\n",
              "\n",
              "      <script>\n",
              "        const buttonEl =\n",
              "          document.querySelector('#df-23dfb861-015b-484d-9b89-6cdb24b3d2fc button.colab-df-convert');\n",
              "        buttonEl.style.display =\n",
              "          google.colab.kernel.accessAllowed ? 'block' : 'none';\n",
              "\n",
              "        async function convertToInteractive(key) {\n",
              "          const element = document.querySelector('#df-23dfb861-015b-484d-9b89-6cdb24b3d2fc');\n",
              "          const dataTable =\n",
              "            await google.colab.kernel.invokeFunction('convertToInteractive',\n",
              "                                                     [key], {});\n",
              "          if (!dataTable) return;\n",
              "\n",
              "          const docLinkHtml = 'Like what you see? Visit the ' +\n",
              "            '<a target=\"_blank\" href=https://colab.research.google.com/notebooks/data_table.ipynb>data table notebook</a>'\n",
              "            + ' to learn more about interactive tables.';\n",
              "          element.innerHTML = '';\n",
              "          dataTable['output_type'] = 'display_data';\n",
              "          await google.colab.output.renderOutput(dataTable, element);\n",
              "          const docLink = document.createElement('div');\n",
              "          docLink.innerHTML = docLinkHtml;\n",
              "          element.appendChild(docLink);\n",
              "        }\n",
              "      </script>\n",
              "    </div>\n",
              "  </div>\n",
              "  "
            ]
          },
          "metadata": {},
          "execution_count": 259
        }
      ]
    },
    {
      "cell_type": "code",
      "source": [
        "print('SVR')\n",
        "print('Score: {}'.format(r2_score(y_test, y_pred)))\n",
        "print('MSE: {}'.format(mean_squared_error(y_test, y_pred)))"
      ],
      "metadata": {
        "id": "s2CWK9cCyKFh",
        "colab": {
          "base_uri": "https://localhost:8080/"
        },
        "outputId": "d6bfefb0-2027-41d3-dd3c-9b813e513e7f"
      },
      "execution_count": 260,
      "outputs": [
        {
          "output_type": "stream",
          "name": "stdout",
          "text": [
            "SVR\n",
            "Score: 0.8773904841424408\n",
            "MSE: 73.41595257609113\n"
          ]
        }
      ]
    },
    {
      "cell_type": "code",
      "source": [
        "sns.lmplot(x=\"Estimado\", y=\"Esperado\", data=_preds_df, line_kws={'color': 'red'});\n",
        "plt.show()"
      ],
      "metadata": {
        "colab": {
          "base_uri": "https://localhost:8080/",
          "height": 369
        },
        "id": "isEnx5uZ1S6g",
        "outputId": "960bd8d7-73a0-4081-9e16-d15abef35244"
      },
      "execution_count": 261,
      "outputs": [
        {
          "output_type": "display_data",
          "data": {
            "text/plain": [
              "<Figure size 360x360 with 1 Axes>"
            ],
            "image/png": "[encoded data removed]"
          },
          "metadata": {
            "needs_background": "light"
          }
        }
      ]
    },
    {
      "cell_type": "code",
      "source": [
        "from sklearn.ensemble import RandomForestRegressor\n",
        "\n",
        "rf = RandomForestRegressor(n_estimators=150, random_state=1)\n",
        "rf.fit(X_train, y_train)\n",
        "y_pred = rf.predict(X_test)\n",
        "\n",
        "_preds_df = pd.DataFrame(dict(Esperado=y_test, Estimado=y_pred))\n",
        "_preds_df.head()"
      ],
      "metadata": {
        "id": "TyZXOqafg6zA",
        "colab": {
          "base_uri": "https://localhost:8080/",
          "height": 206
        },
        "outputId": "5c2d32fe-17f2-42ba-b5fe-ce2fc38a6b55"
      },
      "execution_count": 262,
      "outputs": [
        {
          "output_type": "execute_result",
          "data": {
            "text/plain": [
              "   Esperado   Estimado\n",
              "0      57.9  58.123333\n",
              "1      40.0  36.818000\n",
              "2      46.0  55.688467\n",
              "3      15.9  16.531667\n",
              "4      53.9  58.428000"
            ],
            "text/html": [
              "\n",
              "  <div id=\"df-a2030e59-c277-472f-863d-5b0d295a7701\">\n",
              "    <div class=\"colab-df-container\">\n",
              "      <div>\n",
              "<style scoped>\n",
              "    .dataframe tbody tr th:only-of-type {\n",
              "        vertical-align: middle;\n",
              "    }\n",
              "\n",
              "    .dataframe tbody tr th {\n",
              "        vertical-align: top;\n",
              "    }\n",
              "\n",
              "    .dataframe thead th {\n",
              "        text-align: right;\n",
              "    }\n",
              "</style>\n",
              "<table border=\"1\" class=\"dataframe\">\n",
              "  <thead>\n",
              "    <tr style=\"text-align: right;\">\n",
              "      <th></th>\n",
              "      <th>Esperado</th>\n",
              "      <th>Estimado</th>\n",
              "    </tr>\n",
              "  </thead>\n",
              "  <tbody>\n",
              "    <tr>\n",
              "      <th>0</th>\n",
              "      <td>57.9</td>\n",
              "      <td>58.123333</td>\n",
              "    </tr>\n",
              "    <tr>\n",
              "      <th>1</th>\n",
              "      <td>40.0</td>\n",
              "      <td>36.818000</td>\n",
              "    </tr>\n",
              "    <tr>\n",
              "      <th>2</th>\n",
              "      <td>46.0</td>\n",
              "      <td>55.688467</td>\n",
              "    </tr>\n",
              "    <tr>\n",
              "      <th>3</th>\n",
              "      <td>15.9</td>\n",
              "      <td>16.531667</td>\n",
              "    </tr>\n",
              "    <tr>\n",
              "      <th>4</th>\n",
              "      <td>53.9</td>\n",
              "      <td>58.428000</td>\n",
              "    </tr>\n",
              "  </tbody>\n",
              "</table>\n",
              "</div>\n",
              "      <button class=\"colab-df-convert\" onclick=\"convertToInteractive('df-a2030e59-c277-472f-863d-5b0d295a7701')\"\n",
              "              title=\"Convert this dataframe to an interactive table.\"\n",
              "              style=\"display:none;\">\n",
              "        \n",
              "  <svg xmlns=\"http://www.w3.org/2000/svg\" height=\"24px\"viewBox=\"0 0 24 24\"\n",
              "       width=\"24px\">\n",
              "    <path d=\"M0 0h24v24H0V0z\" fill=\"none\"/>\n",
              "    <path d=\"M18.56 5.44l.94 2.06.94-2.06 2.06-.94-2.06-.94-.94-2.06-.94 2.06-2.06.94zm-11 1L8.5 8.5l.94-2.06 2.06-.94-2.06-.94L8.5 2.5l-.94 2.06-2.06.94zm10 10l.94 2.06.94-2.06 2.06-.94-2.06-.94-.94-2.06-.94 2.06-2.06.94z\"/><path d=\"M17.41 7.96l-1.37-1.37c-.4-.4-.92-.59-1.43-.59-.52 0-1.04.2-1.43.59L10.3 9.45l-7.72 7.72c-.78.78-.78 2.05 0 2.83L4 21.41c.39.39.9.59 1.41.59.51 0 1.02-.2 1.41-.59l7.78-7.78 2.81-2.81c.8-.78.8-2.07 0-2.86zM5.41 20L4 18.59l7.72-7.72 1.47 1.35L5.41 20z\"/>\n",
              "  </svg>\n",
              "      </button>\n",
              "      \n",
              "  <style>\n",
              "    .colab-df-container {\n",
              "      display:flex;\n",
              "      flex-wrap:wrap;\n",
              "      gap: 12px;\n",
              "    }\n",
              "\n",
              "    .colab-df-convert {\n",
              "      background-color: #E8F0FE;\n",
              "      border: none;\n",
              "      border-radius: 50%;\n",
              "      cursor: pointer;\n",
              "      display: none;\n",
              "      fill: #1967D2;\n",
              "      height: 32px;\n",
              "      padding: 0 0 0 0;\n",
              "      width: 32px;\n",
              "    }\n",
              "\n",
              "    .colab-df-convert:hover {\n",
              "      background-color: #E2EBFA;\n",
              "      box-shadow: 0px 1px 2px rgba(60, 64, 67, 0.3), 0px 1px 3px 1px rgba(60, 64, 67, 0.15);\n",
              "      fill: #174EA6;\n",
              "    }\n",
              "\n",
              "    [theme=dark] .colab-df-convert {\n",
              "      background-color: #3B4455;\n",
              "      fill: #D2E3FC;\n",
              "    }\n",
              "\n",
              "    [theme=dark] .colab-df-convert:hover {\n",
              "      background-color: #434B5C;\n",
              "      box-shadow: 0px 1px 3px 1px rgba(0, 0, 0, 0.15);\n",
              "      filter: drop-shadow(0px 1px 2px rgba(0, 0, 0, 0.3));\n",
              "      fill: #FFFFFF;\n",
              "    }\n",
              "  </style>\n",
              "\n",
              "      <script>\n",
              "        const buttonEl =\n",
              "          document.querySelector('#df-a2030e59-c277-472f-863d-5b0d295a7701 button.colab-df-convert');\n",
              "        buttonEl.style.display =\n",
              "          google.colab.kernel.accessAllowed ? 'block' : 'none';\n",
              "\n",
              "        async function convertToInteractive(key) {\n",
              "          const element = document.querySelector('#df-a2030e59-c277-472f-863d-5b0d295a7701');\n",
              "          const dataTable =\n",
              "            await google.colab.kernel.invokeFunction('convertToInteractive',\n",
              "                                                     [key], {});\n",
              "          if (!dataTable) return;\n",
              "\n",
              "          const docLinkHtml = 'Like what you see? Visit the ' +\n",
              "            '<a target=\"_blank\" href=https://colab.research.google.com/notebooks/data_table.ipynb>data table notebook</a>'\n",
              "            + ' to learn more about interactive tables.';\n",
              "          element.innerHTML = '';\n",
              "          dataTable['output_type'] = 'display_data';\n",
              "          await google.colab.output.renderOutput(dataTable, element);\n",
              "          const docLink = document.createElement('div');\n",
              "          docLink.innerHTML = docLinkHtml;\n",
              "          element.appendChild(docLink);\n",
              "        }\n",
              "      </script>\n",
              "    </div>\n",
              "  </div>\n",
              "  "
            ]
          },
          "metadata": {},
          "execution_count": 262
        }
      ]
    },
    {
      "cell_type": "code",
      "source": [
        "print('RandomForestRegressor')\n",
        "print('Score: {}'.format(r2_score(y_test, y_pred)))\n",
        "print('MSE: {}'.format(mean_squared_error(y_test, y_pred)))"
      ],
      "metadata": {
        "id": "repXRgUkyaDJ",
        "colab": {
          "base_uri": "https://localhost:8080/"
        },
        "outputId": "f9023ed6-0bd0-4aef-8faa-5ad82ba8f4ae"
      },
      "execution_count": 263,
      "outputs": [
        {
          "output_type": "stream",
          "name": "stdout",
          "text": [
            "RandomForestRegressor\n",
            "Score: 0.8927581563028293\n",
            "MSE: 64.21411956467372\n"
          ]
        }
      ]
    },
    {
      "cell_type": "code",
      "source": [
        "sns.lmplot(x=\"Estimado\", y=\"Esperado\", data=_preds_df, line_kws={'color': 'red'});\n",
        "plt.show()"
      ],
      "metadata": {
        "colab": {
          "base_uri": "https://localhost:8080/",
          "height": 369
        },
        "id": "iiiU0wsW1X_W",
        "outputId": "ca0b996d-deb3-4809-ac65-84b72c6b00e9"
      },
      "execution_count": 264,
      "outputs": [
        {
          "output_type": "display_data",
          "data": {
            "text/plain": [
              "<Figure size 360x360 with 1 Axes>"
            ],
            "image/png": "[encoded data removed]"
          },
          "metadata": {
            "needs_background": "light"
          }
        }
      ]
    },
    {
      "cell_type": "code",
      "source": [
        "from sklearn.linear_model import BayesianRidge\n",
        "\n",
        "bayesian = BayesianRidge()\n",
        "bayesian.fit(X_train, y_train)\n",
        "y_pred = bayesian.predict(X_test)\n",
        "\n",
        "_preds_df = pd.DataFrame(dict(Esperado=y_test, Estimado=y_pred))\n",
        "_preds_df.head()"
      ],
      "metadata": {
        "id": "JsdA9svvmiPy",
        "colab": {
          "base_uri": "https://localhost:8080/",
          "height": 206
        },
        "outputId": "f5a4d571-ca40-47a9-87c6-346fb1ebb36d"
      },
      "execution_count": 265,
      "outputs": [
        {
          "output_type": "execute_result",
          "data": {
            "text/plain": [
              "   Esperado   Estimado\n",
              "0      57.9  59.743106\n",
              "1      40.0  31.696216\n",
              "2      46.0  52.631897\n",
              "3      15.9  25.818667\n",
              "4      53.9  56.934812"
            ],
            "text/html": [
              "\n",
              "  <div id=\"df-439b9bcb-f0f9-4884-a97a-157b4f9a2ac1\">\n",
              "    <div class=\"colab-df-container\">\n",
              "      <div>\n",
              "<style scoped>\n",
              "    .dataframe tbody tr th:only-of-type {\n",
              "        vertical-align: middle;\n",
              "    }\n",
              "\n",
              "    .dataframe tbody tr th {\n",
              "        vertical-align: top;\n",
              "    }\n",
              "\n",
              "    .dataframe thead th {\n",
              "        text-align: right;\n",
              "    }\n",
              "</style>\n",
              "<table border=\"1\" class=\"dataframe\">\n",
              "  <thead>\n",
              "    <tr style=\"text-align: right;\">\n",
              "      <th></th>\n",
              "      <th>Esperado</th>\n",
              "      <th>Estimado</th>\n",
              "    </tr>\n",
              "  </thead>\n",
              "  <tbody>\n",
              "    <tr>\n",
              "      <th>0</th>\n",
              "      <td>57.9</td>\n",
              "      <td>59.743106</td>\n",
              "    </tr>\n",
              "    <tr>\n",
              "      <th>1</th>\n",
              "      <td>40.0</td>\n",
              "      <td>31.696216</td>\n",
              "    </tr>\n",
              "    <tr>\n",
              "      <th>2</th>\n",
              "      <td>46.0</td>\n",
              "      <td>52.631897</td>\n",
              "    </tr>\n",
              "    <tr>\n",
              "      <th>3</th>\n",
              "      <td>15.9</td>\n",
              "      <td>25.818667</td>\n",
              "    </tr>\n",
              "    <tr>\n",
              "      <th>4</th>\n",
              "      <td>53.9</td>\n",
              "      <td>56.934812</td>\n",
              "    </tr>\n",
              "  </tbody>\n",
              "</table>\n",
              "</div>\n",
              "      <button class=\"colab-df-convert\" onclick=\"convertToInteractive('df-439b9bcb-f0f9-4884-a97a-157b4f9a2ac1')\"\n",
              "              title=\"Convert this dataframe to an interactive table.\"\n",
              "              style=\"display:none;\">\n",
              "        \n",
              "  <svg xmlns=\"http://www.w3.org/2000/svg\" height=\"24px\"viewBox=\"0 0 24 24\"\n",
              "       width=\"24px\">\n",
              "    <path d=\"M0 0h24v24H0V0z\" fill=\"none\"/>\n",
              "    <path d=\"M18.56 5.44l.94 2.06.94-2.06 2.06-.94-2.06-.94-.94-2.06-.94 2.06-2.06.94zm-11 1L8.5 8.5l.94-2.06 2.06-.94-2.06-.94L8.5 2.5l-.94 2.06-2.06.94zm10 10l.94 2.06.94-2.06 2.06-.94-2.06-.94-.94-2.06-.94 2.06-2.06.94z\"/><path d=\"M17.41 7.96l-1.37-1.37c-.4-.4-.92-.59-1.43-.59-.52 0-1.04.2-1.43.59L10.3 9.45l-7.72 7.72c-.78.78-.78 2.05 0 2.83L4 21.41c.39.39.9.59 1.41.59.51 0 1.02-.2 1.41-.59l7.78-7.78 2.81-2.81c.8-.78.8-2.07 0-2.86zM5.41 20L4 18.59l7.72-7.72 1.47 1.35L5.41 20z\"/>\n",
              "  </svg>\n",
              "      </button>\n",
              "      \n",
              "  <style>\n",
              "    .colab-df-container {\n",
              "      display:flex;\n",
              "      flex-wrap:wrap;\n",
              "      gap: 12px;\n",
              "    }\n",
              "\n",
              "    .colab-df-convert {\n",
              "      background-color: #E8F0FE;\n",
              "      border: none;\n",
              "      border-radius: 50%;\n",
              "      cursor: pointer;\n",
              "      display: none;\n",
              "      fill: #1967D2;\n",
              "      height: 32px;\n",
              "      padding: 0 0 0 0;\n",
              "      width: 32px;\n",
              "    }\n",
              "\n",
              "    .colab-df-convert:hover {\n",
              "      background-color: #E2EBFA;\n",
              "      box-shadow: 0px 1px 2px rgba(60, 64, 67, 0.3), 0px 1px 3px 1px rgba(60, 64, 67, 0.15);\n",
              "      fill: #174EA6;\n",
              "    }\n",
              "\n",
              "    [theme=dark] .colab-df-convert {\n",
              "      background-color: #3B4455;\n",
              "      fill: #D2E3FC;\n",
              "    }\n",
              "\n",
              "    [theme=dark] .colab-df-convert:hover {\n",
              "      background-color: #434B5C;\n",
              "      box-shadow: 0px 1px 3px 1px rgba(0, 0, 0, 0.15);\n",
              "      filter: drop-shadow(0px 1px 2px rgba(0, 0, 0, 0.3));\n",
              "      fill: #FFFFFF;\n",
              "    }\n",
              "  </style>\n",
              "\n",
              "      <script>\n",
              "        const buttonEl =\n",
              "          document.querySelector('#df-439b9bcb-f0f9-4884-a97a-157b4f9a2ac1 button.colab-df-convert');\n",
              "        buttonEl.style.display =\n",
              "          google.colab.kernel.accessAllowed ? 'block' : 'none';\n",
              "\n",
              "        async function convertToInteractive(key) {\n",
              "          const element = document.querySelector('#df-439b9bcb-f0f9-4884-a97a-157b4f9a2ac1');\n",
              "          const dataTable =\n",
              "            await google.colab.kernel.invokeFunction('convertToInteractive',\n",
              "                                                     [key], {});\n",
              "          if (!dataTable) return;\n",
              "\n",
              "          const docLinkHtml = 'Like what you see? Visit the ' +\n",
              "            '<a target=\"_blank\" href=https://colab.research.google.com/notebooks/data_table.ipynb>data table notebook</a>'\n",
              "            + ' to learn more about interactive tables.';\n",
              "          element.innerHTML = '';\n",
              "          dataTable['output_type'] = 'display_data';\n",
              "          await google.colab.output.renderOutput(dataTable, element);\n",
              "          const docLink = document.createElement('div');\n",
              "          docLink.innerHTML = docLinkHtml;\n",
              "          element.appendChild(docLink);\n",
              "        }\n",
              "      </script>\n",
              "    </div>\n",
              "  </div>\n",
              "  "
            ]
          },
          "metadata": {},
          "execution_count": 265
        }
      ]
    },
    {
      "cell_type": "code",
      "source": [
        "print('BayesianRidge')\n",
        "print('Score: {}'.format(r2_score(y_test, y_pred)))\n",
        "print('MSE: {}'.format(mean_squared_error(y_test, y_pred)))"
      ],
      "metadata": {
        "id": "76W45RJZylGt",
        "colab": {
          "base_uri": "https://localhost:8080/"
        },
        "outputId": "814880ca-36d0-4a18-ffac-66c77566350d"
      },
      "execution_count": 266,
      "outputs": [
        {
          "output_type": "stream",
          "name": "stdout",
          "text": [
            "BayesianRidge\n",
            "Score: 0.8713722563448453\n",
            "MSE: 77.01953850896183\n"
          ]
        }
      ]
    },
    {
      "cell_type": "code",
      "source": [
        "sns.lmplot(x=\"Estimado\", y=\"Esperado\", data=_preds_df, line_kws={'color': 'red'});\n",
        "plt.show()"
      ],
      "metadata": {
        "colab": {
          "base_uri": "https://localhost:8080/",
          "height": 369
        },
        "id": "1zdCN0l81byI",
        "outputId": "552cead6-06cc-42e1-f14c-787b3301b332"
      },
      "execution_count": 267,
      "outputs": [
        {
          "output_type": "display_data",
          "data": {
            "text/plain": [
              "<Figure size 360x360 with 1 Axes>"
            ],
            "image/png": "[encoded data removed]"
          },
          "metadata": {
            "needs_background": "light"
          }
        }
      ]
    },
    {
      "cell_type": "code",
      "source": [
        "from sklearn.linear_model import Lasso\n",
        "\n",
        "lasso = Lasso()\n",
        "lasso.fit(X_train, y_train)\n",
        "y_pred = lasso.predict(X_test)\n",
        "\n",
        "_preds_df = pd.DataFrame(dict(Esperado=y_test, Estimado=y_pred))\n",
        "_preds_df.head()"
      ],
      "metadata": {
        "id": "TQ9Tj3610HhQ",
        "colab": {
          "base_uri": "https://localhost:8080/",
          "height": 206
        },
        "outputId": "69190c50-eda5-4f28-d613-6488bd43905c"
      },
      "execution_count": 268,
      "outputs": [
        {
          "output_type": "execute_result",
          "data": {
            "text/plain": [
              "   Esperado   Estimado\n",
              "0      57.9  59.492286\n",
              "1      40.0  31.442043\n",
              "2      46.0  52.310801\n",
              "3      15.9  25.737625\n",
              "4      53.9  56.731068"
            ],
            "text/html": [
              "\n",
              "  <div id=\"df-ce6e0ea6-2bda-49fa-ad7d-b0187e0d85bd\">\n",
              "    <div class=\"colab-df-container\">\n",
              "      <div>\n",
              "<style scoped>\n",
              "    .dataframe tbody tr th:only-of-type {\n",
              "        vertical-align: middle;\n",
              "    }\n",
              "\n",
              "    .dataframe tbody tr th {\n",
              "        vertical-align: top;\n",
              "    }\n",
              "\n",
              "    .dataframe thead th {\n",
              "        text-align: right;\n",
              "    }\n",
              "</style>\n",
              "<table border=\"1\" class=\"dataframe\">\n",
              "  <thead>\n",
              "    <tr style=\"text-align: right;\">\n",
              "      <th></th>\n",
              "      <th>Esperado</th>\n",
              "      <th>Estimado</th>\n",
              "    </tr>\n",
              "  </thead>\n",
              "  <tbody>\n",
              "    <tr>\n",
              "      <th>0</th>\n",
              "      <td>57.9</td>\n",
              "      <td>59.492286</td>\n",
              "    </tr>\n",
              "    <tr>\n",
              "      <th>1</th>\n",
              "      <td>40.0</td>\n",
              "      <td>31.442043</td>\n",
              "    </tr>\n",
              "    <tr>\n",
              "      <th>2</th>\n",
              "      <td>46.0</td>\n",
              "      <td>52.310801</td>\n",
              "    </tr>\n",
              "    <tr>\n",
              "      <th>3</th>\n",
              "      <td>15.9</td>\n",
              "      <td>25.737625</td>\n",
              "    </tr>\n",
              "    <tr>\n",
              "      <th>4</th>\n",
              "      <td>53.9</td>\n",
              "      <td>56.731068</td>\n",
              "    </tr>\n",
              "  </tbody>\n",
              "</table>\n",
              "</div>\n",
              "      <button class=\"colab-df-convert\" onclick=\"convertToInteractive('df-ce6e0ea6-2bda-49fa-ad7d-b0187e0d85bd')\"\n",
              "              title=\"Convert this dataframe to an interactive table.\"\n",
              "              style=\"display:none;\">\n",
              "        \n",
              "  <svg xmlns=\"http://www.w3.org/2000/svg\" height=\"24px\"viewBox=\"0 0 24 24\"\n",
              "       width=\"24px\">\n",
              "    <path d=\"M0 0h24v24H0V0z\" fill=\"none\"/>\n",
              "    <path d=\"M18.56 5.44l.94 2.06.94-2.06 2.06-.94-2.06-.94-.94-2.06-.94 2.06-2.06.94zm-11 1L8.5 8.5l.94-2.06 2.06-.94-2.06-.94L8.5 2.5l-.94 2.06-2.06.94zm10 10l.94 2.06.94-2.06 2.06-.94-2.06-.94-.94-2.06-.94 2.06-2.06.94z\"/><path d=\"M17.41 7.96l-1.37-1.37c-.4-.4-.92-.59-1.43-.59-.52 0-1.04.2-1.43.59L10.3 9.45l-7.72 7.72c-.78.78-.78 2.05 0 2.83L4 21.41c.39.39.9.59 1.41.59.51 0 1.02-.2 1.41-.59l7.78-7.78 2.81-2.81c.8-.78.8-2.07 0-2.86zM5.41 20L4 18.59l7.72-7.72 1.47 1.35L5.41 20z\"/>\n",
              "  </svg>\n",
              "      </button>\n",
              "      \n",
              "  <style>\n",
              "    .colab-df-container {\n",
              "      display:flex;\n",
              "      flex-wrap:wrap;\n",
              "      gap: 12px;\n",
              "    }\n",
              "\n",
              "    .colab-df-convert {\n",
              "      background-color: #E8F0FE;\n",
              "      border: none;\n",
              "      border-radius: 50%;\n",
              "      cursor: pointer;\n",
              "      display: none;\n",
              "      fill: #1967D2;\n",
              "      height: 32px;\n",
              "      padding: 0 0 0 0;\n",
              "      width: 32px;\n",
              "    }\n",
              "\n",
              "    .colab-df-convert:hover {\n",
              "      background-color: #E2EBFA;\n",
              "      box-shadow: 0px 1px 2px rgba(60, 64, 67, 0.3), 0px 1px 3px 1px rgba(60, 64, 67, 0.15);\n",
              "      fill: #174EA6;\n",
              "    }\n",
              "\n",
              "    [theme=dark] .colab-df-convert {\n",
              "      background-color: #3B4455;\n",
              "      fill: #D2E3FC;\n",
              "    }\n",
              "\n",
              "    [theme=dark] .colab-df-convert:hover {\n",
              "      background-color: #434B5C;\n",
              "      box-shadow: 0px 1px 3px 1px rgba(0, 0, 0, 0.15);\n",
              "      filter: drop-shadow(0px 1px 2px rgba(0, 0, 0, 0.3));\n",
              "      fill: #FFFFFF;\n",
              "    }\n",
              "  </style>\n",
              "\n",
              "      <script>\n",
              "        const buttonEl =\n",
              "          document.querySelector('#df-ce6e0ea6-2bda-49fa-ad7d-b0187e0d85bd button.colab-df-convert');\n",
              "        buttonEl.style.display =\n",
              "          google.colab.kernel.accessAllowed ? 'block' : 'none';\n",
              "\n",
              "        async function convertToInteractive(key) {\n",
              "          const element = document.querySelector('#df-ce6e0ea6-2bda-49fa-ad7d-b0187e0d85bd');\n",
              "          const dataTable =\n",
              "            await google.colab.kernel.invokeFunction('convertToInteractive',\n",
              "                                                     [key], {});\n",
              "          if (!dataTable) return;\n",
              "\n",
              "          const docLinkHtml = 'Like what you see? Visit the ' +\n",
              "            '<a target=\"_blank\" href=https://colab.research.google.com/notebooks/data_table.ipynb>data table notebook</a>'\n",
              "            + ' to learn more about interactive tables.';\n",
              "          element.innerHTML = '';\n",
              "          dataTable['output_type'] = 'display_data';\n",
              "          await google.colab.output.renderOutput(dataTable, element);\n",
              "          const docLink = document.createElement('div');\n",
              "          docLink.innerHTML = docLinkHtml;\n",
              "          element.appendChild(docLink);\n",
              "        }\n",
              "      </script>\n",
              "    </div>\n",
              "  </div>\n",
              "  "
            ]
          },
          "metadata": {},
          "execution_count": 268
        }
      ]
    },
    {
      "cell_type": "code",
      "source": [
        "print('Lasso')\n",
        "print('Score: {}'.format(r2_score(y_test, y_pred)))\n",
        "print('MSE: {}'.format(mean_squared_error(y_test, y_pred)))"
      ],
      "metadata": {
        "id": "07rCCv9eyv8u",
        "colab": {
          "base_uri": "https://localhost:8080/"
        },
        "outputId": "4f62e05f-ddb8-4fed-904a-c83d018e0245"
      },
      "execution_count": 269,
      "outputs": [
        {
          "output_type": "stream",
          "name": "stdout",
          "text": [
            "Lasso\n",
            "Score: 0.8737279469734959\n",
            "MSE: 75.60900140450191\n"
          ]
        }
      ]
    },
    {
      "cell_type": "code",
      "source": [
        "sns.lmplot(x=\"Estimado\", y=\"Esperado\", data=_preds_df, line_kws={'color': 'red'});\n",
        "plt.show()"
      ],
      "metadata": {
        "colab": {
          "base_uri": "https://localhost:8080/",
          "height": 369
        },
        "id": "3coR-BJy1giu",
        "outputId": "cf585f02-dc53-41e1-d743-3315dda6a1ac"
      },
      "execution_count": 270,
      "outputs": [
        {
          "output_type": "display_data",
          "data": {
            "text/plain": [
              "<Figure size 360x360 with 1 Axes>"
            ],
            "image/png": "[encoded data removed]"
          },
          "metadata": {
            "needs_background": "light"
          }
        }
      ]
    },
    {
      "cell_type": "code",
      "source": [
        "from sklearn.linear_model import Ridge\n",
        "\n",
        "ridge = Ridge(alpha=0.1)\n",
        "ridge.fit(X_train, y_train)\n",
        "y_pred = ridge.predict(X_test)\n",
        "\n",
        "_preds_df = pd.DataFrame(dict(Esperado=y_test, Estimado=y_pred))\n",
        "_preds_df.head()"
      ],
      "metadata": {
        "id": "IGqKXYIl0l7r",
        "colab": {
          "base_uri": "https://localhost:8080/",
          "height": 206
        },
        "outputId": "064b0f22-df9d-42f7-88e6-ecbaf691b3b6"
      },
      "execution_count": 271,
      "outputs": [
        {
          "output_type": "execute_result",
          "data": {
            "text/plain": [
              "   Esperado   Estimado\n",
              "0      57.9  60.013203\n",
              "1      40.0  31.785547\n",
              "2      46.0  53.059312\n",
              "3      15.9  26.036724\n",
              "4      53.9  56.893354"
            ],
            "text/html": [
              "\n",
              "  <div id=\"df-2047af59-4a12-4992-875c-7824fc3d6d91\">\n",
              "    <div class=\"colab-df-container\">\n",
              "      <div>\n",
              "<style scoped>\n",
              "    .dataframe tbody tr th:only-of-type {\n",
              "        vertical-align: middle;\n",
              "    }\n",
              "\n",
              "    .dataframe tbody tr th {\n",
              "        vertical-align: top;\n",
              "    }\n",
              "\n",
              "    .dataframe thead th {\n",
              "        text-align: right;\n",
              "    }\n",
              "</style>\n",
              "<table border=\"1\" class=\"dataframe\">\n",
              "  <thead>\n",
              "    <tr style=\"text-align: right;\">\n",
              "      <th></th>\n",
              "      <th>Esperado</th>\n",
              "      <th>Estimado</th>\n",
              "    </tr>\n",
              "  </thead>\n",
              "  <tbody>\n",
              "    <tr>\n",
              "      <th>0</th>\n",
              "      <td>57.9</td>\n",
              "      <td>60.013203</td>\n",
              "    </tr>\n",
              "    <tr>\n",
              "      <th>1</th>\n",
              "      <td>40.0</td>\n",
              "      <td>31.785547</td>\n",
              "    </tr>\n",
              "    <tr>\n",
              "      <th>2</th>\n",
              "      <td>46.0</td>\n",
              "      <td>53.059312</td>\n",
              "    </tr>\n",
              "    <tr>\n",
              "      <th>3</th>\n",
              "      <td>15.9</td>\n",
              "      <td>26.036724</td>\n",
              "    </tr>\n",
              "    <tr>\n",
              "      <th>4</th>\n",
              "      <td>53.9</td>\n",
              "      <td>56.893354</td>\n",
              "    </tr>\n",
              "  </tbody>\n",
              "</table>\n",
              "</div>\n",
              "      <button class=\"colab-df-convert\" onclick=\"convertToInteractive('df-2047af59-4a12-4992-875c-7824fc3d6d91')\"\n",
              "              title=\"Convert this dataframe to an interactive table.\"\n",
              "              style=\"display:none;\">\n",
              "        \n",
              "  <svg xmlns=\"http://www.w3.org/2000/svg\" height=\"24px\"viewBox=\"0 0 24 24\"\n",
              "       width=\"24px\">\n",
              "    <path d=\"M0 0h24v24H0V0z\" fill=\"none\"/>\n",
              "    <path d=\"M18.56 5.44l.94 2.06.94-2.06 2.06-.94-2.06-.94-.94-2.06-.94 2.06-2.06.94zm-11 1L8.5 8.5l.94-2.06 2.06-.94-2.06-.94L8.5 2.5l-.94 2.06-2.06.94zm10 10l.94 2.06.94-2.06 2.06-.94-2.06-.94-.94-2.06-.94 2.06-2.06.94z\"/><path d=\"M17.41 7.96l-1.37-1.37c-.4-.4-.92-.59-1.43-.59-.52 0-1.04.2-1.43.59L10.3 9.45l-7.72 7.72c-.78.78-.78 2.05 0 2.83L4 21.41c.39.39.9.59 1.41.59.51 0 1.02-.2 1.41-.59l7.78-7.78 2.81-2.81c.8-.78.8-2.07 0-2.86zM5.41 20L4 18.59l7.72-7.72 1.47 1.35L5.41 20z\"/>\n",
              "  </svg>\n",
              "      </button>\n",
              "      \n",
              "  <style>\n",
              "    .colab-df-container {\n",
              "      display:flex;\n",
              "      flex-wrap:wrap;\n",
              "      gap: 12px;\n",
              "    }\n",
              "\n",
              "    .colab-df-convert {\n",
              "      background-color: #E8F0FE;\n",
              "      border: none;\n",
              "      border-radius: 50%;\n",
              "      cursor: pointer;\n",
              "      display: none;\n",
              "      fill: #1967D2;\n",
              "      height: 32px;\n",
              "      padding: 0 0 0 0;\n",
              "      width: 32px;\n",
              "    }\n",
              "\n",
              "    .colab-df-convert:hover {\n",
              "      background-color: #E2EBFA;\n",
              "      box-shadow: 0px 1px 2px rgba(60, 64, 67, 0.3), 0px 1px 3px 1px rgba(60, 64, 67, 0.15);\n",
              "      fill: #174EA6;\n",
              "    }\n",
              "\n",
              "    [theme=dark] .colab-df-convert {\n",
              "      background-color: #3B4455;\n",
              "      fill: #D2E3FC;\n",
              "    }\n",
              "\n",
              "    [theme=dark] .colab-df-convert:hover {\n",
              "      background-color: #434B5C;\n",
              "      box-shadow: 0px 1px 3px 1px rgba(0, 0, 0, 0.15);\n",
              "      filter: drop-shadow(0px 1px 2px rgba(0, 0, 0, 0.3));\n",
              "      fill: #FFFFFF;\n",
              "    }\n",
              "  </style>\n",
              "\n",
              "      <script>\n",
              "        const buttonEl =\n",
              "          document.querySelector('#df-2047af59-4a12-4992-875c-7824fc3d6d91 button.colab-df-convert');\n",
              "        buttonEl.style.display =\n",
              "          google.colab.kernel.accessAllowed ? 'block' : 'none';\n",
              "\n",
              "        async function convertToInteractive(key) {\n",
              "          const element = document.querySelector('#df-2047af59-4a12-4992-875c-7824fc3d6d91');\n",
              "          const dataTable =\n",
              "            await google.colab.kernel.invokeFunction('convertToInteractive',\n",
              "                                                     [key], {});\n",
              "          if (!dataTable) return;\n",
              "\n",
              "          const docLinkHtml = 'Like what you see? Visit the ' +\n",
              "            '<a target=\"_blank\" href=https://colab.research.google.com/notebooks/data_table.ipynb>data table notebook</a>'\n",
              "            + ' to learn more about interactive tables.';\n",
              "          element.innerHTML = '';\n",
              "          dataTable['output_type'] = 'display_data';\n",
              "          await google.colab.output.renderOutput(dataTable, element);\n",
              "          const docLink = document.createElement('div');\n",
              "          docLink.innerHTML = docLinkHtml;\n",
              "          element.appendChild(docLink);\n",
              "        }\n",
              "      </script>\n",
              "    </div>\n",
              "  </div>\n",
              "  "
            ]
          },
          "metadata": {},
          "execution_count": 271
        }
      ]
    },
    {
      "cell_type": "code",
      "source": [
        "print('Ridge')\n",
        "print('Score: {}'.format(r2_score(y_test, y_pred)))\n",
        "print('MSE: {}'.format(mean_squared_error(y_test, y_pred)))"
      ],
      "metadata": {
        "id": "YZlboaISz3gj",
        "colab": {
          "base_uri": "https://localhost:8080/"
        },
        "outputId": "672c6e21-1e81-4fbd-d182-7901579120f3"
      },
      "execution_count": 272,
      "outputs": [
        {
          "output_type": "stream",
          "name": "stdout",
          "text": [
            "Ridge\n",
            "Score: 0.8700799579089014\n",
            "MSE: 77.7933391395559\n"
          ]
        }
      ]
    },
    {
      "cell_type": "code",
      "source": [
        "sns.lmplot(x=\"Estimado\", y=\"Esperado\", data=_preds_df, line_kws={'color': 'red'});\n",
        "plt.show()"
      ],
      "metadata": {
        "colab": {
          "base_uri": "https://localhost:8080/",
          "height": 369
        },
        "id": "B3mLAVz51lP5",
        "outputId": "29c6b2d1-0bec-4fe4-beb2-1a3ae86cff05"
      },
      "execution_count": 273,
      "outputs": [
        {
          "output_type": "display_data",
          "data": {
            "text/plain": [
              "<Figure size 360x360 with 1 Axes>"
            ],
            "image/png": "[encoded data removed]"
          },
          "metadata": {
            "needs_background": "light"
          }
        }
      ]
    },
    {
      "cell_type": "markdown",
      "source": [
        "Por esses testes, é possível concluir que o melhor modelo foi o Gradient Boosting Regressor, pois obteve o maior valor de R2 e o menor Mean squared error, apresentando um valor aproximado de 46, significando uma perda média de R$ 6,78; o que é um valor justo para esse problema.\n",
        "\n",
        "Por fim, pode-se utilizar os resultados obtidos até então para predizer novos valores de entrada que não estão no dataset."
      ],
      "metadata": {
        "id": "aNA0upGOM-hg"
      }
    },
    {
      "cell_type": "code",
      "source": [
        "import re\n",
        "\n",
        "author = input('Autor: ')\n",
        "publishing = input('Editora: ')\n",
        "pages = input('Páginas: ')\n",
        "format = input('Formato (largura x altura em centimetros): ')\n",
        "weight = input('Peso (em gramas): ')\n",
        "finishing = input('Acabamento: ')\n",
        "category = input('Categoria: ')\n",
        "edition = input('Edição (ano): ')\n",
        "\n",
        "dict_book = {'Autor': author,\n",
        "             'Editora': publishing,\n",
        "             'Páginas': pages,\n",
        "             'Formato': format,\n",
        "             'Peso': weight,\n",
        "             'Acabamento': finishing,\n",
        "             'Categoria': category,\n",
        "             'Edição': edition}\n",
        "\n",
        "for k,v in dict_book.items():\n",
        "  if isinstance(v, str):\n",
        "    dict_book.update({k: v.upper()})\n",
        "\n",
        "book_serie = pd.Series(dict_book)\n",
        "print(book_serie)"
      ],
      "metadata": {
        "id": "fuLmMZRnHIXv",
        "colab": {
          "base_uri": "https://localhost:8080/"
        },
        "outputId": "bf311cfd-30ec-4451-8b04-f611ba4cfdb8"
      },
      "execution_count": 274,
      "outputs": [
        {
          "output_type": "stream",
          "name": "stdout",
          "text": [
            "Autor: Jen Oshman\n",
            "Editora: Editora Fiel\n",
            "Páginas: 240 páginas\n",
            "Formato (largura x altura em centimetros): 14 x 21cm\n",
            "Peso (em gramas): 275 g.\n",
            "Acabamento: Brochura\n",
            "Categoria: Mulheres, Cosmovisão\n",
            "Edição (ano): 2023\n",
            "Autor                   JEN OSHMAN\n",
            "Editora               EDITORA FIEL\n",
            "Páginas                240 PÁGINAS\n",
            "Formato                  14 X 21CM\n",
            "Peso                        275 G.\n",
            "Acabamento                BROCHURA\n",
            "Categoria     MULHERES, COSMOVISÃO\n",
            "Edição                        2023\n",
            "dtype: object\n"
          ]
        }
      ]
    },
    {
      "cell_type": "markdown",
      "source": [
        "Com as entradas transformadas em uma Series do pandas, podemos passar os dados de entradas por um pipeline semelhante ao usado para o dataframe, tendo como objeto preparar a entrada para poder ser prevista pelo modelo treinado. Utiliza-se os mesmos label encoders anteriores e, caso os dados de entrada não constem no encoder, é atribuido um valor padrão."
      ],
      "metadata": {
        "id": "vQ1to_UsVYxa"
      }
    },
    {
      "cell_type": "code",
      "source": [
        "le_dict_author = dict(zip(le_author.classes_, le_author.transform(le_author.classes_)))\n",
        "le_dict_finishing = dict(zip(le_finishing.classes_, le_finishing.transform(le_finishing.classes_)))\n",
        "le_dict_category = dict(zip(le_category.classes_, le_category.transform(le_category.classes_)))\n",
        "le_dict_publishing = dict(zip(le_publishing.classes_, le_publishing.transform(le_publishing.classes_)))\n",
        "\n",
        "\n",
        "new_author = le_dict_author.get(book_serie['Autor'], '<Unknown>')\n",
        "new_category = le_dict_category.get(book_serie['Categoria'], '<Unknown>')\n",
        "new_publishing = le_dict_publishing.get(book_serie['Editora'], '<Unknown>')\n",
        "new_finishing = le_dict_finishing.get(book_serie['Acabamento'], '<Unknown>')\n",
        "\n",
        "if new_author == '<Unknown>':\n",
        "  new_author = le_dict_author.get('DESCONHECIDO')\n",
        "\n",
        "if new_category == '<Unknown>':\n",
        "  new_category = le_dict_category.get('DESCONHECIDA')\n",
        "\n",
        "if new_publishing == '<Unknown>':\n",
        "  new_publishing = le_dict_publishing.get('EDITORA FIEL')\n",
        "\n",
        "if new_finishing == '<Unknown>':\n",
        "  new_finishing = le_dict_finishing.get('BROCHURA')\n",
        "\n",
        "\n",
        "book_serie['Autor'] = new_author\n",
        "book_serie['Categoria'] = new_category\n",
        "book_serie['Editora'] = new_publishing\n",
        "book_serie['Acabamento'] = new_finishing\n",
        "book_serie['Páginas'] = re.findall(r'\\d+', book_serie['Páginas'])[0]\n",
        "book_serie['Peso'] = re.findall(r'\\d+', book_serie['Peso'])[0]\n",
        "book_serie['Formato'] = eval(str(book_serie['Formato']).replace('X', '*').replace('CM', ''))\n",
        "book_serie = book_serie.astype(float)\n",
        "\n",
        "print(book_serie)"
      ],
      "metadata": {
        "colab": {
          "base_uri": "https://localhost:8080/"
        },
        "id": "osSnrP06KWfn",
        "outputId": "4b9dae47-aa48-417d-a626-819e15696e46"
      },
      "execution_count": 275,
      "outputs": [
        {
          "output_type": "stream",
          "name": "stdout",
          "text": [
            "Autor          303.0\n",
            "Editora          3.0\n",
            "Páginas        240.0\n",
            "Formato        294.0\n",
            "Peso           275.0\n",
            "Acabamento       2.0\n",
            "Categoria       29.0\n",
            "Edição        2023.0\n",
            "dtype: float64\n"
          ]
        }
      ]
    },
    {
      "cell_type": "code",
      "source": [
        "price_predict = gbr.predict(book_serie.values.reshape(1, -1))[0]\n",
        "print(f'Preço previsto para o livro de entrada = {price_predict}')"
      ],
      "metadata": {
        "colab": {
          "base_uri": "https://localhost:8080/"
        },
        "id": "fdnU0IPwtIQW",
        "outputId": "937d5589-1e27-4c6a-e682-82cdf958abfc"
      },
      "execution_count": 276,
      "outputs": [
        {
          "output_type": "stream",
          "name": "stdout",
          "text": [
            "Preço previsto para o livro de entrada = 58.81647105950792\n"
          ]
        }
      ]
    }
  ]
}